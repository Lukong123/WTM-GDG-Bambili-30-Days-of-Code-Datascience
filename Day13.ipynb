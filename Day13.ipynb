{
  "nbformat": 4,
  "nbformat_minor": 0,
  "metadata": {
    "colab": {
      "provenance": [],
      "authorship_tag": "ABX9TyMA7uh0gbMeiX7LxCJDmNAN",
      "include_colab_link": true
    },
    "kernelspec": {
      "name": "python3",
      "display_name": "Python 3"
    },
    "language_info": {
      "name": "python"
    }
  },
  "cells": [
    {
      "cell_type": "markdown",
      "metadata": {
        "id": "view-in-github",
        "colab_type": "text"
      },
      "source": [
        "<a href=\"https://colab.research.google.com/github/Lukong123/WTM-GDG-Bambili-30-Days-of-Code-Datascience/blob/main/Day13.ipynb\" target=\"_parent\"><img src=\"https://colab.research.google.com/assets/colab-badge.svg\" alt=\"Open In Colab\"/></a>"
      ]
    },
    {
      "cell_type": "code",
      "execution_count": 3,
      "metadata": {
        "colab": {
          "base_uri": "https://localhost:8080/"
        },
        "id": "2YS7isZh81pA",
        "outputId": "d8af25bd-50e7-4735-f00c-7524ab80156b"
      },
      "outputs": [
        {
          "output_type": "execute_result",
          "data": {
            "text/plain": [
              "[1, 4, 9, 16, 25]"
            ]
          },
          "metadata": {},
          "execution_count": 3
        }
      ],
      "source": [
        "# maps\n",
        "def square(number):\n",
        "  return number ** 2\n",
        "numbers = [1, 2, 3, 4, 5]\n",
        "squared = map(square, numbers)\n",
        "list(squared)\n"
      ]
    },
    {
      "cell_type": "code",
      "source": [
        "str_nums = [\"4\", \"8\", \"6\", \"5\", \"3\", \"2\", \"8\", \"9\", \"2\", \"5\"]\n",
        "int_nums = map(int, str_nums)\n",
        "int_nums\n",
        "list(int_nums) # you need to use list to have int_nums\n"
      ],
      "metadata": {
        "colab": {
          "base_uri": "https://localhost:8080/"
        },
        "id": "LQICsXgD_y9Z",
        "outputId": "4c1ca2c7-ddd2-4cb1-ec30-d0d67ee40b37"
      },
      "execution_count": 7,
      "outputs": [
        {
          "output_type": "execute_result",
          "data": {
            "text/plain": [
              "[4, 8, 6, 5, 3, 2, 8, 9, 2, 5]"
            ]
          },
          "metadata": {},
          "execution_count": 7
        }
      ]
    },
    {
      "cell_type": "code",
      "source": [
        "words = [\"Welcome\", \"to\", \"Real\", \"Python\"]\n",
        "list(map(len, words))"
      ],
      "metadata": {
        "colab": {
          "base_uri": "https://localhost:8080/"
        },
        "id": "amkAI9nFAY6p",
        "outputId": "1bd86b77-0f92-492f-9c18-ea39a21cadfd"
      },
      "execution_count": 9,
      "outputs": [
        {
          "output_type": "execute_result",
          "data": {
            "text/plain": [
              "[7, 2, 4, 6]"
            ]
          },
          "metadata": {},
          "execution_count": 9
        }
      ]
    },
    {
      "cell_type": "code",
      "source": [
        "# lambda\n",
        "numbers = [1, 2, 3, 4, 5]\n",
        "squared = map(lambda num: num **2, numbers)\n",
        "list(squared)"
      ],
      "metadata": {
        "colab": {
          "base_uri": "https://localhost:8080/"
        },
        "id": "unrk-WCBAr6_",
        "outputId": "6d4e7e4e-23eb-430d-cbf9-6e527737eb8f"
      },
      "execution_count": 11,
      "outputs": [
        {
          "output_type": "execute_result",
          "data": {
            "text/plain": [
              "[1, 4, 9, 16, 25]"
            ]
          },
          "metadata": {},
          "execution_count": 11
        }
      ]
    },
    {
      "cell_type": "code",
      "source": [
        "# multiple iterable\n",
        "first_it = [1, 2, 3]\n",
        "second_it = [4, 5, 6, 7]\n",
        "list(map(pow, first_it, second_it))"
      ],
      "metadata": {
        "colab": {
          "base_uri": "https://localhost:8080/"
        },
        "id": "WGmzdftgBFuj",
        "outputId": "1639f7d4-5964-406c-d61f-d42eb5b03029"
      },
      "execution_count": 13,
      "outputs": [
        {
          "output_type": "execute_result",
          "data": {
            "text/plain": [
              "[1, 32, 729]"
            ]
          },
          "metadata": {},
          "execution_count": 13
        }
      ]
    },
    {
      "cell_type": "code",
      "source": [
        "list(map(lambda x, y: x - y, [2, 4, 6], [1, 3, 5]))"
      ],
      "metadata": {
        "colab": {
          "base_uri": "https://localhost:8080/"
        },
        "id": "vN1KPdUbBuxE",
        "outputId": "cbca9de4-00af-4d7b-ee1d-0f0c77237066"
      },
      "execution_count": 15,
      "outputs": [
        {
          "output_type": "execute_result",
          "data": {
            "text/plain": [
              "[1, 1, 1]"
            ]
          },
          "metadata": {},
          "execution_count": 15
        }
      ]
    },
    {
      "cell_type": "code",
      "source": [
        "# transforming iterables of strings\n",
        "string_it = [\"processing\", \"strings\", \"with\", \"map\"]\n",
        "list(map(str.capitalize, string_it))\n"
      ],
      "metadata": {
        "colab": {
          "base_uri": "https://localhost:8080/"
        },
        "id": "dH3ZysyuCiwz",
        "outputId": "bdd756ab-4ceb-4b9b-d329-e6f8356b5316"
      },
      "execution_count": 17,
      "outputs": [
        {
          "output_type": "execute_result",
          "data": {
            "text/plain": [
              "['Processing', 'Strings', 'With', 'Map']"
            ]
          },
          "metadata": {},
          "execution_count": 17
        }
      ]
    },
    {
      "cell_type": "code",
      "source": [
        "with_spaces = [\"processing \", \"  strings\", \"with   \", \" map   \"]\n",
        "list(map(str.strip, with_spaces))"
      ],
      "metadata": {
        "colab": {
          "base_uri": "https://localhost:8080/"
        },
        "id": "Z9oFN6tQDBKV",
        "outputId": "cfe81b60-d7db-4b82-fe50-22fc14b7c3e7"
      },
      "execution_count": 19,
      "outputs": [
        {
          "output_type": "execute_result",
          "data": {
            "text/plain": [
              "['processing', 'strings', 'with', 'map']"
            ]
          },
          "metadata": {},
          "execution_count": 19
        }
      ]
    },
    {
      "cell_type": "code",
      "source": [
        "def rotate_chr(c):\n",
        "    rot_by = 3\n",
        "    c = c.lower()\n",
        "    alphabet = \"abcdefghijklmnopqrstuvwxyz\"\n",
        "    if c not in alphabet:\n",
        "        return c\n",
        "    rotated_pos = ord(c) + rot_by\n",
        "    if rotated_pos <= ord(alphabet[-1]):\n",
        "        return chr(rotated_pos)\n",
        "    return chr(rotated_pos - len(alphabet))"
      ],
      "metadata": {
        "id": "LxO90pM3FJfm"
      },
      "execution_count": 32,
      "outputs": []
    },
    {
      "cell_type": "code",
      "source": [
        "alphabet = \"abcdefghijklmnopqrstuvwxyz\"\n",
        "ord(alphabet[-1])\n",
        "print(chr(122))\n",
        "print(ord(\"x\"))\n",
        "print(chr(97))\n"
      ],
      "metadata": {
        "colab": {
          "base_uri": "https://localhost:8080/"
        },
        "id": "_ocOS0dEFels",
        "outputId": "1e6c16a7-69f1-4d7a-f0bf-c4e727cb935e"
      },
      "execution_count": 30,
      "outputs": [
        {
          "output_type": "stream",
          "name": "stdout",
          "text": [
            "z\n",
            "120\n",
            "a\n"
          ]
        }
      ]
    },
    {
      "cell_type": "code",
      "source": [
        "\"\".join(map(rotate_chr, \"My secret message goes here.\"))"
      ],
      "metadata": {
        "colab": {
          "base_uri": "https://localhost:8080/",
          "height": 35
        },
        "id": "YQ8-kXXYHOKp",
        "outputId": "1b1d0d5a-7a04-4f01-9b52-33a8d16b90b7"
      },
      "execution_count": 33,
      "outputs": [
        {
          "output_type": "execute_result",
          "data": {
            "text/plain": [
              "'pb vhfuhw phvvdjh jrhv khuh.'"
            ],
            "application/vnd.google.colaboratory.intrinsic+json": {
              "type": "string"
            }
          },
          "metadata": {},
          "execution_count": 33
        }
      ]
    },
    {
      "cell_type": "code",
      "source": [
        "# transforming iterables of numbers\n",
        "def powers(x):\n",
        "  return x ** 2, x ** 3\n",
        "numbers = [1, 2, 3, 4]\n",
        "list(map(powers, numbers))"
      ],
      "metadata": {
        "colab": {
          "base_uri": "https://localhost:8080/"
        },
        "id": "QWEmRpWNHxtL",
        "outputId": "c735c666-ac8c-4209-df4b-406fa40ec21c"
      },
      "execution_count": 34,
      "outputs": [
        {
          "output_type": "execute_result",
          "data": {
            "text/plain": [
              "[(1, 1), (4, 8), (9, 27), (16, 64)]"
            ]
          },
          "metadata": {},
          "execution_count": 34
        }
      ]
    },
    {
      "cell_type": "code",
      "source": [
        "# string to float\n",
        "list(map(float, [\"12.3\", \"3.3\", \"-15.2\"]))"
      ],
      "metadata": {
        "colab": {
          "base_uri": "https://localhost:8080/"
        },
        "id": "zTUQIGkiIOtT",
        "outputId": "e3935ed0-e020-46be-fffd-a2a813924c2a"
      },
      "execution_count": 36,
      "outputs": [
        {
          "output_type": "execute_result",
          "data": {
            "text/plain": [
              "[12.3, 3.3, -15.2]"
            ]
          },
          "metadata": {},
          "execution_count": 36
        }
      ]
    },
    {
      "cell_type": "code",
      "source": [
        "# combining map with other functional tools\n",
        "import math\n",
        "def is_positive(num):\n",
        "  return num >= 0\n",
        "def sanitized_sqrt(numbers):\n",
        "  cleaned_iter = map(math.sqrt, filter(is_positive, numbers))\n",
        "  return list(cleaned_iter)\n",
        "\n",
        "sanitized_sqrt([25, 9, 81, -16, 0])"
      ],
      "metadata": {
        "colab": {
          "base_uri": "https://localhost:8080/"
        },
        "id": "-KmtnFGmIua7",
        "outputId": "9e6c9ad4-3fe0-410d-8100-0ff01d0d09b3"
      },
      "execution_count": 38,
      "outputs": [
        {
          "output_type": "execute_result",
          "data": {
            "text/plain": [
              "[5.0, 3.0, 9.0, 0.0]"
            ]
          },
          "metadata": {},
          "execution_count": 38
        }
      ]
    },
    {
      "cell_type": "code",
      "source": [
        "from itertools import starmap\n",
        "list(starmap(pow, [(2, 7), (4, 3)]))"
      ],
      "metadata": {
        "colab": {
          "base_uri": "https://localhost:8080/"
        },
        "id": "gj0yjYrRJ1a3",
        "outputId": "3246dbf9-8559-4c2f-9268-d48573ba17f4"
      },
      "execution_count": 39,
      "outputs": [
        {
          "output_type": "execute_result",
          "data": {
            "text/plain": [
              "[128, 64]"
            ]
          },
          "metadata": {},
          "execution_count": 39
        }
      ]
    },
    {
      "cell_type": "code",
      "source": [
        "# pythonic way\n",
        "numbers = [1, 2, 3, 4, 5, 6]\n",
        "[square(x) for x in numbers] # list comprehension"
      ],
      "metadata": {
        "colab": {
          "base_uri": "https://localhost:8080/"
        },
        "id": "8SWsgWVjKRdS",
        "outputId": "bc50a7ab-b426-49e9-88ea-695df00a2418"
      },
      "execution_count": 41,
      "outputs": [
        {
          "output_type": "execute_result",
          "data": {
            "text/plain": [
              "[1, 4, 9, 16, 25, 36]"
            ]
          },
          "metadata": {},
          "execution_count": 41
        }
      ]
    },
    {
      "cell_type": "code",
      "source": [
        "# generator expression\n",
        "def square(number):\n",
        "  return number ** 2\n",
        "numbers = [1, 2, 3, 4, 5, 6]\n",
        "gen_exp = (square(x) for x in numbers)\n",
        "print(gen_exp)\n",
        "list(gen_exp)\n"
      ],
      "metadata": {
        "colab": {
          "base_uri": "https://localhost:8080/"
        },
        "id": "MCP6qB-lKs4J",
        "outputId": "9673ce07-d834-442e-9a6d-53c63ae1b02b"
      },
      "execution_count": 43,
      "outputs": [
        {
          "output_type": "stream",
          "name": "stdout",
          "text": [
            "<generator object <genexpr> at 0x7f6b0c0d50d0>\n"
          ]
        },
        {
          "output_type": "execute_result",
          "data": {
            "text/plain": [
              "[1, 4, 9, 16, 25, 36]"
            ]
          },
          "metadata": {},
          "execution_count": 43
        }
      ]
    }
  ]
}