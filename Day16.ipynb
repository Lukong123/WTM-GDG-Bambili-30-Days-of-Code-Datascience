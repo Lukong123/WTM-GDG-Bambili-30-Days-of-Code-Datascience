{
  "nbformat": 4,
  "nbformat_minor": 0,
  "metadata": {
    "colab": {
      "provenance": [],
      "authorship_tag": "ABX9TyMnUjeYR/yPAymgUAWAVarw",
      "include_colab_link": true
    },
    "kernelspec": {
      "name": "python3",
      "display_name": "Python 3"
    },
    "language_info": {
      "name": "python"
    }
  },
  "cells": [
    {
      "cell_type": "markdown",
      "metadata": {
        "id": "view-in-github",
        "colab_type": "text"
      },
      "source": [
        "<a href=\"https://colab.research.google.com/github/Lukong123/WTM-GDG-Bambili-30-Days-of-Code-Datascience/blob/main/Day16.ipynb\" target=\"_parent\"><img src=\"https://colab.research.google.com/assets/colab-badge.svg\" alt=\"Open In Colab\"/></a>"
      ]
    },
    {
      "cell_type": "code",
      "execution_count": null,
      "metadata": {
        "colab": {
          "base_uri": "https://localhost:8080/"
        },
        "id": "HdUBTYalrkaG",
        "outputId": "20df807c-810f-4d06-9905-9ab79833e0bc"
      },
      "outputs": [
        {
          "output_type": "execute_result",
          "data": {
            "text/plain": [
              "3.141592653589793"
            ]
          },
          "metadata": {},
          "execution_count": 3
        }
      ],
      "source": [
        "# python import\n",
        "import math\n",
        "math.pi\n"
      ]
    },
    {
      "cell_type": "code",
      "source": [
        "# you can list the content of a namespace with dir\n",
        "dir(math)"
      ],
      "metadata": {
        "colab": {
          "base_uri": "https://localhost:8080/"
        },
        "id": "RGNNWIvYsJLf",
        "outputId": "6a9a6443-d283-4649-9302-32caa763a156"
      },
      "execution_count": null,
      "outputs": [
        {
          "output_type": "execute_result",
          "data": {
            "text/plain": [
              "['__doc__',\n",
              " '__loader__',\n",
              " '__name__',\n",
              " '__package__',\n",
              " '__spec__',\n",
              " 'acos',\n",
              " 'acosh',\n",
              " 'asin',\n",
              " 'asinh',\n",
              " 'atan',\n",
              " 'atan2',\n",
              " 'atanh',\n",
              " 'ceil',\n",
              " 'copysign',\n",
              " 'cos',\n",
              " 'cosh',\n",
              " 'degrees',\n",
              " 'e',\n",
              " 'erf',\n",
              " 'erfc',\n",
              " 'exp',\n",
              " 'expm1',\n",
              " 'fabs',\n",
              " 'factorial',\n",
              " 'floor',\n",
              " 'fmod',\n",
              " 'frexp',\n",
              " 'fsum',\n",
              " 'gamma',\n",
              " 'gcd',\n",
              " 'hypot',\n",
              " 'inf',\n",
              " 'isclose',\n",
              " 'isfinite',\n",
              " 'isinf',\n",
              " 'isnan',\n",
              " 'ldexp',\n",
              " 'lgamma',\n",
              " 'log',\n",
              " 'log10',\n",
              " 'log1p',\n",
              " 'log2',\n",
              " 'modf',\n",
              " 'nan',\n",
              " 'pi',\n",
              " 'pow',\n",
              " 'radians',\n",
              " 'remainder',\n",
              " 'sin',\n",
              " 'sinh',\n",
              " 'sqrt',\n",
              " 'tan',\n",
              " 'tanh',\n",
              " 'tau',\n",
              " 'trunc']"
            ]
          },
          "metadata": {},
          "execution_count": 6
        }
      ]
    },
    {
      "cell_type": "code",
      "source": [
        "from math import pi as PI\n",
        "PI"
      ],
      "metadata": {
        "colab": {
          "base_uri": "https://localhost:8080/"
        },
        "id": "SrXfr59itlX5",
        "outputId": "8057f634-d770-4ea6-bbca-bb0a12a8666d"
      },
      "execution_count": null,
      "outputs": [
        {
          "output_type": "execute_result",
          "data": {
            "text/plain": [
              "3.141592653589793"
            ]
          },
          "metadata": {},
          "execution_count": 7
        }
      ]
    },
    {
      "cell_type": "code",
      "source": [
        "# dynamic import\n",
        "print(\"Hello dynamic world!\")\n",
        "# defining another print that shadows the built one\n",
        "print = lambda *args, **kwargs: None \n",
        "print(\"Hush, everybody!\") # this statement is not printed"
      ],
      "metadata": {
        "colab": {
          "base_uri": "https://localhost:8080/"
        },
        "id": "OB43vq7ytmn3",
        "outputId": "b6cb2121-540c-471d-ff59-de12251b3a98"
      },
      "execution_count": null,
      "outputs": [
        {
          "output_type": "stream",
          "name": "stdout",
          "text": [
            "Hello dynamic world!\n"
          ]
        }
      ]
    },
    {
      "cell_type": "code",
      "source": [
        "del print # to delete the newly created print giving room fro the built one"
      ],
      "metadata": {
        "id": "qPLMkvOI6ZXM"
      },
      "execution_count": null,
      "outputs": []
    },
    {
      "cell_type": "code",
      "source": [
        "# another way of defining another print to shadow the bilt one\n",
        "def print(*args, **kwargs):\n",
        "  pass"
      ],
      "metadata": {
        "id": "gdUpw0U06yDk"
      },
      "execution_count": null,
      "outputs": []
    },
    {
      "cell_type": "code",
      "source": [
        "print(\"hello world\")"
      ],
      "metadata": {
        "colab": {
          "base_uri": "https://localhost:8080/"
        },
        "id": "0Ynh9Oiu7Cbr",
        "outputId": "75b4ebd8-d855-4367-ceb4-f787ba9d8b90"
      },
      "execution_count": null,
      "outputs": [
        {
          "output_type": "stream",
          "name": "stdout",
          "text": [
            "hello world\n"
          ]
        }
      ]
    },
    {
      "cell_type": "code",
      "source": [
        "import importlib\n",
        "\n",
        "\n",
        "module_name = input(\"Name of module? \")\n",
        "module = importlib.import_module(module_name)\n",
        "print(module.__doc__)"
      ],
      "metadata": {
        "colab": {
          "base_uri": "https://localhost:8080/"
        },
        "id": "1wz7qic985kG",
        "outputId": "21344c19-5a3f-4087-aeee-d83338ae7e15"
      },
      "execution_count": null,
      "outputs": [
        {
          "output_type": "stream",
          "name": "stdout",
          "text": [
            "Name of module? math\n",
            "This module provides access to the mathematical functions\n",
            "defined by the C standard.\n"
          ]
        }
      ]
    },
    {
      "cell_type": "code",
      "source": [
        "# python import system\n",
        "import importlib\n",
        "_tmp = importlib.import_module('math')\n",
        "PI = _tmp.pi\n",
        "PI\n",
        "del _tmp\n",
        "PI"
      ],
      "metadata": {
        "id": "D31dGHik9Z2v",
        "colab": {
          "base_uri": "https://localhost:8080/"
        },
        "outputId": "bbd77ba1-b17d-4d67-85e8-050ef6855f8f"
      },
      "execution_count": null,
      "outputs": [
        {
          "output_type": "execute_result",
          "data": {
            "text/plain": [
              "3.141592653589793"
            ]
          },
          "metadata": {},
          "execution_count": 6
        }
      ]
    },
    {
      "cell_type": "code",
      "source": [
        "# when you import one attribute from a module the whole module is loaded and executed\n",
        "from math import pi\n",
        "print(pi)\n",
        "\n",
        "import sys\n",
        "sys.modules[\"math\"].cos(pi) #sys.modules act as a module for cache"
      ],
      "metadata": {
        "colab": {
          "base_uri": "https://localhost:8080/"
        },
        "id": "lK3XkTsfzyJA",
        "outputId": "0e14ba28-8b8c-4d17-e615-8a646b2b883e"
      },
      "execution_count": null,
      "outputs": [
        {
          "output_type": "stream",
          "name": "stdout",
          "text": [
            "3.141592653589793\n"
          ]
        },
        {
          "output_type": "execute_result",
          "data": {
            "text/plain": [
              "-1.0"
            ]
          },
          "metadata": {},
          "execution_count": 9
        }
      ]
    },
    {
      "cell_type": "code",
      "source": [
        "# reloading a module\n",
        "import importlib\n",
        "# importlib.reload(number)"
      ],
      "metadata": {
        "id": "WnQ6VMmy2Cx1"
      },
      "execution_count": null,
      "outputs": []
    },
    {
      "cell_type": "code",
      "source": [
        "# finders and loaders\n",
        "import math\n",
        "math # from a file and this type can be shadowed by local ones\n",
        "\n",
        "import time\n",
        "time # typical built in and can't be shadowed by local ones"
      ],
      "metadata": {
        "colab": {
          "base_uri": "https://localhost:8080/"
        },
        "id": "dUHSmgd22aoO",
        "outputId": "f47fde68-de45-4aab-bf04-74bb41dd5b1a"
      },
      "execution_count": null,
      "outputs": [
        {
          "output_type": "stream",
          "name": "stdout",
          "text": [
            "<module 'math' (built-in)>\n"
          ]
        },
        {
          "output_type": "execute_result",
          "data": {
            "text/plain": [
              "<module 'time' (built-in)>"
            ]
          },
          "metadata": {},
          "execution_count": 12
        }
      ]
    },
    {
      "cell_type": "code",
      "source": [
        "import sys\n",
        "sys.meta_path # it shows that builin importer are prioritized to path finder"
      ],
      "metadata": {
        "colab": {
          "base_uri": "https://localhost:8080/"
        },
        "id": "k5TsZfRu2fTh",
        "outputId": "576a1cb9-e28d-4ec9-c8dd-ad11ecba76de"
      },
      "execution_count": null,
      "outputs": [
        {
          "output_type": "execute_result",
          "data": {
            "text/plain": [
              "[<google.colab._import_hooks._pydrive._PyDriveImportHook at 0x7fb3dc6c1b10>,\n",
              " <google.colab._import_hooks._cv2._OpenCVImportHook at 0x7fb3dc6c15d0>,\n",
              " <google.colab._import_hooks._bokeh._BokehImportHook at 0x7fb3dd3357d0>,\n",
              " <google.colab._import_hooks._altair._AltairImportHook at 0x7fb3dd335790>,\n",
              " _frozen_importlib.BuiltinImporter,\n",
              " _frozen_importlib.FrozenImporter,\n",
              " _frozen_importlib_external.PathFinder,\n",
              " <six._SixMetaPathImporter at 0x7fb3ec1aa250>,\n",
              " <pkg_resources.extern.VendorImporter at 0x7fb3db753f90>,\n",
              " <urllib3.packages.six._SixMetaPathImporter at 0x7fb3d3193210>]"
            ]
          },
          "metadata": {},
          "execution_count": 14
        }
      ]
    },
    {
      "cell_type": "code",
      "source": [
        "# handle missing packages\n",
        "try:\n",
        "    import ujson as json\n",
        "except ImportError:\n",
        "    import json"
      ],
      "metadata": {
        "id": "DTGZ2rSa4h17"
      },
      "execution_count": null,
      "outputs": []
    },
    {
      "cell_type": "code",
      "source": [],
      "metadata": {
        "id": "GljcgwAX4kaU"
      },
      "execution_count": null,
      "outputs": []
    }
  ]
}