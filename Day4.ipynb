{
  "nbformat": 4,
  "nbformat_minor": 0,
  "metadata": {
    "colab": {
      "provenance": [],
      "authorship_tag": "ABX9TyOhV/DyQops+gsmyjBGDgyJ",
      "include_colab_link": true
    },
    "kernelspec": {
      "name": "python3",
      "display_name": "Python 3"
    },
    "language_info": {
      "name": "python"
    }
  },
  "cells": [
    {
      "cell_type": "markdown",
      "metadata": {
        "id": "view-in-github",
        "colab_type": "text"
      },
      "source": [
        "<a href=\"https://colab.research.google.com/github/Lukong123/WTM-GDG-Bambili-30-Days-of-Code-Datascience/blob/main/Day4.ipynb\" target=\"_parent\"><img src=\"https://colab.research.google.com/assets/colab-badge.svg\" alt=\"Open In Colab\"/></a>"
      ]
    },
    {
      "cell_type": "code",
      "execution_count": 3,
      "metadata": {
        "colab": {
          "base_uri": "https://localhost:8080/"
        },
        "id": "ZSqrf-_TLrab",
        "outputId": "67b9ec09-016f-4619-a439-318df5fa639b"
      },
      "outputs": [
        {
          "output_type": "stream",
          "name": "stdout",
          "text": [
            "['I', 'present', 'five', 'strings', 'floats', 1, 2, 3, 4, 5, 1.5, 2.5, 3.5, 4.5, 5.5]\n"
          ]
        }
      ],
      "source": [
        "list1 = [\"I\", \"present\", \"five\", \"strings\", \"floats\", 1, 2, 3, 4, 5, 1.5, 2.5, 3.5, 4.5, 5.5]\n",
        "print(list1)"
      ]
    },
    {
      "cell_type": "code",
      "source": [
        "var1 = 'Hello' + ' world'\n",
        "list1.append(var1)\n",
        "print(list1)"
      ],
      "metadata": {
        "colab": {
          "base_uri": "https://localhost:8080/"
        },
        "id": "pwKFPaNNMNl8",
        "outputId": "275440ae-f1fa-479e-ee6e-8d1b4098a0b5"
      },
      "execution_count": 7,
      "outputs": [
        {
          "output_type": "stream",
          "name": "stdout",
          "text": [
            "['I', 'present', 'five', 'strings', 'floats', 1, 2, 3, 4, 5, 1.5, 2.5, 3.5, 4.5, 5.5, 'Hello world', 'Hello world', 'Hello world', 'Hello world']\n"
          ]
        }
      ]
    },
    {
      "cell_type": "code",
      "source": [
        "list4 = [5, 6, 7, 8, 9, 5.5, 6.5, 7.5, 8.5, 9.5, 9.9, \"five\", \"intergers\", \"and\", \"floats\"]\n",
        "print(list4)"
      ],
      "metadata": {
        "colab": {
          "base_uri": "https://localhost:8080/"
        },
        "id": "kOlxK5O7Mt_2",
        "outputId": "d5629d68-af31-46f3-9f35-28582955f8bf"
      },
      "execution_count": 9,
      "outputs": [
        {
          "output_type": "stream",
          "name": "stdout",
          "text": [
            "[5, 6, 7, 8, 9, 5.5, 6.5, 7.5, 8.5, 9.5, 9.9, 'five', 'intergers', 'and', 'floats']\n"
          ]
        }
      ]
    },
    {
      "cell_type": "code",
      "source": [
        "list5 = list1 + list4\n",
        "print(list5)"
      ],
      "metadata": {
        "colab": {
          "base_uri": "https://localhost:8080/"
        },
        "id": "-2J5QOv0NVnR",
        "outputId": "1a5d5f83-d40c-4c04-fdc1-426187f6f56d"
      },
      "execution_count": 10,
      "outputs": [
        {
          "output_type": "stream",
          "name": "stdout",
          "text": [
            "['I', 'present', 'five', 'strings', 'floats', 1, 2, 3, 4, 5, 1.5, 2.5, 3.5, 4.5, 5.5, 'Hello world', 'Hello world', 'Hello world', 'Hello world', 5, 6, 7, 8, 9, 5.5, 6.5, 7.5, 8.5, 9.5, 9.9, 'five', 'intergers', 'and', 'floats']\n"
          ]
        }
      ]
    },
    {
      "cell_type": "code",
      "source": [
        "list2 = [5, 6, 7.0, \"Eight\", \"Nine\"]\n",
        "print(list2)\n",
        "list3 = [type(item) for item in list2 ]\n",
        "print(list3)"
      ],
      "metadata": {
        "colab": {
          "base_uri": "https://localhost:8080/"
        },
        "id": "nMCC1yVXNk9M",
        "outputId": "6794a2d0-ece8-4436-9872-881237b8d389"
      },
      "execution_count": 18,
      "outputs": [
        {
          "output_type": "stream",
          "name": "stdout",
          "text": [
            "[5, 6, 7.0, 'Eight', 'Nine']\n",
            "[<class 'int'>, <class 'int'>, <class 'float'>, <class 'str'>, <class 'str'>]\n"
          ]
        }
      ]
    }
  ]
}