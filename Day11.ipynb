{
  "nbformat": 4,
  "nbformat_minor": 0,
  "metadata": {
    "colab": {
      "provenance": [],
      "authorship_tag": "ABX9TyMsrCZKQrlWaubk/7KPmf3I",
      "include_colab_link": true
    },
    "kernelspec": {
      "name": "python3",
      "display_name": "Python 3"
    },
    "language_info": {
      "name": "python"
    }
  },
  "cells": [
    {
      "cell_type": "markdown",
      "metadata": {
        "id": "view-in-github",
        "colab_type": "text"
      },
      "source": [
        "<a href=\"https://colab.research.google.com/github/Lukong123/WTM-GDG-Bambili-30-Days-of-Code-Datascience/blob/main/Day11.ipynb\" target=\"_parent\"><img src=\"https://colab.research.google.com/assets/colab-badge.svg\" alt=\"Open In Colab\"/></a>"
      ]
    },
    {
      "cell_type": "code",
      "execution_count": null,
      "metadata": {
        "colab": {
          "base_uri": "https://localhost:8080/"
        },
        "id": "Jjl3RLtGbGuM",
        "outputId": "dffdd6d1-fc56-4e2a-8943-c6835e910e16"
      },
      "outputs": [
        {
          "output_type": "execute_result",
          "data": {
            "text/plain": [
              "['foo', 'bar', 'baz', 'qux']"
            ]
          },
          "metadata": {},
          "execution_count": 1
        }
      ],
      "source": [
        "# list and tuple in python\n",
        "# list\n",
        "a = ['foo', 'bar', 'baz', 'qux']\n",
        "a"
      ]
    },
    {
      "cell_type": "code",
      "source": [
        "# list are ordered\n",
        "[1, 2, 3, 4] == [4, 1, 3, 2]"
      ],
      "metadata": {
        "colab": {
          "base_uri": "https://localhost:8080/"
        },
        "id": "9OeBC4WXbkuB",
        "outputId": "375833f5-118d-48e9-af99-6def8e09a475"
      },
      "execution_count": null,
      "outputs": [
        {
          "output_type": "execute_result",
          "data": {
            "text/plain": [
              "False"
            ]
          },
          "metadata": {},
          "execution_count": 2
        }
      ]
    },
    {
      "cell_type": "code",
      "source": [
        "# list can contain arbitary objects\n",
        "a = [21.42, 'foobar', 3, 4, 'bark', False, 3.14159]\n",
        "print(a)\n",
        "a = [int, len, 'foo', 'math']\n",
        "print(a)"
      ],
      "metadata": {
        "colab": {
          "base_uri": "https://localhost:8080/"
        },
        "id": "opYXP4CabrY7",
        "outputId": "bf9394c9-7b09-4235-eb8e-463e2c16a204"
      },
      "execution_count": null,
      "outputs": [
        {
          "output_type": "stream",
          "name": "stdout",
          "text": [
            "[21.42, 'foobar', 3, 4, 'bark', False, 3.14159]\n",
            "[<class 'int'>, <built-in function len>, 'foo', 'math']\n"
          ]
        }
      ]
    },
    {
      "cell_type": "code",
      "source": [
        "# list can be accessed by index\n",
        "a = ['foo', 'bar', 'baz', 'qux', 'quux', 'corge']\n",
        "a[0]"
      ],
      "metadata": {
        "colab": {
          "base_uri": "https://localhost:8080/",
          "height": 35
        },
        "id": "iwrPuDhucBrU",
        "outputId": "9cf94b29-21bd-4acb-d2b8-74c2cbcc9686"
      },
      "execution_count": null,
      "outputs": [
        {
          "output_type": "execute_result",
          "data": {
            "text/plain": [
              "'foo'"
            ],
            "application/vnd.google.colaboratory.intrinsic+json": {
              "type": "string"
            }
          },
          "metadata": {},
          "execution_count": 6
        }
      ]
    },
    {
      "cell_type": "code",
      "source": [
        "# list can be sliced a[m:n]  but not including n\n",
        "a[2:5]"
      ],
      "metadata": {
        "colab": {
          "base_uri": "https://localhost:8080/"
        },
        "id": "aBCiU1HgcPCC",
        "outputId": "02d1ade5-5b19-480e-fa7e-406fc89d166c"
      },
      "execution_count": null,
      "outputs": [
        {
          "output_type": "execute_result",
          "data": {
            "text/plain": [
              "['baz', 'qux', 'quux']"
            ]
          },
          "metadata": {},
          "execution_count": 7
        }
      ]
    },
    {
      "cell_type": "code",
      "source": [
        "# both positive and negative indices can be specified\n",
        "a[-5:-2] == a[1:4]"
      ],
      "metadata": {
        "colab": {
          "base_uri": "https://localhost:8080/"
        },
        "id": "ojJs8lkjcdDi",
        "outputId": "07f3459c-067c-43b6-e2c9-6b98c00d312c"
      },
      "execution_count": null,
      "outputs": [
        {
          "output_type": "execute_result",
          "data": {
            "text/plain": [
              "True"
            ]
          },
          "metadata": {},
          "execution_count": 9
        }
      ]
    },
    {
      "cell_type": "code",
      "source": [
        "# you can specify a stride either positive\n",
        "a[0:6:2]"
      ],
      "metadata": {
        "colab": {
          "base_uri": "https://localhost:8080/"
        },
        "id": "fxljXaZRcoM_",
        "outputId": "8b36bc25-9ca9-44c4-cdca-8448c1882c5f"
      },
      "execution_count": null,
      "outputs": [
        {
          "output_type": "execute_result",
          "data": {
            "text/plain": [
              "['foo', 'baz', 'quux']"
            ]
          },
          "metadata": {},
          "execution_count": 11
        }
      ]
    },
    {
      "cell_type": "code",
      "source": [
        "# or negative\n",
        "a[6:0:-2]"
      ],
      "metadata": {
        "colab": {
          "base_uri": "https://localhost:8080/"
        },
        "id": "yzQElAcic2Cq",
        "outputId": "34fc9c31-f134-441f-9849-45994815df06"
      },
      "execution_count": null,
      "outputs": [
        {
          "output_type": "execute_result",
          "data": {
            "text/plain": [
              "['corge', 'qux', 'bar']"
            ]
          },
          "metadata": {},
          "execution_count": 12
        }
      ]
    },
    {
      "cell_type": "code",
      "source": [
        "# reversing a list\n",
        "a[::-1]"
      ],
      "metadata": {
        "colab": {
          "base_uri": "https://localhost:8080/"
        },
        "id": "lSEcG44Cc9Dh",
        "outputId": "8cd1559c-edbe-4fc9-8d02-47267c84a0c1"
      },
      "execution_count": null,
      "outputs": [
        {
          "output_type": "execute_result",
          "data": {
            "text/plain": [
              "['corge', 'quux', 'qux', 'baz', 'bar', 'foo']"
            ]
          },
          "metadata": {},
          "execution_count": 13
        }
      ]
    },
    {
      "cell_type": "code",
      "source": [
        "# [:] in string\n",
        "s = 'foobar'\n",
        "s[:]\n",
        "s is s[:]"
      ],
      "metadata": {
        "colab": {
          "base_uri": "https://localhost:8080/"
        },
        "id": "htvPrMRndefS",
        "outputId": "dee191e7-20a0-4eef-edd7-0175637b8136"
      },
      "execution_count": null,
      "outputs": [
        {
          "output_type": "execute_result",
          "data": {
            "text/plain": [
              "True"
            ]
          },
          "metadata": {},
          "execution_count": 15
        }
      ]
    },
    {
      "cell_type": "code",
      "source": [
        "# [:] in list\n",
        "a = ['foo', 'bar', 'baz', 'qux', 'quux', 'corge']\n",
        "a[:]\n",
        "a is a[:]"
      ],
      "metadata": {
        "colab": {
          "base_uri": "https://localhost:8080/"
        },
        "id": "gGsHvvvfdpCF",
        "outputId": "fe6d0dff-6f83-4ceb-99d6-28e29e6f81ee"
      },
      "execution_count": null,
      "outputs": [
        {
          "output_type": "execute_result",
          "data": {
            "text/plain": [
              "False"
            ]
          },
          "metadata": {},
          "execution_count": 16
        }
      ]
    },
    {
      "cell_type": "markdown",
      "source": [
        "[:] works in list as in string\n",
        "in string it is a reference to the same object\n",
        "in list it is a different object"
      ],
      "metadata": {
        "id": "daRujiIed2uT"
      }
    },
    {
      "cell_type": "code",
      "source": [
        "# in and not operator\n",
        "'qux' in a\n"
      ],
      "metadata": {
        "colab": {
          "base_uri": "https://localhost:8080/"
        },
        "id": "VmHh6U4Xd_WL",
        "outputId": "4699ad2f-a895-4767-e353-69cb3a696c4e"
      },
      "execution_count": null,
      "outputs": [
        {
          "output_type": "execute_result",
          "data": {
            "text/plain": [
              "True"
            ]
          },
          "metadata": {},
          "execution_count": 17
        }
      ]
    },
    {
      "cell_type": "code",
      "source": [
        "# not\n",
        "'thud' not in a"
      ],
      "metadata": {
        "colab": {
          "base_uri": "https://localhost:8080/"
        },
        "id": "wjX0vHEheCr9",
        "outputId": "5beabc7b-4479-4afc-ba25-98a078640c37"
      },
      "execution_count": null,
      "outputs": [
        {
          "output_type": "execute_result",
          "data": {
            "text/plain": [
              "True"
            ]
          },
          "metadata": {},
          "execution_count": 18
        }
      ]
    },
    {
      "cell_type": "code",
      "source": [
        "# concatenation +\n",
        "a + ['grault', 'garply']\n"
      ],
      "metadata": {
        "colab": {
          "base_uri": "https://localhost:8080/"
        },
        "id": "TJEk48JKeF2u",
        "outputId": "63bc41c1-a65a-4f1f-9cec-edf1d39e7ee8"
      },
      "execution_count": null,
      "outputs": [
        {
          "output_type": "execute_result",
          "data": {
            "text/plain": [
              "['foo', 'bar', 'baz', 'qux', 'quux', 'corge', 'grault', 'garply']"
            ]
          },
          "metadata": {},
          "execution_count": 21
        }
      ]
    },
    {
      "cell_type": "code",
      "source": [
        "# replication * \n",
        "a * 2"
      ],
      "metadata": {
        "colab": {
          "base_uri": "https://localhost:8080/"
        },
        "id": "OAe0t1IweUPn",
        "outputId": "4ebc7ca6-087b-4a51-f082-53bc1faf4b96"
      },
      "execution_count": null,
      "outputs": [
        {
          "output_type": "execute_result",
          "data": {
            "text/plain": [
              "['foo',\n",
              " 'bar',\n",
              " 'baz',\n",
              " 'qux',\n",
              " 'quux',\n",
              " 'corge',\n",
              " 'foo',\n",
              " 'bar',\n",
              " 'baz',\n",
              " 'qux',\n",
              " 'quux',\n",
              " 'corge']"
            ]
          },
          "metadata": {},
          "execution_count": 22
        }
      ]
    },
    {
      "cell_type": "code",
      "source": [
        "# len\n",
        "len(a)"
      ],
      "metadata": {
        "colab": {
          "base_uri": "https://localhost:8080/"
        },
        "id": "uMefI7E3eeyz",
        "outputId": "7b43ec58-5ff6-40e5-bada-4cf7ffb38e1d"
      },
      "execution_count": null,
      "outputs": [
        {
          "output_type": "execute_result",
          "data": {
            "text/plain": [
              "6"
            ]
          },
          "metadata": {},
          "execution_count": 24
        }
      ]
    },
    {
      "cell_type": "code",
      "source": [
        "# min\n",
        "min(a)"
      ],
      "metadata": {
        "colab": {
          "base_uri": "https://localhost:8080/",
          "height": 35
        },
        "id": "vZ4oIyAEeiBt",
        "outputId": "0f02e3ae-85bb-4862-9532-63dd68fdba3b"
      },
      "execution_count": null,
      "outputs": [
        {
          "output_type": "execute_result",
          "data": {
            "text/plain": [
              "'bar'"
            ],
            "application/vnd.google.colaboratory.intrinsic+json": {
              "type": "string"
            }
          },
          "metadata": {},
          "execution_count": 25
        }
      ]
    },
    {
      "cell_type": "code",
      "source": [
        "# max\n",
        "max(a)"
      ],
      "metadata": {
        "colab": {
          "base_uri": "https://localhost:8080/",
          "height": 35
        },
        "id": "53ryZrYTejjg",
        "outputId": "fea7bd58-6bad-446d-e455-682a95162af1"
      },
      "execution_count": null,
      "outputs": [
        {
          "output_type": "execute_result",
          "data": {
            "text/plain": [
              "'qux'"
            ],
            "application/vnd.google.colaboratory.intrinsic+json": {
              "type": "string"
            }
          },
          "metadata": {},
          "execution_count": 26
        }
      ]
    },
    {
      "cell_type": "code",
      "source": [
        "# list can be nested\n",
        "x = ['a', ['bb', ['ccc', 'ddd'], 'ee', 'ff'], 'g', ['hh', 'ii'], 'j']\n",
        "print(x[3])\n",
        "print(x[1][2])"
      ],
      "metadata": {
        "colab": {
          "base_uri": "https://localhost:8080/"
        },
        "id": "Rk3GxP2Dexre",
        "outputId": "21a972c8-a0dd-4337-8717-be458c44df6c"
      },
      "execution_count": null,
      "outputs": [
        {
          "output_type": "stream",
          "name": "stdout",
          "text": [
            "['hh', 'ii']\n",
            "ee\n"
          ]
        }
      ]
    },
    {
      "cell_type": "code",
      "source": [
        "# list are mutable\n",
        "a = ['foo', 'bar', 'baz', 'qux', 'quux', 'corge']\n",
        "print(a)\n",
        "a[2] = 10\n",
        "a[-1] = 20\n",
        "print(a)"
      ],
      "metadata": {
        "colab": {
          "base_uri": "https://localhost:8080/"
        },
        "id": "eIwA_Z2pfNFa",
        "outputId": "21a748a5-7aab-4aff-dd08-3b7634674df6"
      },
      "execution_count": null,
      "outputs": [
        {
          "output_type": "stream",
          "name": "stdout",
          "text": [
            "['foo', 'bar', 'baz', 'qux', 'quux', 'corge']\n",
            "['foo', 'bar', 10, 'qux', 'quux', 20]\n"
          ]
        }
      ]
    },
    {
      "cell_type": "code",
      "source": [
        "# del deletes a list\n",
        "print(a)\n",
        "del a[3]\n",
        "print(a)"
      ],
      "metadata": {
        "colab": {
          "base_uri": "https://localhost:8080/"
        },
        "id": "_5cFH-VyfcMH",
        "outputId": "0d1e38d1-4569-409d-858d-5e9a23c7d7f5"
      },
      "execution_count": null,
      "outputs": [
        {
          "output_type": "stream",
          "name": "stdout",
          "text": [
            "['foo', 'bar', 10, 'qux', 'quux', 20]\n",
            "['foo', 'bar', 10, 'quux', 20]\n"
          ]
        }
      ]
    },
    {
      "cell_type": "code",
      "source": [
        "# modifying multiple list\n",
        "a = ['foo', 'bar', 'baz', 'qux', 'quux', 'corge']\n",
        "print(a)\n",
        "a[1:4] = [1.1, 2.2, 3.3, 4.4, 5.5]\n",
        "print(a)"
      ],
      "metadata": {
        "colab": {
          "base_uri": "https://localhost:8080/"
        },
        "id": "SQE1Eu7eflcM",
        "outputId": "4a2257ff-0297-48cf-aa8f-78ba15e34fb2"
      },
      "execution_count": null,
      "outputs": [
        {
          "output_type": "stream",
          "name": "stdout",
          "text": [
            "['foo', 'bar', 'baz', 'qux', 'quux', 'corge']\n",
            "['foo', 1.1, 2.2, 3.3, 4.4, 5.5, 'quux', 'corge']\n"
          ]
        }
      ]
    },
    {
      "cell_type": "code",
      "source": [
        "# apending items on list\n",
        "a = ['foo', 'bar', 'baz', 'qux', 'quux', 'corge']\n",
        "a += ['grault', 'garply']\n",
        "a"
      ],
      "metadata": {
        "colab": {
          "base_uri": "https://localhost:8080/"
        },
        "id": "Fu7vP_3BuIju",
        "outputId": "d4645991-4cf1-4535-e3a5-345037617872"
      },
      "execution_count": 1,
      "outputs": [
        {
          "output_type": "execute_result",
          "data": {
            "text/plain": [
              "['foo', 'bar', 'baz', 'qux', 'quux', 'corge', 'grault', 'garply']"
            ]
          },
          "metadata": {},
          "execution_count": 1
        }
      ]
    },
    {
      "cell_type": "code",
      "source": [
        "# prepending items on list\n",
        "a = ['foo', 'bar', 'baz', 'qux', 'quux', 'corge']\n",
        "a = [10, 20] + a\n",
        "a"
      ],
      "metadata": {
        "colab": {
          "base_uri": "https://localhost:8080/"
        },
        "id": "XCAth8xaus9a",
        "outputId": "e64a9a80-8d63-458b-a99e-4f7604e1a642"
      },
      "execution_count": 2,
      "outputs": [
        {
          "output_type": "execute_result",
          "data": {
            "text/plain": [
              "[10, 20, 'foo', 'bar', 'baz', 'qux', 'quux', 'corge']"
            ]
          },
          "metadata": {},
          "execution_count": 2
        }
      ]
    },
    {
      "cell_type": "code",
      "source": [
        "# list must be concatenated with an iterable\n",
        "a = ['foo', 'bar', 'baz', 'qux', 'quux', 'corge']\n",
        "a += 'corge' # a += 20 won't work\n",
        "a"
      ],
      "metadata": {
        "colab": {
          "base_uri": "https://localhost:8080/"
        },
        "id": "gr6ZKwD9u3oG",
        "outputId": "f466934c-1b9f-4d96-e7bc-7ad828774974"
      },
      "execution_count": 6,
      "outputs": [
        {
          "output_type": "execute_result",
          "data": {
            "text/plain": [
              "['foo', 'bar', 'baz', 'qux', 'quux', 'corge', 'c', 'o', 'r', 'g', 'e']"
            ]
          },
          "metadata": {},
          "execution_count": 6
        }
      ]
    },
    {
      "cell_type": "code",
      "source": [
        "# methods that modify a list\n",
        "a = ['a', 'b']\n",
        "a.append(123)\n",
        "a"
      ],
      "metadata": {
        "colab": {
          "base_uri": "https://localhost:8080/"
        },
        "id": "CZ-Ys8prvVv_",
        "outputId": "b52ca1d5-0c29-4c9b-fb21-ada0db63ea7f"
      },
      "execution_count": 7,
      "outputs": [
        {
          "output_type": "execute_result",
          "data": {
            "text/plain": [
              "['a', 'b', 123]"
            ]
          },
          "metadata": {},
          "execution_count": 7
        }
      ]
    },
    {
      "cell_type": "code",
      "source": [
        "# list methods modify the target list in place. They do not return a new list\n",
        "a = ['a', 'b']\n",
        "x = a.append(123)\n",
        "print(x)\n",
        "print(a)"
      ],
      "metadata": {
        "colab": {
          "base_uri": "https://localhost:8080/"
        },
        "id": "Mip1dAKTvpae",
        "outputId": "8d7ab612-74e5-4805-ccc1-5d79e1aa507c"
      },
      "execution_count": 8,
      "outputs": [
        {
          "output_type": "stream",
          "name": "stdout",
          "text": [
            "None\n",
            "['a', 'b', 123]\n"
          ]
        }
      ]
    },
    {
      "cell_type": "code",
      "source": [
        "# extend\n",
        "a = ['a', 'b']\n",
        "a.extend([1, 2, 3]) # it is appended individually if it was append it will be a sublist appended ['a', 'b', [1, 2, 3]]\n",
        "a"
      ],
      "metadata": {
        "colab": {
          "base_uri": "https://localhost:8080/"
        },
        "id": "7SuGSU47v_EK",
        "outputId": "fe235a14-399f-455d-cab7-4aa03ed10f16"
      },
      "execution_count": 9,
      "outputs": [
        {
          "output_type": "execute_result",
          "data": {
            "text/plain": [
              "['a', 'b', 1, 2, 3]"
            ]
          },
          "metadata": {},
          "execution_count": 9
        }
      ]
    },
    {
      "cell_type": "code",
      "source": [
        "# insert\n",
        "a = ['foo', 'bar', 'baz', 'qux', 'quux', 'corge']\n",
        "a.insert(3, 3.14159)\n",
        "a"
      ],
      "metadata": {
        "colab": {
          "base_uri": "https://localhost:8080/"
        },
        "id": "cCO1aqyHwWef",
        "outputId": "472e0f24-109b-47d2-8d31-44749b8e8aa2"
      },
      "execution_count": 10,
      "outputs": [
        {
          "output_type": "execute_result",
          "data": {
            "text/plain": [
              "['foo', 'bar', 'baz', 3.14159, 'qux', 'quux', 'corge']"
            ]
          },
          "metadata": {},
          "execution_count": 10
        }
      ]
    },
    {
      "cell_type": "code",
      "source": [
        "# remove\n",
        "a = ['foo', 'bar', 'baz', 'qux', 'quux', 'corge']\n",
        "a.remove('baz')\n",
        "a"
      ],
      "metadata": {
        "colab": {
          "base_uri": "https://localhost:8080/"
        },
        "id": "WD59SnDiwf7o",
        "outputId": "c39122e9-c181-4b76-cb9c-fbceac4b962c"
      },
      "execution_count": 11,
      "outputs": [
        {
          "output_type": "execute_result",
          "data": {
            "text/plain": [
              "['foo', 'bar', 'qux', 'quux', 'corge']"
            ]
          },
          "metadata": {},
          "execution_count": 11
        }
      ]
    },
    {
      "cell_type": "code",
      "source": [
        "# pop\n",
        "a = ['foo', 'bar', 'baz', 'qux', 'quux', 'corge']\n",
        "a.pop()"
      ],
      "metadata": {
        "colab": {
          "base_uri": "https://localhost:8080/",
          "height": 35
        },
        "id": "PfdZTJoDwvIO",
        "outputId": "3d6ba200-75d2-4953-f1a8-aee350998ce4"
      },
      "execution_count": 12,
      "outputs": [
        {
          "output_type": "execute_result",
          "data": {
            "text/plain": [
              "'corge'"
            ],
            "application/vnd.google.colaboratory.intrinsic+json": {
              "type": "string"
            }
          },
          "metadata": {},
          "execution_count": 12
        }
      ]
    },
    {
      "cell_type": "code",
      "source": [
        "# list are dynamic it grows\n",
        "a = ['foo', 'bar', 'baz', 'qux', 'quux', 'corge']\n",
        "a[2:2] = [1, 2, 3]\n",
        "a += [3.14159]\n",
        "a"
      ],
      "metadata": {
        "colab": {
          "base_uri": "https://localhost:8080/"
        },
        "id": "lCtgTRKLxDUI",
        "outputId": "22cadc92-ffdb-4f17-b833-d8a216f83f4b"
      },
      "execution_count": 13,
      "outputs": [
        {
          "output_type": "execute_result",
          "data": {
            "text/plain": [
              "['foo', 'bar', 1, 2, 3, 'baz', 'qux', 'quux', 'corge', 3.14159]"
            ]
          },
          "metadata": {},
          "execution_count": 13
        }
      ]
    },
    {
      "cell_type": "code",
      "source": [
        "# list accomodate removal of item\n",
        "a = ['foo', 'bar', 'baz', 'qux', 'quux', 'corge']\n",
        "a[2:3] = []\n",
        "del a[0]\n",
        "a"
      ],
      "metadata": {
        "colab": {
          "base_uri": "https://localhost:8080/"
        },
        "id": "MvsTCi8gxVXF",
        "outputId": "714c97cb-e7be-4de3-915a-6ea9caa16376"
      },
      "execution_count": 14,
      "outputs": [
        {
          "output_type": "execute_result",
          "data": {
            "text/plain": [
              "['bar', 'qux', 'quux', 'corge']"
            ]
          },
          "metadata": {},
          "execution_count": 14
        }
      ]
    },
    {
      "cell_type": "code",
      "source": [
        "# tuple\n",
        "t = ('foo', 'bar', 'baz', 'qux', 'quux', 'corge')\n",
        "t\n"
      ],
      "metadata": {
        "colab": {
          "base_uri": "https://localhost:8080/"
        },
        "id": "uGG-0VDgxtxI",
        "outputId": "e1e48289-6419-4b36-e3fb-83cfb569ead4"
      },
      "execution_count": 15,
      "outputs": [
        {
          "output_type": "execute_result",
          "data": {
            "text/plain": [
              "('foo', 'bar', 'baz', 'qux', 'quux', 'corge')"
            ]
          },
          "metadata": {},
          "execution_count": 15
        }
      ]
    },
    {
      "cell_type": "code",
      "source": [
        "t[0]\n"
      ],
      "metadata": {
        "colab": {
          "base_uri": "https://localhost:8080/",
          "height": 35
        },
        "id": "D6feFcdEx0EL",
        "outputId": "cebc6331-4eb1-4a68-a3fa-eb0fd2eeac4a"
      },
      "execution_count": 16,
      "outputs": [
        {
          "output_type": "execute_result",
          "data": {
            "text/plain": [
              "'foo'"
            ],
            "application/vnd.google.colaboratory.intrinsic+json": {
              "type": "string"
            }
          },
          "metadata": {},
          "execution_count": 16
        }
      ]
    },
    {
      "cell_type": "code",
      "source": [
        "# tuple reversal\n",
        "t[::-1]"
      ],
      "metadata": {
        "colab": {
          "base_uri": "https://localhost:8080/"
        },
        "id": "lCFLS5dWx4Nv",
        "outputId": "f5fd9968-e09b-4e89-e48e-fc948675b629"
      },
      "execution_count": 17,
      "outputs": [
        {
          "output_type": "execute_result",
          "data": {
            "text/plain": [
              "('corge', 'quux', 'qux', 'baz', 'bar', 'foo')"
            ]
          },
          "metadata": {},
          "execution_count": 17
        }
      ]
    },
    {
      "cell_type": "code",
      "source": [
        "# tuples can't be modified\n",
        "t[2] = 'Bark!'"
      ],
      "metadata": {
        "colab": {
          "base_uri": "https://localhost:8080/",
          "height": 183
        },
        "id": "kfvdnZV1yDtQ",
        "outputId": "5ea33385-1408-4e9d-86a5-e08183993095"
      },
      "execution_count": 18,
      "outputs": [
        {
          "output_type": "error",
          "ename": "TypeError",
          "evalue": "ignored",
          "traceback": [
            "\u001b[0;31m---------------------------------------------------------------------------\u001b[0m",
            "\u001b[0;31mTypeError\u001b[0m                                 Traceback (most recent call last)",
            "\u001b[0;32m<ipython-input-18-6b63c2f53f3c>\u001b[0m in \u001b[0;36m<module>\u001b[0;34m\u001b[0m\n\u001b[1;32m      1\u001b[0m \u001b[0;31m# tuples can't be modified\u001b[0m\u001b[0;34m\u001b[0m\u001b[0;34m\u001b[0m\u001b[0;34m\u001b[0m\u001b[0m\n\u001b[0;32m----> 2\u001b[0;31m \u001b[0mt\u001b[0m\u001b[0;34m[\u001b[0m\u001b[0;36m2\u001b[0m\u001b[0;34m]\u001b[0m \u001b[0;34m=\u001b[0m \u001b[0;34m'Bark!'\u001b[0m\u001b[0;34m\u001b[0m\u001b[0;34m\u001b[0m\u001b[0m\n\u001b[0m",
            "\u001b[0;31mTypeError\u001b[0m: 'tuple' object does not support item assignment"
          ]
        }
      ]
    },
    {
      "cell_type": "code",
      "source": [
        "a = 'foo'\n",
        "b = 42\n",
        "a, 3.14159, b # an easy way of creating a tuple"
      ],
      "metadata": {
        "colab": {
          "base_uri": "https://localhost:8080/"
        },
        "id": "xy22zgzeySBt",
        "outputId": "dd261e98-12ba-4f42-da18-c77bc828a478"
      },
      "execution_count": 19,
      "outputs": [
        {
          "output_type": "execute_result",
          "data": {
            "text/plain": [
              "('foo', 3.14159, 42)"
            ]
          },
          "metadata": {},
          "execution_count": 19
        }
      ]
    },
    {
      "cell_type": "code",
      "source": [
        "# this is a tuple\n",
        "t = ()\n",
        "type(t)"
      ],
      "metadata": {
        "colab": {
          "base_uri": "https://localhost:8080/"
        },
        "id": "3ZjLKCm4yk8s",
        "outputId": "538c37b2-aa4c-4b52-e715-a542dad226a6"
      },
      "execution_count": 20,
      "outputs": [
        {
          "output_type": "execute_result",
          "data": {
            "text/plain": [
              "tuple"
            ]
          },
          "metadata": {},
          "execution_count": 20
        }
      ]
    },
    {
      "cell_type": "code",
      "source": [
        "# this is also a tuple\n",
        "t = (1, 2)\n",
        "type(t)"
      ],
      "metadata": {
        "colab": {
          "base_uri": "https://localhost:8080/"
        },
        "id": "YTOfZ4w2yq9-",
        "outputId": "4b550a93-4d6c-41e4-8a30-53efc6af1c51"
      },
      "execution_count": 21,
      "outputs": [
        {
          "output_type": "execute_result",
          "data": {
            "text/plain": [
              "tuple"
            ]
          },
          "metadata": {},
          "execution_count": 21
        }
      ]
    },
    {
      "cell_type": "code",
      "source": [
        "# this is not a tuple\n",
        "t = (1)\n",
        "type(t)"
      ],
      "metadata": {
        "colab": {
          "base_uri": "https://localhost:8080/"
        },
        "id": "ezHiPrtpyxTW",
        "outputId": "79c0d762-d97b-40fb-c69b-08d6531b55ae"
      },
      "execution_count": 23,
      "outputs": [
        {
          "output_type": "execute_result",
          "data": {
            "text/plain": [
              "int"
            ]
          },
          "metadata": {},
          "execution_count": 23
        }
      ]
    },
    {
      "cell_type": "code",
      "source": [
        "# this is a tuple\n",
        "t = (2, )\n",
        "type(t)\n"
      ],
      "metadata": {
        "colab": {
          "base_uri": "https://localhost:8080/"
        },
        "id": "qirXXdLZy9rh",
        "outputId": "860d1e4a-9117-42f6-f187-0710f85ddb86"
      },
      "execution_count": 24,
      "outputs": [
        {
          "output_type": "execute_result",
          "data": {
            "text/plain": [
              "tuple"
            ]
          },
          "metadata": {},
          "execution_count": 24
        }
      ]
    },
    {
      "cell_type": "code",
      "source": [
        "t = (2, )\n",
        "print(t)"
      ],
      "metadata": {
        "colab": {
          "base_uri": "https://localhost:8080/"
        },
        "id": "e-jXGNFQzGas",
        "outputId": "84224b13-75c0-48d9-ca10-1797ae564331"
      },
      "execution_count": 25,
      "outputs": [
        {
          "output_type": "stream",
          "name": "stdout",
          "text": [
            "(2,)\n"
          ]
        }
      ]
    },
    {
      "cell_type": "code",
      "source": [
        "t = ('foo', 'bar', 'baz', 'qux')\n",
        "(s1, s2, s3, s4) = t # unpacking\n",
        "s1"
      ],
      "metadata": {
        "colab": {
          "base_uri": "https://localhost:8080/",
          "height": 35
        },
        "id": "sPanam0rzSCv",
        "outputId": "ed9814c6-3fca-4d63-e1e8-6395d318b1fe"
      },
      "execution_count": 27,
      "outputs": [
        {
          "output_type": "execute_result",
          "data": {
            "text/plain": [
              "'foo'"
            ],
            "application/vnd.google.colaboratory.intrinsic+json": {
              "type": "string"
            }
          },
          "metadata": {},
          "execution_count": 27
        }
      ]
    },
    {
      "cell_type": "code",
      "source": [
        "a = 'foo'\n",
        "b = 'bar'\n",
        "a, b = b, a\n",
        "(a, b)"
      ],
      "metadata": {
        "colab": {
          "base_uri": "https://localhost:8080/"
        },
        "id": "U3QmysQYz17B",
        "outputId": "55d54514-a63d-4efe-9b33-7e0ad7f3fc9d"
      },
      "execution_count": 28,
      "outputs": [
        {
          "output_type": "execute_result",
          "data": {
            "text/plain": [
              "('bar', 'foo')"
            ]
          },
          "metadata": {},
          "execution_count": 28
        }
      ]
    }
  ]
}