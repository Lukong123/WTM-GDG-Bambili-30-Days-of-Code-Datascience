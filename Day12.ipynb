{
  "nbformat": 4,
  "nbformat_minor": 0,
  "metadata": {
    "colab": {
      "provenance": [],
      "collapsed_sections": [],
      "authorship_tag": "ABX9TyPsDQ4RWSWAElFPeyHtCu5H",
      "include_colab_link": true
    },
    "kernelspec": {
      "name": "python3",
      "display_name": "Python 3"
    },
    "language_info": {
      "name": "python"
    }
  },
  "cells": [
    {
      "cell_type": "markdown",
      "metadata": {
        "id": "view-in-github",
        "colab_type": "text"
      },
      "source": [
        "<a href=\"https://colab.research.google.com/github/Lukong123/WTM-GDG-Bambili-30-Days-of-Code-Datascience/blob/main/Day12.ipynb\" target=\"_parent\"><img src=\"https://colab.research.google.com/assets/colab-badge.svg\" alt=\"Open In Colab\"/></a>"
      ]
    },
    {
      "cell_type": "code",
      "execution_count": null,
      "metadata": {
        "colab": {
          "base_uri": "https://localhost:8080/"
        },
        "id": "Id8MwDYh1SJS",
        "outputId": "2a65eea8-016e-4ad5-cd8b-fecf811334aa"
      },
      "outputs": [
        {
          "output_type": "stream",
          "name": "stdout",
          "text": [
            "10\n"
          ]
        }
      ],
      "source": [
        "# integers\n",
        "print(10)"
      ]
    },
    {
      "cell_type": "code",
      "source": [
        "type(10)"
      ],
      "metadata": {
        "colab": {
          "base_uri": "https://localhost:8080/"
        },
        "id": "w6BWJNPj4fVU",
        "outputId": "0748be81-4c77-4eb9-cef2-b104c0a9fbab"
      },
      "execution_count": 2,
      "outputs": [
        {
          "output_type": "execute_result",
          "data": {
            "text/plain": [
              "int"
            ]
          },
          "metadata": {},
          "execution_count": 2
        }
      ]
    },
    {
      "cell_type": "code",
      "source": [
        "# 0O octal\n",
        "print(0o10)"
      ],
      "metadata": {
        "colab": {
          "base_uri": "https://localhost:8080/"
        },
        "id": "TuXLNa5K2CG3",
        "outputId": "8d3e30de-27aa-4157-a1bc-f9c39da50d66"
      },
      "execution_count": null,
      "outputs": [
        {
          "output_type": "stream",
          "name": "stdout",
          "text": [
            "8\n"
          ]
        }
      ]
    },
    {
      "cell_type": "code",
      "source": [
        "# 0x hexadecimal\n",
        "print(0x10)"
      ],
      "metadata": {
        "colab": {
          "base_uri": "https://localhost:8080/"
        },
        "id": "5V9EbN9-2LsQ",
        "outputId": "c07cc454-01a5-4f4b-8b46-c0f6b7326c27"
      },
      "execution_count": null,
      "outputs": [
        {
          "output_type": "stream",
          "name": "stdout",
          "text": [
            "16\n"
          ]
        }
      ]
    },
    {
      "cell_type": "code",
      "source": [
        "# 0b binary\n",
        "print(0b10)"
      ],
      "metadata": {
        "id": "0dThFaaE2Xu5",
        "outputId": "d93ac9a5-d55f-4170-bcb5-a2def5a2a5c2",
        "colab": {
          "base_uri": "https://localhost:8080/"
        }
      },
      "execution_count": null,
      "outputs": [
        {
          "output_type": "stream",
          "name": "stdout",
          "text": [
            "2\n"
          ]
        }
      ]
    },
    {
      "cell_type": "code",
      "source": [
        "# Floating point\n",
        ".4e7"
      ],
      "metadata": {
        "colab": {
          "base_uri": "https://localhost:8080/"
        },
        "id": "T52Tzx5Y4Hzg",
        "outputId": "44104f72-8358-4f08-bfb3-f2682cf41aec"
      },
      "execution_count": 1,
      "outputs": [
        {
          "output_type": "execute_result",
          "data": {
            "text/plain": [
              "4000000.0"
            ]
          },
          "metadata": {},
          "execution_count": 1
        }
      ]
    },
    {
      "cell_type": "code",
      "source": [
        "4.2e-4\n",
        "type(4.2e-4)"
      ],
      "metadata": {
        "colab": {
          "base_uri": "https://localhost:8080/"
        },
        "id": "bXR7mGNF4k7l",
        "outputId": "5b5e9966-71cb-4d50-a49a-194645c81c31"
      },
      "execution_count": 4,
      "outputs": [
        {
          "output_type": "execute_result",
          "data": {
            "text/plain": [
              "float"
            ]
          },
          "metadata": {},
          "execution_count": 4
        }
      ]
    },
    {
      "cell_type": "code",
      "source": [
        "# complex number\n",
        "2 + 3j\n",
        "type(2+3j)"
      ],
      "metadata": {
        "colab": {
          "base_uri": "https://localhost:8080/"
        },
        "id": "nckWCVXq5Lza",
        "outputId": "31f10b8f-0d52-43c8-ed65-8b6ba7f9afc0"
      },
      "execution_count": 9,
      "outputs": [
        {
          "output_type": "execute_result",
          "data": {
            "text/plain": [
              "complex"
            ]
          },
          "metadata": {},
          "execution_count": 9
        }
      ]
    },
    {
      "cell_type": "code",
      "source": [
        "# string\n",
        "print(\"I am a string.\")\n",
        "type(\"I am a string\")"
      ],
      "metadata": {
        "colab": {
          "base_uri": "https://localhost:8080/"
        },
        "id": "FefCg6NK5fSY",
        "outputId": "76f8fc83-063b-48e2-8aa7-929caeb62e8c"
      },
      "execution_count": 10,
      "outputs": [
        {
          "output_type": "stream",
          "name": "stdout",
          "text": [
            "I am a string.\n"
          ]
        },
        {
          "output_type": "execute_result",
          "data": {
            "text/plain": [
              "str"
            ]
          },
          "metadata": {},
          "execution_count": 10
        }
      ]
    },
    {
      "cell_type": "code",
      "source": [
        "print(\"This string contains a single quote (') character.\")\n",
        "print('This string contains a double quote (\") character.')"
      ],
      "metadata": {
        "colab": {
          "base_uri": "https://localhost:8080/"
        },
        "id": "A8mfN1FA5tw3",
        "outputId": "4d0dbeb1-7ddf-44cc-fea0-74580ae9f4a5"
      },
      "execution_count": 12,
      "outputs": [
        {
          "output_type": "stream",
          "name": "stdout",
          "text": [
            "This string contains a single quote (') character.\n",
            "This string contains a double quote (\") character.\n"
          ]
        }
      ]
    },
    {
      "cell_type": "code",
      "source": [
        "# backslash\n",
        "print('This string contains a single quote (\\') character.')"
      ],
      "metadata": {
        "colab": {
          "base_uri": "https://localhost:8080/"
        },
        "id": "hvy_HdXO6Akl",
        "outputId": "734f282c-7316-44d5-a87c-a895aa3bc27d"
      },
      "execution_count": 13,
      "outputs": [
        {
          "output_type": "stream",
          "name": "stdout",
          "text": [
            "This string contains a single quote (') character.\n"
          ]
        }
      ]
    },
    {
      "cell_type": "code",
      "source": [
        "# tab \n",
        "print('foo\\tbar')\n"
      ],
      "metadata": {
        "colab": {
          "base_uri": "https://localhost:8080/"
        },
        "id": "GNdqmJWe6cFh",
        "outputId": "a204a27f-960d-4f83-fce5-29824d1d61e0"
      },
      "execution_count": 14,
      "outputs": [
        {
          "output_type": "stream",
          "name": "stdout",
          "text": [
            "foo\tbar\n"
          ]
        }
      ]
    },
    {
      "cell_type": "code",
      "source": [
        "print(\"a\\141\\x61\")"
      ],
      "metadata": {
        "colab": {
          "base_uri": "https://localhost:8080/"
        },
        "id": "DirtsBoZ61bE",
        "outputId": "317a66ac-252f-4e41-c6e7-2ae08033bcc6"
      },
      "execution_count": 15,
      "outputs": [
        {
          "output_type": "stream",
          "name": "stdout",
          "text": [
            "aaa\n"
          ]
        }
      ]
    },
    {
      "cell_type": "code",
      "source": [
        "# new line\n",
        "print(\"a\\nb\")"
      ],
      "metadata": {
        "colab": {
          "base_uri": "https://localhost:8080/"
        },
        "id": "5VDFnoG9654h",
        "outputId": "541f34fe-483f-4bce-a6b1-816ccc506870"
      },
      "execution_count": 16,
      "outputs": [
        {
          "output_type": "stream",
          "name": "stdout",
          "text": [
            "a\n",
            "b\n"
          ]
        }
      ]
    },
    {
      "cell_type": "code",
      "source": [
        "# right arrow\n",
        "print('\\u2192 \\N{rightwards arrow}')"
      ],
      "metadata": {
        "colab": {
          "base_uri": "https://localhost:8080/"
        },
        "id": "pXkn0lon6_C0",
        "outputId": "5c29856a-f0f8-44ad-a506-68af003bc824"
      },
      "execution_count": 18,
      "outputs": [
        {
          "output_type": "stream",
          "name": "stdout",
          "text": [
            "→ →\n"
          ]
        }
      ]
    },
    {
      "cell_type": "code",
      "source": [
        "# raw strings strarts with either r or R\n",
        "print(r'foo\\nbar')\n",
        "print(R'foo\\\\bar')"
      ],
      "metadata": {
        "colab": {
          "base_uri": "https://localhost:8080/"
        },
        "id": "PQvcrODc7Nkf",
        "outputId": "8ff8c312-1ce6-4bf1-cd94-f8eb2ba3b553"
      },
      "execution_count": 20,
      "outputs": [
        {
          "output_type": "stream",
          "name": "stdout",
          "text": [
            "foo\\nbar\n",
            "foo\\\\bar\n"
          ]
        }
      ]
    },
    {
      "cell_type": "code",
      "source": [
        "# tripple quoted strings you don't need escape characters\n",
        "print('''This string has a single (') and a double (\") quote.''')\n",
        "print(\"\"\"This is a\n",
        "string that spans\n",
        "across several lines\"\"\")"
      ],
      "metadata": {
        "colab": {
          "base_uri": "https://localhost:8080/"
        },
        "id": "hSi3YRIo7fvi",
        "outputId": "8315d586-659a-4bbb-b82a-487c9a1c19c4"
      },
      "execution_count": 21,
      "outputs": [
        {
          "output_type": "stream",
          "name": "stdout",
          "text": [
            "This string has a single (') and a double (\") quote.\n",
            "This is a\n",
            "string that spans\n",
            "across several lines\n"
          ]
        }
      ]
    },
    {
      "cell_type": "code",
      "source": [
        "# boolean\n",
        "print(type(True))\n",
        "print(type(False))"
      ],
      "metadata": {
        "colab": {
          "base_uri": "https://localhost:8080/"
        },
        "id": "vuDqwwKH7yWW",
        "outputId": "e9b9afb5-b7e9-4659-c7b7-bac0638dfaad"
      },
      "execution_count": 22,
      "outputs": [
        {
          "output_type": "stream",
          "name": "stdout",
          "text": [
            "<class 'bool'>\n",
            "<class 'bool'>\n"
          ]
        }
      ]
    },
    {
      "cell_type": "code",
      "source": [
        "# built in function\n",
        "divmod(24,5) # divmod gives quotient and remainder"
      ],
      "metadata": {
        "colab": {
          "base_uri": "https://localhost:8080/"
        },
        "id": "5P8rzFBr8VXs",
        "outputId": "d4ed11b5-8d23-415b-880e-5a8a54d93b80"
      },
      "execution_count": 26,
      "outputs": [
        {
          "output_type": "execute_result",
          "data": {
            "text/plain": [
              "(4, 4)"
            ]
          },
          "metadata": {},
          "execution_count": 26
        }
      ]
    }
  ]
}