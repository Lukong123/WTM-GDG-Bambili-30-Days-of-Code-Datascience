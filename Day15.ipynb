{
  "nbformat": 4,
  "nbformat_minor": 0,
  "metadata": {
    "colab": {
      "provenance": [],
      "authorship_tag": "ABX9TyMC+A0Cy1oPzZqhjYo7lNE+",
      "include_colab_link": true
    },
    "kernelspec": {
      "name": "python3",
      "display_name": "Python 3"
    },
    "language_info": {
      "name": "python"
    }
  },
  "cells": [
    {
      "cell_type": "markdown",
      "metadata": {
        "id": "view-in-github",
        "colab_type": "text"
      },
      "source": [
        "<a href=\"https://colab.research.google.com/github/Lukong123/WTM-GDG-Bambili-30-Days-of-Code-Datascience/blob/main/Day15.ipynb\" target=\"_parent\"><img src=\"https://colab.research.google.com/assets/colab-badge.svg\" alt=\"Open In Colab\"/></a>"
      ]
    },
    {
      "cell_type": "code",
      "execution_count": 2,
      "metadata": {
        "colab": {
          "base_uri": "https://localhost:8080/",
          "height": 53
        },
        "id": "Xlk0OEw-jTpe",
        "outputId": "e5f56a68-57a2-4b78-863c-35357aef9ae2"
      },
      "outputs": [
        {
          "name": "stdout",
          "output_type": "stream",
          "text": [
            "foo bar baz\n"
          ]
        },
        {
          "output_type": "execute_result",
          "data": {
            "text/plain": [
              "'foo bar baz'"
            ],
            "application/vnd.google.colaboratory.intrinsic+json": {
              "type": "string"
            }
          },
          "metadata": {},
          "execution_count": 2
        }
      ],
      "source": [
        "# python input output\n",
        "user_input = input()\n",
        "user_input"
      ]
    },
    {
      "cell_type": "code",
      "source": [
        "name = input(\"What is your name? \")\n",
        "name"
      ],
      "metadata": {
        "colab": {
          "base_uri": "https://localhost:8080/",
          "height": 53
        },
        "id": "2csdN_nhk3mX",
        "outputId": "2d7b7e2b-a8be-474a-c6ec-e7b2acfff880"
      },
      "execution_count": 4,
      "outputs": [
        {
          "name": "stdout",
          "output_type": "stream",
          "text": [
            "What is your name? Anne\n"
          ]
        },
        {
          "output_type": "execute_result",
          "data": {
            "text/plain": [
              "'Anne'"
            ],
            "application/vnd.google.colaboratory.intrinsic+json": {
              "type": "string"
            }
          },
          "metadata": {},
          "execution_count": 4
        }
      ]
    },
    {
      "cell_type": "code",
      "source": [
        "# input always return a string\n",
        "number = input(\"Enter a number: \")\n",
        "print(number + 100)"
      ],
      "metadata": {
        "colab": {
          "base_uri": "https://localhost:8080/",
          "height": 217
        },
        "id": "QFrw4-yIlAZH",
        "outputId": "6410ed66-cb14-4980-baca-1e7e5d5ad389"
      },
      "execution_count": 6,
      "outputs": [
        {
          "name": "stdout",
          "output_type": "stream",
          "text": [
            "Enter a number: 20\n"
          ]
        },
        {
          "output_type": "error",
          "ename": "TypeError",
          "evalue": "ignored",
          "traceback": [
            "\u001b[0;31m---------------------------------------------------------------------------\u001b[0m",
            "\u001b[0;31mTypeError\u001b[0m                                 Traceback (most recent call last)",
            "\u001b[0;32m<ipython-input-6-886cac40c64f>\u001b[0m in \u001b[0;36m<module>\u001b[0;34m\u001b[0m\n\u001b[1;32m      1\u001b[0m \u001b[0;31m# input always return a string\u001b[0m\u001b[0;34m\u001b[0m\u001b[0;34m\u001b[0m\u001b[0;34m\u001b[0m\u001b[0m\n\u001b[1;32m      2\u001b[0m \u001b[0mnumber\u001b[0m \u001b[0;34m=\u001b[0m \u001b[0minput\u001b[0m\u001b[0;34m(\u001b[0m\u001b[0;34m\"Enter a number: \"\u001b[0m\u001b[0;34m)\u001b[0m\u001b[0;34m\u001b[0m\u001b[0;34m\u001b[0m\u001b[0m\n\u001b[0;32m----> 3\u001b[0;31m \u001b[0mprint\u001b[0m\u001b[0;34m(\u001b[0m\u001b[0mnumber\u001b[0m \u001b[0;34m+\u001b[0m \u001b[0;36m100\u001b[0m\u001b[0;34m)\u001b[0m\u001b[0;34m\u001b[0m\u001b[0;34m\u001b[0m\u001b[0m\n\u001b[0m",
            "\u001b[0;31mTypeError\u001b[0m: can only concatenate str (not \"int\") to str"
          ]
        }
      ]
    },
    {
      "cell_type": "code",
      "source": [
        "# if you want numeric type you need to convert the string to the appropraite type\n",
        "number = int(input(\"Enter a number: \"))\n",
        "print(number + 100)\n"
      ],
      "metadata": {
        "colab": {
          "base_uri": "https://localhost:8080/"
        },
        "id": "vUI3iFP8lWYM",
        "outputId": "138d7e8a-355b-4231-9c0a-02a849b2bbdb"
      },
      "execution_count": 7,
      "outputs": [
        {
          "output_type": "stream",
          "name": "stdout",
          "text": [
            "Enter a number: 20\n",
            "120\n"
          ]
        }
      ]
    },
    {
      "cell_type": "code",
      "source": [
        "# writting output to console\n",
        "first_name = \"Winston\"\n",
        "last_name = \"Smith\"\n",
        "print(\"Name:\", first_name, last_name)"
      ],
      "metadata": {
        "colab": {
          "base_uri": "https://localhost:8080/"
        },
        "id": "vzCQyjV1llmZ",
        "outputId": "2946c015-8c35-46fa-edd0-aaddd5c2dc77"
      },
      "execution_count": 9,
      "outputs": [
        {
          "output_type": "stream",
          "name": "stdout",
          "text": [
            "Name: Winston Smith\n"
          ]
        }
      ]
    },
    {
      "cell_type": "code",
      "source": [
        "# if an object is not a string, print converts it to a string representation\n",
        "example_list = [1, 2, 3]\n",
        "example_int = -12\n",
        "example_dict = {\"foo\": 1, \"bar\": 2}\n",
        "print(example_list, example_int, example_dict, len)"
      ],
      "metadata": {
        "colab": {
          "base_uri": "https://localhost:8080/"
        },
        "id": "B9loivOLmJHF",
        "outputId": "6aa44890-5dd0-4c3b-c770-539574cf87ae"
      },
      "execution_count": 10,
      "outputs": [
        {
          "output_type": "stream",
          "name": "stdout",
          "text": [
            "[1, 2, 3] -12 {'foo': 1, 'bar': 2} <built-in function len>\n"
          ]
        }
      ]
    },
    {
      "cell_type": "code",
      "source": [
        "# seperating printed values with sep\n",
        "print(\"foo\", 42, \"bar\")\n",
        "print(\"foo\", 42, \"bar\", sep=\"/\")\n",
        "print(\"foo\", 42, \"bar\", sep=\"...\")\n",
        "d = {\"foo\": 1, \"bar\": 2, \"baz\": 3}\n",
        "for k, v in d.items():\n",
        "  print(k, v, sep=\" -> \")"
      ],
      "metadata": {
        "colab": {
          "base_uri": "https://localhost:8080/"
        },
        "id": "dBubOmRcnJ8W",
        "outputId": "57fb3278-8e33-445c-e5fc-1e4131fce0fe"
      },
      "execution_count": 11,
      "outputs": [
        {
          "output_type": "stream",
          "name": "stdout",
          "text": [
            "foo 42 bar\n",
            "foo/42/bar\n",
            "foo...42...bar\n",
            "foo -> 1\n",
            "bar -> 2\n",
            "baz -> 3\n"
          ]
        }
      ]
    },
    {
      "cell_type": "code",
      "source": [
        "# squishing objects together without any space\n",
        "print(\"foo\", 42, \"bar\", sep=\"\")"
      ],
      "metadata": {
        "colab": {
          "base_uri": "https://localhost:8080/"
        },
        "id": "RjBu1cxcpjmr",
        "outputId": "292a665a-2e5e-4845-fd44-857a71880bb7"
      },
      "execution_count": 12,
      "outputs": [
        {
          "output_type": "stream",
          "name": "stdout",
          "text": [
            "foo42bar\n"
          ]
        }
      ]
    },
    {
      "cell_type": "code",
      "source": [
        "# using keyword end to end a string by a specified character\n",
        "if True:\n",
        "  print(\"foo\", end=\"/\")\n",
        "  print(42, end=\"/\")\n",
        "  print(\"bar\")"
      ],
      "metadata": {
        "colab": {
          "base_uri": "https://localhost:8080/"
        },
        "id": "a2QUoTtyp2Yo",
        "outputId": "53240806-4e69-4488-cb5a-83c0ef8a0f70"
      },
      "execution_count": 13,
      "outputs": [
        {
          "output_type": "stream",
          "name": "stdout",
          "text": [
            "foo/42/bar\n"
          ]
        }
      ]
    },
    {
      "cell_type": "code",
      "source": [
        "# printing numbers from a for loop in one line using end\n",
        "for number in range(10):\n",
        "  print(number, end=(\" \" if number < 9 else \"\\n\"))"
      ],
      "metadata": {
        "colab": {
          "base_uri": "https://localhost:8080/"
        },
        "id": "XtGw95T1qEiH",
        "outputId": "ee5c95e9-260c-4fff-f3f7-d0bf367e435a"
      },
      "execution_count": 14,
      "outputs": [
        {
          "output_type": "stream",
          "name": "stdout",
          "text": [
            "0 1 2 3 4 5 6 7 8 9\n"
          ]
        }
      ]
    },
    {
      "cell_type": "code",
      "source": [
        "# formatted string\n",
        "name = input(\"What is your name? \")\n",
        "age = int(input(\"How old are you? \"))\n",
        "f\"Hello, {name}. You are {age}.\""
      ],
      "metadata": {
        "colab": {
          "base_uri": "https://localhost:8080/",
          "height": 70
        },
        "id": "GG7yshx0q5fo",
        "outputId": "fd643965-0547-4547-81d2-5cfb4fbff6ef"
      },
      "execution_count": 16,
      "outputs": [
        {
          "name": "stdout",
          "output_type": "stream",
          "text": [
            "What is your name? Anne\n",
            "How old are you? 20\n"
          ]
        },
        {
          "output_type": "execute_result",
          "data": {
            "text/plain": [
              "'Hello, Anne. You are 20.'"
            ],
            "application/vnd.google.colaboratory.intrinsic+json": {
              "type": "string"
            }
          },
          "metadata": {},
          "execution_count": 16
        }
      ]
    },
    {
      "cell_type": "code",
      "source": [
        "f\"Hello, {name}. In 50 years, you'll be {age + 50}.\""
      ],
      "metadata": {
        "colab": {
          "base_uri": "https://localhost:8080/",
          "height": 35
        },
        "id": "JR-tleF7rCJu",
        "outputId": "39d94fe1-78d7-412d-89de-1b1b4d822aa5"
      },
      "execution_count": 17,
      "outputs": [
        {
          "output_type": "execute_result",
          "data": {
            "text/plain": [
              "\"Hello, Anne. In 50 years, you'll be 70.\""
            ],
            "application/vnd.google.colaboratory.intrinsic+json": {
              "type": "string"
            }
          },
          "metadata": {},
          "execution_count": 17
        }
      ]
    }
  ]
}