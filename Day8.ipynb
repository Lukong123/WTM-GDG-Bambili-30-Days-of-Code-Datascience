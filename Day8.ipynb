{
  "nbformat": 4,
  "nbformat_minor": 0,
  "metadata": {
    "colab": {
      "provenance": [],
      "authorship_tag": "ABX9TyMhjB5/52JkBsAWlNG0ukUf",
      "include_colab_link": true
    },
    "kernelspec": {
      "name": "python3",
      "display_name": "Python 3"
    },
    "language_info": {
      "name": "python"
    }
  },
  "cells": [
    {
      "cell_type": "markdown",
      "metadata": {
        "id": "view-in-github",
        "colab_type": "text"
      },
      "source": [
        "<a href=\"https://colab.research.google.com/github/Lukong123/WTM-GDG-Bambili-30-Days-of-Code-Datascience/blob/main/Day8.ipynb\" target=\"_parent\"><img src=\"https://colab.research.google.com/assets/colab-badge.svg\" alt=\"Open In Colab\"/></a>"
      ]
    },
    {
      "cell_type": "code",
      "execution_count": 11,
      "metadata": {
        "colab": {
          "base_uri": "https://localhost:8080/"
        },
        "id": "3ySGqk5bBs23",
        "outputId": "8692779b-792c-4f7a-d373-fe2573f289ea"
      },
      "outputs": [
        {
          "output_type": "stream",
          "name": "stdout",
          "text": [
            "yes\n"
          ]
        }
      ],
      "source": [
        "x = 0\n",
        "y = 5\n",
        "if x < y:\n",
        "  print('yes')"
      ]
    },
    {
      "cell_type": "code",
      "source": [
        "if y < x:\n",
        "  print('yes')"
      ],
      "metadata": {
        "id": "1Ma3TrXbCsV0"
      },
      "execution_count": 4,
      "outputs": []
    },
    {
      "cell_type": "code",
      "source": [
        "if x:\n",
        "  print('yes')"
      ],
      "metadata": {
        "id": "NGlEQrdwC2P-"
      },
      "execution_count": 13,
      "outputs": []
    },
    {
      "cell_type": "code",
      "source": [
        "if y:\n",
        "  print('yes')"
      ],
      "metadata": {
        "colab": {
          "base_uri": "https://localhost:8080/"
        },
        "id": "X5wX82wIC57X",
        "outputId": "9a5df020-4361-4657-c940-09c21941b261"
      },
      "execution_count": 14,
      "outputs": [
        {
          "output_type": "stream",
          "name": "stdout",
          "text": [
            "yes\n"
          ]
        }
      ]
    },
    {
      "cell_type": "code",
      "source": [
        "if 'aul' in 'grault':\n",
        "  print('yes')"
      ],
      "metadata": {
        "colab": {
          "base_uri": "https://localhost:8080/"
        },
        "id": "-hCNNvWADtlP",
        "outputId": "03637857-10e0-471a-bee0-85ce2828936f"
      },
      "execution_count": 16,
      "outputs": [
        {
          "output_type": "stream",
          "name": "stdout",
          "text": [
            "yes\n"
          ]
        }
      ]
    },
    {
      "cell_type": "code",
      "source": [
        "if 'quux' in ['foo', 'bar', 'baz']:\n",
        "  print('yes')"
      ],
      "metadata": {
        "id": "72NAI162Dz5j"
      },
      "execution_count": 17,
      "outputs": []
    },
    {
      "cell_type": "code",
      "source": [
        "# Grouping statement\n",
        "if 'foo' in ['foo', 'bar', 'baz']:\n",
        "    print('Outer condition is true')\n",
        "\n",
        "    if 10 > 20:\n",
        "        print('Inner condition 1')\n",
        "\n",
        "    print('Between inner conditions')\n",
        "\n",
        "    if 10 < 20:\n",
        "        print('Inner condition 2')\n",
        "\n",
        "    print('End of outer condition')\n",
        "print('After outer condition')"
      ],
      "metadata": {
        "colab": {
          "base_uri": "https://localhost:8080/"
        },
        "id": "AlOlHiHdEeiN",
        "outputId": "380f7b06-ed14-4680-aa7a-764bddbc5c08"
      },
      "execution_count": 19,
      "outputs": [
        {
          "output_type": "stream",
          "name": "stdout",
          "text": [
            "Outer condition is true\n",
            "Between inner conditions\n",
            "Inner condition 2\n",
            "End of outer condition\n",
            "After outer condition\n"
          ]
        }
      ]
    },
    {
      "cell_type": "code",
      "source": [
        "# else and elif\n",
        "x = 20\n",
        "if x < 50:\n",
        "  print('(first suite)')\n",
        "  print('x is small')\n",
        "else:\n",
        "  print('(second suite)')\n",
        "  print('x is large')"
      ],
      "metadata": {
        "colab": {
          "base_uri": "https://localhost:8080/"
        },
        "id": "6ubQl7UIFXe7",
        "outputId": "4b8d06a2-b308-4e53-8fb9-afc95a404baa"
      },
      "execution_count": 21,
      "outputs": [
        {
          "output_type": "stream",
          "name": "stdout",
          "text": [
            "(first suite)\n",
            "x is small\n"
          ]
        }
      ]
    },
    {
      "cell_type": "code",
      "source": [
        "# elif\n",
        "name = 'Joe'\n",
        "if name == 'Fred':\n",
        "  print('Hello Fred')\n",
        "elif name == 'Xander':\n",
        "   print('Hello Xander')\n",
        "elif name == 'Joe':\n",
        "  print('Hello Joe')\n",
        "elif name == 'Arnold':\n",
        "  print('Hello Arnold')\n",
        "else:\n",
        "   print(\"I don't know who you are!\")"
      ],
      "metadata": {
        "colab": {
          "base_uri": "https://localhost:8080/"
        },
        "id": "FWbEgOuCGasG",
        "outputId": "743d7927-a40c-4c1b-b346-584a9791a00b"
      },
      "execution_count": 25,
      "outputs": [
        {
          "output_type": "stream",
          "name": "stdout",
          "text": [
            "Hello Joe\n"
          ]
        }
      ]
    },
    {
      "cell_type": "code",
      "source": [
        "# one line if statement\n",
        "if 'f' in 'foo': print('1'); print('2'); print('3')"
      ],
      "metadata": {
        "colab": {
          "base_uri": "https://localhost:8080/"
        },
        "id": "fEPfZrKDJGhB",
        "outputId": "068d4aa9-0e28-45b0-99b9-a497bc4d1dcd"
      },
      "execution_count": 28,
      "outputs": [
        {
          "output_type": "stream",
          "name": "stdout",
          "text": [
            "1\n",
            "2\n",
            "3\n"
          ]
        }
      ]
    },
    {
      "cell_type": "code",
      "source": [
        "# python's tenary operator\n",
        "raining = True\n",
        "print(\"Let's go to the\", 'beach' if not raining else 'library')\n",
        "age = 12\n",
        "s = 'minor' if age < 21 else 'adult'\n",
        "s"
      ],
      "metadata": {
        "colab": {
          "base_uri": "https://localhost:8080/",
          "height": 53
        },
        "id": "JR3_JD3VL0yX",
        "outputId": "bb0015d4-09dc-49fa-cafa-50b92e78259d"
      },
      "execution_count": 32,
      "outputs": [
        {
          "output_type": "stream",
          "name": "stdout",
          "text": [
            "Let's go to the library\n"
          ]
        },
        {
          "output_type": "execute_result",
          "data": {
            "text/plain": [
              "'minor'"
            ],
            "application/vnd.google.colaboratory.intrinsic+json": {
              "type": "string"
            }
          },
          "metadata": {},
          "execution_count": 32
        }
      ]
    },
    {
      "cell_type": "markdown",
      "source": [
        "The middle expression is evaluated first, and based on that result, one of the expressions on the ends is returned."
      ],
      "metadata": {
        "id": "l8neIIeZMMxr"
      }
    },
    {
      "cell_type": "code",
      "source": [
        "x = 40; y = 40\n",
        "z = 1 + (x if x > y else y) + 2\n",
        "z"
      ],
      "metadata": {
        "colab": {
          "base_uri": "https://localhost:8080/"
        },
        "id": "HeE6ObcvMxdP",
        "outputId": "626c246c-7c91-41a0-e3e3-710c0da52822"
      },
      "execution_count": 36,
      "outputs": [
        {
          "output_type": "execute_result",
          "data": {
            "text/plain": [
              "43"
            ]
          },
          "metadata": {},
          "execution_count": 36
        }
      ]
    },
    {
      "cell_type": "code",
      "source": [
        "# python pass\n",
        "if True:\n",
        "    pass\n",
        "\n",
        "print('foo')"
      ],
      "metadata": {
        "colab": {
          "base_uri": "https://localhost:8080/"
        },
        "id": "nHBwP2dsNoWs",
        "outputId": "de91e7cc-238d-4d29-954f-b7b0d5b97399"
      },
      "execution_count": 37,
      "outputs": [
        {
          "output_type": "stream",
          "name": "stdout",
          "text": [
            "foo\n"
          ]
        }
      ]
    }
  ]
}