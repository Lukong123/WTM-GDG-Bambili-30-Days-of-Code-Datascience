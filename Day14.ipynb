{
  "nbformat": 4,
  "nbformat_minor": 0,
  "metadata": {
    "colab": {
      "provenance": [],
      "authorship_tag": "ABX9TyPQ2sya/jzqjBbF08WJcxua",
      "include_colab_link": true
    },
    "kernelspec": {
      "name": "python3",
      "display_name": "Python 3"
    },
    "language_info": {
      "name": "python"
    }
  },
  "cells": [
    {
      "cell_type": "markdown",
      "metadata": {
        "id": "view-in-github",
        "colab_type": "text"
      },
      "source": [
        "<a href=\"https://colab.research.google.com/github/Lukong123/WTM-GDG-Bambili-30-Days-of-Code-Datascience/blob/main/Day14.ipynb\" target=\"_parent\"><img src=\"https://colab.research.google.com/assets/colab-badge.svg\" alt=\"Open In Colab\"/></a>"
      ]
    },
    {
      "cell_type": "code",
      "execution_count": null,
      "metadata": {
        "id": "t5rzjMhWhxqZ",
        "colab": {
          "base_uri": "https://localhost:8080/"
        },
        "outputId": "dfa1fb53-1aec-434e-ae26-a8db1a0c5057"
      },
      "outputs": [
        {
          "output_type": "stream",
          "name": "stdout",
          "text": [
            "Before calling f()\n",
            "-- Inside f()\n",
            "After calling f()\n"
          ]
        }
      ],
      "source": [
        "# Functions\n",
        "def f():\n",
        "  s = '-- Inside f()'\n",
        "  print(s)\n",
        "print('Before calling f()')\n",
        "f()\n",
        "print('After calling f()')\n"
      ]
    },
    {
      "cell_type": "code",
      "source": [
        "# function stub\n",
        "def f():\n",
        "  pass"
      ],
      "metadata": {
        "id": "vq_Hyt44-HDR"
      },
      "execution_count": null,
      "outputs": []
    },
    {
      "cell_type": "code",
      "source": [
        "# arguments\n",
        "def f(qty, item ,price):\n",
        "  print(f'{qty} {item} cost ${price:.2f}')\n",
        "print(f(6, 'bananas', 1.74))"
      ],
      "metadata": {
        "id": "iAa8uBrK-EV1",
        "colab": {
          "base_uri": "https://localhost:8080/"
        },
        "outputId": "b4472ac3-8880-47ae-de6f-63cb5bd71bc5"
      },
      "execution_count": 2,
      "outputs": [
        {
          "output_type": "stream",
          "name": "stdout",
          "text": [
            "6 bananas cost $1.74\n",
            "None\n"
          ]
        }
      ]
    },
    {
      "cell_type": "code",
      "source": [],
      "metadata": {
        "id": "RCBjfkGx-3a7"
      },
      "execution_count": null,
      "outputs": []
    }
  ]
}