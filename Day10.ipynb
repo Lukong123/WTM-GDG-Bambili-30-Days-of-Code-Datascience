{
  "nbformat": 4,
  "nbformat_minor": 0,
  "metadata": {
    "colab": {
      "provenance": [],
      "authorship_tag": "ABX9TyOwFJ4PBYKvgtaNgZ/vS/qU",
      "include_colab_link": true
    },
    "kernelspec": {
      "name": "python3",
      "display_name": "Python 3"
    },
    "language_info": {
      "name": "python"
    }
  },
  "cells": [
    {
      "cell_type": "markdown",
      "metadata": {
        "id": "view-in-github",
        "colab_type": "text"
      },
      "source": [
        "<a href=\"https://colab.research.google.com/github/Lukong123/WTM-GDG-Bambili-30-Days-of-Code-Datascience/blob/main/Day10.ipynb\" target=\"_parent\"><img src=\"https://colab.research.google.com/assets/colab-badge.svg\" alt=\"Open In Colab\"/></a>"
      ]
    },
    {
      "cell_type": "code",
      "execution_count": 1,
      "metadata": {
        "colab": {
          "base_uri": "https://localhost:8080/"
        },
        "id": "e7sFCxdgTdWy",
        "outputId": "a1cf8bdb-d59f-4b12-ccc0-6fab7e9c04b3"
      },
      "outputs": [
        {
          "output_type": "stream",
          "name": "stdout",
          "text": [
            "foo\n",
            "bar\n",
            "baz\n"
          ]
        }
      ],
      "source": [
        "# for loops\n",
        "a = ['foo', 'bar', 'baz']\n",
        "for i in a:\n",
        "  print(i)"
      ]
    },
    {
      "cell_type": "code",
      "source": [
        "# sting, list , tuple, set, dict are all iterable compared to int, float, buil-in-function\n",
        "iter('foobar')\n",
        "iter(['foo', 'bar', 'baz'])   "
      ],
      "metadata": {
        "colab": {
          "base_uri": "https://localhost:8080/"
        },
        "id": "zLjHHJcUVhIS",
        "outputId": "4ef4003e-aba9-4a31-e87d-1449c755cebf"
      },
      "execution_count": 4,
      "outputs": [
        {
          "output_type": "execute_result",
          "data": {
            "text/plain": [
              "<list_iterator at 0x7ff6c355e390>"
            ]
          },
          "metadata": {},
          "execution_count": 4
        }
      ]
    },
    {
      "cell_type": "code",
      "source": [
        "# iter accessed by \"next()\"\n",
        "a = ['foo', 'bar', 'baz']\n",
        "itr1 = iter(a)\n",
        "itr2 = iter(a)"
      ],
      "metadata": {
        "id": "QUO4HbjBV-NU"
      },
      "execution_count": 8,
      "outputs": []
    },
    {
      "cell_type": "code",
      "source": [
        "print(next(itr1))\n",
        "print(next(itr1))\n",
        "print(next(itr1))\n",
        "print(next(itr2))\n",
        "print(next(itr2))\n",
        "print(next(itr2))"
      ],
      "metadata": {
        "colab": {
          "base_uri": "https://localhost:8080/"
        },
        "id": "TgWPkbH_WIFL",
        "outputId": "254ab740-9611-4d34-e7ac-a382e320db91"
      },
      "execution_count": 9,
      "outputs": [
        {
          "output_type": "stream",
          "name": "stdout",
          "text": [
            "foo\n",
            "bar\n",
            "baz\n",
            "foo\n",
            "bar\n",
            "baz\n"
          ]
        }
      ]
    },
    {
      "cell_type": "markdown",
      "source": [
        "Even when `itr1` is exhuasted `itr2` is still untouched."
      ],
      "metadata": {
        "id": "HORovtjqWk9J"
      }
    },
    {
      "cell_type": "code",
      "source": [
        "# using iter to convert list to other valid iter forms\n",
        "a = ['foo', 'bar', 'baz']\n",
        "itr = iter(a)\n",
        "list(itr)"
      ],
      "metadata": {
        "colab": {
          "base_uri": "https://localhost:8080/"
        },
        "id": "VtJ96_HFW0tv",
        "outputId": "0bddfbc9-0cd5-40f6-8227-8866bafda36e"
      },
      "execution_count": 11,
      "outputs": [
        {
          "output_type": "execute_result",
          "data": {
            "text/plain": [
              "['foo', 'bar', 'baz']"
            ]
          },
          "metadata": {},
          "execution_count": 11
        }
      ]
    },
    {
      "cell_type": "code",
      "source": [
        "a = ['foo', 'bar', 'baz']\n",
        "itr = iter(a)\n",
        "tuple(itr)"
      ],
      "metadata": {
        "colab": {
          "base_uri": "https://localhost:8080/"
        },
        "id": "6ZuABx_wXIjp",
        "outputId": "269e8796-bb9a-466b-84b5-2e9996669768"
      },
      "execution_count": 13,
      "outputs": [
        {
          "output_type": "execute_result",
          "data": {
            "text/plain": [
              "('foo', 'bar', 'baz')"
            ]
          },
          "metadata": {},
          "execution_count": 13
        }
      ]
    },
    {
      "cell_type": "code",
      "source": [
        "a = ['foo', 'bar', 'baz']\n",
        "itr = iter(a)\n",
        "set(itr)"
      ],
      "metadata": {
        "colab": {
          "base_uri": "https://localhost:8080/"
        },
        "id": "CLLzrH5IXPTd",
        "outputId": "ab264b83-32b4-46f2-d67b-babd0f3eeda8"
      },
      "execution_count": 14,
      "outputs": [
        {
          "output_type": "execute_result",
          "data": {
            "text/plain": [
              "{'bar', 'baz', 'foo'}"
            ]
          },
          "metadata": {},
          "execution_count": 14
        }
      ]
    },
    {
      "cell_type": "code",
      "source": [
        "# iterating through a dictionary\n",
        "d = {'foo': 1, 'bar': 2, 'baz': 3}\n",
        "for k in d:\n",
        "  print(k)"
      ],
      "metadata": {
        "colab": {
          "base_uri": "https://localhost:8080/"
        },
        "id": "3iNwvzgHXutc",
        "outputId": "b840ba65-0550-47fe-86ee-91e2120b8711"
      },
      "execution_count": 15,
      "outputs": [
        {
          "output_type": "stream",
          "name": "stdout",
          "text": [
            "foo\n",
            "bar\n",
            "baz\n"
          ]
        }
      ]
    },
    {
      "cell_type": "code",
      "source": [
        "# accessing the values of a dictionary\n",
        "d = {'foo': 1, 'bar': 2, 'baz': 3}\n",
        "for k in d:\n",
        "  print(d[k])"
      ],
      "metadata": {
        "colab": {
          "base_uri": "https://localhost:8080/"
        },
        "id": "tUqA512pX4qh",
        "outputId": "acfb0abe-2ca6-46f2-c506-fa3eb2af9795"
      },
      "execution_count": 16,
      "outputs": [
        {
          "output_type": "stream",
          "name": "stdout",
          "text": [
            "1\n",
            "2\n",
            "3\n"
          ]
        }
      ]
    },
    {
      "cell_type": "code",
      "source": [
        "# accessing the values of a dictionary\n",
        "d = {'foo': 1, 'bar': 2, 'baz': 3}\n",
        "for v in d.values():\n",
        "  print(v)"
      ],
      "metadata": {
        "colab": {
          "base_uri": "https://localhost:8080/"
        },
        "id": "pPizQ1f3YFFN",
        "outputId": "de796dec-be54-422c-9d33-11cc51e40984"
      },
      "execution_count": 17,
      "outputs": [
        {
          "output_type": "stream",
          "name": "stdout",
          "text": [
            "1\n",
            "2\n",
            "3\n"
          ]
        }
      ]
    },
    {
      "cell_type": "code",
      "source": [
        "# iterating through key and values simultaneously\n",
        "for i, j in [(1, 2), (3, 4), (5, 6)]:\n",
        "  print(i, j)"
      ],
      "metadata": {
        "colab": {
          "base_uri": "https://localhost:8080/"
        },
        "id": "NKcpM35FYVlb",
        "outputId": "82133df9-7279-45c2-e373-7e69b3d8c047"
      },
      "execution_count": 19,
      "outputs": [
        {
          "output_type": "stream",
          "name": "stdout",
          "text": [
            "1 2\n",
            "3 4\n",
            "5 6\n"
          ]
        }
      ]
    },
    {
      "cell_type": "code",
      "source": [
        "d = {'foo': 1, 'bar': 2, 'baz': 3}\n",
        "for k, v in d.items():\n",
        "  print('k = ', k, ', v = ', v)"
      ],
      "metadata": {
        "colab": {
          "base_uri": "https://localhost:8080/"
        },
        "id": "6q4HQTrXYthR",
        "outputId": "5815df64-f189-45d4-9856-0f15071f3cbe"
      },
      "execution_count": 20,
      "outputs": [
        {
          "output_type": "stream",
          "name": "stdout",
          "text": [
            "k =  foo , v =  1\n",
            "k =  bar , v =  2\n",
            "k =  baz , v =  3\n"
          ]
        }
      ]
    },
    {
      "cell_type": "code",
      "source": [
        "# range function\n",
        "x = range(5)\n",
        "for n in x:\n",
        "  print(n)"
      ],
      "metadata": {
        "colab": {
          "base_uri": "https://localhost:8080/"
        },
        "id": "lYDF94QQZHN8",
        "outputId": "3ece0d85-4b33-4fbb-e195-0a9d8b24a899"
      },
      "execution_count": 21,
      "outputs": [
        {
          "output_type": "stream",
          "name": "stdout",
          "text": [
            "0\n",
            "1\n",
            "2\n",
            "3\n",
            "4\n"
          ]
        }
      ]
    },
    {
      "cell_type": "markdown",
      "source": [
        "The range function does not include the last number it is inclusive."
      ],
      "metadata": {
        "id": "mnFvOe4iZXGK"
      }
    },
    {
      "cell_type": "code",
      "source": [
        "# range(<begin>, <end>, <stride>)\n",
        "list(range(5, 10, 1))"
      ],
      "metadata": {
        "colab": {
          "base_uri": "https://localhost:8080/"
        },
        "id": "TA4IRZdGZg4u",
        "outputId": "e865d9e7-b7c0-4b3f-ed9e-cfbffb65e86a"
      },
      "execution_count": 22,
      "outputs": [
        {
          "output_type": "execute_result",
          "data": {
            "text/plain": [
              "[5, 6, 7, 8, 9]"
            ]
          },
          "metadata": {},
          "execution_count": 22
        }
      ]
    },
    {
      "cell_type": "code",
      "source": [
        "# range can contain the negative interger\n",
        "list(range(-5, 5))"
      ],
      "metadata": {
        "colab": {
          "base_uri": "https://localhost:8080/"
        },
        "id": "cWDdf-xCZzAA",
        "outputId": "ebbc20f8-7dff-4cb1-ede6-f511f93ec53a"
      },
      "execution_count": 23,
      "outputs": [
        {
          "output_type": "execute_result",
          "data": {
            "text/plain": [
              "[-5, -4, -3, -2, -1, 0, 1, 2, 3, 4]"
            ]
          },
          "metadata": {},
          "execution_count": 23
        }
      ]
    },
    {
      "cell_type": "code",
      "source": [
        "# Altering for loop behaviour >> break\n",
        "for i in ['foo', 'bar', 'baz', 'qux']:\n",
        "  if 'b' in i:\n",
        "    break\n",
        "  print(i)"
      ],
      "metadata": {
        "colab": {
          "base_uri": "https://localhost:8080/"
        },
        "id": "AdrgfFDOZ-xV",
        "outputId": "86348df0-aec7-4961-df98-6010199946a9"
      },
      "execution_count": 24,
      "outputs": [
        {
          "output_type": "stream",
          "name": "stdout",
          "text": [
            "foo\n"
          ]
        }
      ]
    },
    {
      "cell_type": "code",
      "source": [
        "# Altering for loop behaviour >> continue\n",
        "for i in ['foo', 'bar', 'baz', 'qux']:\n",
        "  if 'b' in i:\n",
        "    continue\n",
        "  print(i)"
      ],
      "metadata": {
        "colab": {
          "base_uri": "https://localhost:8080/"
        },
        "id": "imER4vCUaMZ-",
        "outputId": "c749caf6-7501-4b85-c1d3-adae734b885a"
      },
      "execution_count": 25,
      "outputs": [
        {
          "output_type": "stream",
          "name": "stdout",
          "text": [
            "foo\n",
            "qux\n"
          ]
        }
      ]
    },
    {
      "cell_type": "code",
      "source": [
        "# the else clause in for loop\n",
        "for i in ['foo', 'bar', 'baz', 'qux']:\n",
        "  print(i)\n",
        "else:\n",
        "  print('Done. ') # will execute because the for clause is exhausted"
      ],
      "metadata": {
        "colab": {
          "base_uri": "https://localhost:8080/"
        },
        "id": "JiUC7mPHacM1",
        "outputId": "7fbbd843-9d7d-406e-fe5a-6556d164ac84"
      },
      "execution_count": 27,
      "outputs": [
        {
          "output_type": "stream",
          "name": "stdout",
          "text": [
            "foo\n",
            "bar\n",
            "baz\n",
            "qux\n",
            "Done. \n"
          ]
        }
      ]
    },
    {
      "cell_type": "code",
      "source": [
        "for i in ['foo', 'bar', 'baz', 'qux']:\n",
        "  if i == 'bar':\n",
        "    break\n",
        "  print(i)\n",
        "else:\n",
        "  print('Done. ') # will not execute since for loop terminated by break"
      ],
      "metadata": {
        "colab": {
          "base_uri": "https://localhost:8080/"
        },
        "id": "s_WNr97bavgT",
        "outputId": "c01fe8e5-108f-40dc-f62d-1cd930dd567f"
      },
      "execution_count": 28,
      "outputs": [
        {
          "output_type": "stream",
          "name": "stdout",
          "text": [
            "foo\n"
          ]
        }
      ]
    }
  ]
}