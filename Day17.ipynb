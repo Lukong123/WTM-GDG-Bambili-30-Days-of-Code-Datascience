{
  "nbformat": 4,
  "nbformat_minor": 0,
  "metadata": {
    "colab": {
      "provenance": [],
      "authorship_tag": "ABX9TyMxQbtOS9KKO9ok5O9F/5F4",
      "include_colab_link": true
    },
    "kernelspec": {
      "name": "python3",
      "display_name": "Python 3"
    },
    "language_info": {
      "name": "python"
    }
  },
  "cells": [
    {
      "cell_type": "markdown",
      "metadata": {
        "id": "view-in-github",
        "colab_type": "text"
      },
      "source": [
        "<a href=\"https://colab.research.google.com/github/Lukong123/WTM-GDG-Bambili-30-Days-of-Code-Datascience/blob/main/Day17.ipynb\" target=\"_parent\"><img src=\"https://colab.research.google.com/assets/colab-badge.svg\" alt=\"Open In Colab\"/></a>"
      ]
    },
    {
      "cell_type": "code",
      "execution_count": null,
      "metadata": {
        "id": "RdJkruP65Y8I",
        "colab": {
          "base_uri": "https://localhost:8080/"
        },
        "outputId": "de7eb92e-99c2-4fb6-aea3-3c135ad06325"
      },
      "outputs": [
        {
          "output_type": "execute_result",
          "data": {
            "text/plain": [
              "True"
            ]
          },
          "metadata": {},
          "execution_count": 1
        }
      ],
      "source": [
        "# Regex\n",
        "s = 'foo123bar'\n",
        "'123' in s"
      ]
    },
    {
      "cell_type": "code",
      "source": [
        "s = 'foo123bar'\n",
        "s.find('123') # if the string is present it gives you the start location"
      ],
      "metadata": {
        "colab": {
          "base_uri": "https://localhost:8080/"
        },
        "id": "4qv8Amxc1b0B",
        "outputId": "6d3ef6b8-c9a9-474b-9e55-4ceb4dbc9fb6"
      },
      "execution_count": null,
      "outputs": [
        {
          "output_type": "execute_result",
          "data": {
            "text/plain": [
              "3"
            ]
          },
          "metadata": {},
          "execution_count": 2
        }
      ]
    },
    {
      "cell_type": "code",
      "source": [
        "s = 'foo123bar'\n",
        "s.index('123') # it gives you the start location of your string."
      ],
      "metadata": {
        "colab": {
          "base_uri": "https://localhost:8080/"
        },
        "id": "myZ2hnad1jqh",
        "outputId": "a197bbff-be79-45a2-db27-c7f6d061d349"
      },
      "execution_count": null,
      "outputs": [
        {
          "output_type": "execute_result",
          "data": {
            "text/plain": [
              "3"
            ]
          },
          "metadata": {},
          "execution_count": 4
        }
      ]
    },
    {
      "cell_type": "code",
      "source": [
        "# re.search(<regex>, <string>)\n",
        "s = 'foo123bar'\n",
        "import re\n",
        "re.search('123', s)"
      ],
      "metadata": {
        "colab": {
          "base_uri": "https://localhost:8080/"
        },
        "id": "MjMhn6fN2UhM",
        "outputId": "31d346cd-cde9-46b3-a21b-2efbd3841515"
      },
      "execution_count": null,
      "outputs": [
        {
          "output_type": "execute_result",
          "data": {
            "text/plain": [
              "<re.Match object; span=(3, 6), match='123'>"
            ]
          },
          "metadata": {},
          "execution_count": 2
        }
      ]
    },
    {
      "cell_type": "code",
      "source": [
        "# A mathc object is truthy so this works\n",
        "if re.search('123', s):\n",
        "  print('Found a match. ')\n",
        "else:\n",
        "  print('No match. ')"
      ],
      "metadata": {
        "colab": {
          "base_uri": "https://localhost:8080/"
        },
        "id": "SfPk_KVi2cY0",
        "outputId": "9c17ff35-5f89-449e-ab5d-71f4c6b58ade"
      },
      "execution_count": null,
      "outputs": [
        {
          "output_type": "stream",
          "name": "stdout",
          "text": [
            "Found a match. \n"
          ]
        }
      ]
    },
    {
      "cell_type": "code",
      "source": [
        "# metacharacter\n",
        "s = 'foo123bar'\n",
        "re.search('[0-9][0-9][0-9]', s) # [0-9] matches any single character btw 0 and 9"
      ],
      "metadata": {
        "colab": {
          "base_uri": "https://localhost:8080/"
        },
        "id": "JsNpYzFv207U",
        "outputId": "49aed2a4-4d4e-4771-8146-8412bb5afa9a"
      },
      "execution_count": null,
      "outputs": [
        {
          "output_type": "execute_result",
          "data": {
            "text/plain": [
              "<re.Match object; span=(3, 6), match='123'>"
            ]
          },
          "metadata": {},
          "execution_count": 7
        }
      ]
    },
    {
      "cell_type": "code",
      "source": [
        "# the dot(.) matches any character except a new line\n",
        "s = 'foo123bar'\n",
        "re.search('1.3', s)"
      ],
      "metadata": {
        "colab": {
          "base_uri": "https://localhost:8080/"
        },
        "id": "3IxAcxhw3YrL",
        "outputId": "7c3fb3d3-5c7b-4b74-8482-853ac1fc30ed"
      },
      "execution_count": null,
      "outputs": [
        {
          "output_type": "execute_result",
          "data": {
            "text/plain": [
              "<re.Match object; span=(3, 6), match='123'>"
            ]
          },
          "metadata": {},
          "execution_count": 8
        }
      ]
    },
    {
      "cell_type": "code",
      "source": [
        "s = 'foo13bar'\n",
        "re.search('1.3', s)"
      ],
      "metadata": {
        "id": "RhT0yXCO37r7"
      },
      "execution_count": null,
      "outputs": []
    },
    {
      "cell_type": "code",
      "source": [
        "# meta sequence which matches any single character a, r, t, z present\n",
        "re.search('ba[artz]', 'foobarqux')"
      ],
      "metadata": {
        "colab": {
          "base_uri": "https://localhost:8080/"
        },
        "id": "9AHeGKXl4BNG",
        "outputId": "7d02cdc1-ff98-4f9e-9b1d-837e31756171"
      },
      "execution_count": null,
      "outputs": [
        {
          "output_type": "execute_result",
          "data": {
            "text/plain": [
              "<re.Match object; span=(3, 6), match='baz'>"
            ]
          },
          "metadata": {},
          "execution_count": 14
        }
      ]
    },
    {
      "cell_type": "code",
      "source": [
        "re.search('ba[artz]', 'foobazqux')"
      ],
      "metadata": {
        "colab": {
          "base_uri": "https://localhost:8080/"
        },
        "id": "QqnUUclN4vOH",
        "outputId": "6da89fa5-f0a3-449c-fdc8-409f3d61eb0e"
      },
      "execution_count": null,
      "outputs": [
        {
          "output_type": "execute_result",
          "data": {
            "text/plain": [
              "<re.Match object; span=(3, 6), match='baz'>"
            ]
          },
          "metadata": {},
          "execution_count": 11
        }
      ]
    },
    {
      "cell_type": "code",
      "source": [
        "# [a-z] matches any lower case btw a and z\n",
        "re.search('[a-z]', 'FOObar')"
      ],
      "metadata": {
        "colab": {
          "base_uri": "https://localhost:8080/"
        },
        "id": "S6fWGbA24-IR",
        "outputId": "a678bdd8-a999-4add-9f7a-1b6af1664a51"
      },
      "execution_count": null,
      "outputs": [
        {
          "output_type": "execute_result",
          "data": {
            "text/plain": [
              "<re.Match object; span=(3, 4), match='b'>"
            ]
          },
          "metadata": {},
          "execution_count": 15
        }
      ]
    },
    {
      "cell_type": "code",
      "source": [
        "# [0-9a-fA-F] matches any hexadecimal\n",
        "re.search('[0-9a-fA-f]', '--- a0 ---') # matches a"
      ],
      "metadata": {
        "colab": {
          "base_uri": "https://localhost:8080/"
        },
        "id": "Lm_AvU305ZrD",
        "outputId": "e131ca92-906f-4c9c-de80-9a24a96780ba"
      },
      "execution_count": null,
      "outputs": [
        {
          "output_type": "execute_result",
          "data": {
            "text/plain": [
              "<re.Match object; span=(4, 5), match='a'>"
            ]
          },
          "metadata": {},
          "execution_count": 16
        }
      ]
    },
    {
      "cell_type": "code",
      "source": [
        "# ^ it's like the negation [^0-9] matches anything except btw 0 and 9\n",
        "re.search('[^0-9]', '12345foo')"
      ],
      "metadata": {
        "colab": {
          "base_uri": "https://localhost:8080/"
        },
        "id": "nKAroUj95zNV",
        "outputId": "60a30c7d-3809-4e9d-f8f5-c23aa1cdb8d8"
      },
      "execution_count": null,
      "outputs": [
        {
          "output_type": "execute_result",
          "data": {
            "text/plain": [
              "<re.Match object; span=(5, 6), match='f'>"
            ]
          },
          "metadata": {},
          "execution_count": 17
        }
      ]
    },
    {
      "cell_type": "code",
      "source": [
        "# matching ^ character in a string\n",
        "re.search('[#:^]', 'foo^bar:baz#qux')"
      ],
      "metadata": {
        "colab": {
          "base_uri": "https://localhost:8080/"
        },
        "id": "l8y5_1hy6Mda",
        "outputId": "055e37d1-f7c4-4878-c6b8-d136a2695abd"
      },
      "execution_count": null,
      "outputs": [
        {
          "output_type": "execute_result",
          "data": {
            "text/plain": [
              "<re.Match object; span=(3, 4), match='^'>"
            ]
          },
          "metadata": {},
          "execution_count": 18
        }
      ]
    },
    {
      "cell_type": "code",
      "source": [
        "# matching a hypen - any of the following works\n",
        "re.search('[-abc]', '123-456')\n",
        "re.search('[abc-]', '123-456')\n",
        "re.search('[ab\\-c]', '123-456')"
      ],
      "metadata": {
        "colab": {
          "base_uri": "https://localhost:8080/"
        },
        "id": "iylHKKus6gfZ",
        "outputId": "c37d2842-65ae-4845-857c-633de61c5c5f"
      },
      "execution_count": null,
      "outputs": [
        {
          "output_type": "execute_result",
          "data": {
            "text/plain": [
              "<re.Match object; span=(3, 4), match='-'>"
            ]
          },
          "metadata": {},
          "execution_count": 19
        }
      ]
    },
    {
      "cell_type": "code",
      "source": [
        "# including literal ] in the character class\n",
        "re.search('[]]', 'foo[1]')\n",
        "re.search('[ab\\]cd]', 'foo[1]')"
      ],
      "metadata": {
        "colab": {
          "base_uri": "https://localhost:8080/"
        },
        "id": "VLwH4UYK66f8",
        "outputId": "a4cad5c4-301e-4778-d799-a1b32027017f"
      },
      "execution_count": null,
      "outputs": [
        {
          "output_type": "execute_result",
          "data": {
            "text/plain": [
              "<re.Match object; span=(5, 6), match=']'>"
            ]
          },
          "metadata": {},
          "execution_count": 20
        }
      ]
    },
    {
      "cell_type": "code",
      "source": [
        "# matching some characters\n",
        "re.search('[)*+|]', '123*456')"
      ],
      "metadata": {
        "colab": {
          "base_uri": "https://localhost:8080/"
        },
        "id": "KXwrAfsn7QsM",
        "outputId": "b838ecd3-6681-478d-e623-ddab7803b261"
      },
      "execution_count": null,
      "outputs": [
        {
          "output_type": "execute_result",
          "data": {
            "text/plain": [
              "<re.Match object; span=(3, 4), match='*'>"
            ]
          },
          "metadata": {},
          "execution_count": 21
        }
      ]
    },
    {
      "cell_type": "code",
      "source": [
        "re.search('[)*+|]', '123+456')"
      ],
      "metadata": {
        "colab": {
          "base_uri": "https://localhost:8080/"
        },
        "id": "VSqouvCc7etB",
        "outputId": "f8f7d128-8449-45e4-c874-d60f99b7b14c"
      },
      "execution_count": null,
      "outputs": [
        {
          "output_type": "execute_result",
          "data": {
            "text/plain": [
              "<re.Match object; span=(3, 4), match='+'>"
            ]
          },
          "metadata": {},
          "execution_count": 22
        }
      ]
    },
    {
      "cell_type": "code",
      "source": [
        "# \\w word character which includes upper, lowercase, 0-9, hyphen shortform[a-zA-Z0-9_]\n",
        "re.search('\\w', '#(.a$@&')"
      ],
      "metadata": {
        "colab": {
          "base_uri": "https://localhost:8080/"
        },
        "id": "K3V21utl7h4r",
        "outputId": "245b5290-683f-4104-dd35-988336b78222"
      },
      "execution_count": null,
      "outputs": [
        {
          "output_type": "execute_result",
          "data": {
            "text/plain": [
              "<re.Match object; span=(0, 1), match='#'>"
            ]
          },
          "metadata": {},
          "execution_count": 25
        }
      ]
    },
    {
      "cell_type": "code",
      "source": [
        "# \\W is the opposite of \\w which matches any non word character\n",
        "re.search('\\W', 'a_1*3Qb')"
      ],
      "metadata": {
        "colab": {
          "base_uri": "https://localhost:8080/"
        },
        "id": "p127cu0J8JcB",
        "outputId": "1a2dff1b-035c-4e5c-91a2-fedf73b24064"
      },
      "execution_count": null,
      "outputs": [
        {
          "output_type": "execute_result",
          "data": {
            "text/plain": [
              "<re.Match object; span=(3, 4), match='*'>"
            ]
          },
          "metadata": {},
          "execution_count": 26
        }
      ]
    },
    {
      "cell_type": "code",
      "source": [
        "# \\d matches any decimal digit character\n",
        "print(re.search('\\d', 'abc4def'))\n",
        "# \\D matches any non decimal digit character\n",
        "print(re.search('\\D', '234Q678'))"
      ],
      "metadata": {
        "colab": {
          "base_uri": "https://localhost:8080/"
        },
        "id": "Ok7NHrj18nBM",
        "outputId": "183600a5-b3d9-41a9-f0b4-f403ac7d9afd"
      },
      "execution_count": null,
      "outputs": [
        {
          "output_type": "stream",
          "name": "stdout",
          "text": [
            "<re.Match object; span=(3, 4), match='4'>\n",
            "<re.Match object; span=(3, 4), match='Q'>\n"
          ]
        }
      ]
    },
    {
      "cell_type": "code",
      "source": [
        "# \\s matches any whitespace character\n",
        "print(re.search('\\s', 'foo\\nbar baz'))\n",
        "# \\S mathces any character which is not a white space\n",
        "print( re.search('\\S', '  \\n foo  \\n  '))"
      ],
      "metadata": {
        "colab": {
          "base_uri": "https://localhost:8080/"
        },
        "id": "BsaICjog8_Ds",
        "outputId": "9fa1d367-1be3-4130-d01b-460a9e3cfa74"
      },
      "execution_count": null,
      "outputs": [
        {
          "output_type": "stream",
          "name": "stdout",
          "text": [
            "<re.Match object; span=(3, 4), match='\\n'>\n",
            "<re.Match object; span=(4, 5), match='f'>\n"
          ]
        }
      ]
    },
    {
      "cell_type": "code",
      "source": [
        "# the character class sequence \\w,\\W,\\d,\\D,\\s,\\S can appear in square brackets\n",
        "re.search('[\\d\\w\\s]', '---3---')"
      ],
      "metadata": {
        "colab": {
          "base_uri": "https://localhost:8080/"
        },
        "id": "Gu1wMg3S9XBZ",
        "outputId": "1edf8c61-ce8a-466f-e75a-6c0034874bc9"
      },
      "execution_count": null,
      "outputs": [
        {
          "output_type": "execute_result",
          "data": {
            "text/plain": [
              "<re.Match object; span=(3, 4), match='3'>"
            ]
          },
          "metadata": {},
          "execution_count": 29
        }
      ]
    },
    {
      "cell_type": "code",
      "source": [
        "# backslash\n",
        "s = r'foo\\bar'\n",
        "re.search('\\\\\\\\', s)\n",
        "re.search(r'\\\\', s)"
      ],
      "metadata": {
        "colab": {
          "base_uri": "https://localhost:8080/"
        },
        "id": "LNoTLd2o9za6",
        "outputId": "5d936b2e-da04-4760-e327-fbe7ba68c43c"
      },
      "execution_count": null,
      "outputs": [
        {
          "output_type": "execute_result",
          "data": {
            "text/plain": [
              "<re.Match object; span=(3, 4), match='\\\\'>"
            ]
          },
          "metadata": {},
          "execution_count": 31
        }
      ]
    },
    {
      "cell_type": "code",
      "source": [
        "# ^ /A anchor a match to the start of a string i.e the search must be at the start\n",
        "print(re.search('^foo', 'foobar'))\n",
        "print(re.search('^foo', 'barfoo'))\n",
        "print(re.search('\\Afoo', 'foobar'))\n",
        "print(re.search('\\Afoo', 'barfoo'))\n"
      ],
      "metadata": {
        "colab": {
          "base_uri": "https://localhost:8080/"
        },
        "id": "lFjMS7pG-hDp",
        "outputId": "e638ce32-3b71-41a3-8384-ad2f2bc865ef"
      },
      "execution_count": null,
      "outputs": [
        {
          "output_type": "stream",
          "name": "stdout",
          "text": [
            "<re.Match object; span=(0, 3), match='foo'>\n",
            "None\n",
            "<re.Match object; span=(0, 3), match='foo'>\n",
            "None\n"
          ]
        }
      ]
    },
    {
      "cell_type": "code",
      "source": [
        "# $ \\Z both anchor a match at the end of a string\n",
        "print(re.search('bar$', 'foobar'))\n",
        "print(re.search('bar\\Z', 'foobar'))"
      ],
      "metadata": {
        "id": "NEOX7NkD_dhw",
        "colab": {
          "base_uri": "https://localhost:8080/"
        },
        "outputId": "31b9fbcb-859e-4ecb-8a26-5b8fb9f0a300"
      },
      "execution_count": null,
      "outputs": [
        {
          "output_type": "stream",
          "name": "stdout",
          "text": [
            "<re.Match object; span=(3, 6), match='bar'>\n",
            "<re.Match object; span=(3, 6), match='bar'>\n"
          ]
        }
      ]
    },
    {
      "cell_type": "code",
      "source": [
        "# $ matches just before a single new line at the end of a string\n",
        "re.search('bar$', 'foobar\\n')"
      ],
      "metadata": {
        "colab": {
          "base_uri": "https://localhost:8080/"
        },
        "id": "zZ5nlHFRxX5n",
        "outputId": "612874dc-6f8e-4817-aabb-2ec1ff6fa0e7"
      },
      "execution_count": null,
      "outputs": [
        {
          "output_type": "execute_result",
          "data": {
            "text/plain": [
              "<re.Match object; span=(3, 6), match='bar'>"
            ]
          },
          "metadata": {},
          "execution_count": 4
        }
      ]
    },
    {
      "cell_type": "code",
      "source": [
        "# \\b string must be at the begining or at the end\n",
        "print(re.search(r'\\bbar', 'foo bar'))\n",
        "print(re.search(r'\\bbar', 'foobar'))\n",
        "print(re.search(r'foo\\b', 'foo.bar'))\n",
        "print(re.search(r'foo\\b', 'foobar'))"
      ],
      "metadata": {
        "colab": {
          "base_uri": "https://localhost:8080/"
        },
        "id": "AghGwjY-xrXk",
        "outputId": "52d025eb-7829-444a-fac3-1543ca14a48e"
      },
      "execution_count": null,
      "outputs": [
        {
          "output_type": "stream",
          "name": "stdout",
          "text": [
            "<re.Match object; span=(4, 7), match='bar'>\n",
            "None\n",
            "<re.Match object; span=(0, 3), match='foo'>\n",
            "None\n"
          ]
        }
      ]
    },
    {
      "cell_type": "code",
      "source": [
        "#  using \\b on both ends of the regex causes it to return true if string is present in the whole string\n",
        "print(re.search(r'\\bbar\\b', 'foo bar baz'))\n",
        "print(re.search(r'\\bbar\\b', 'foo(bar)baz'))\n",
        "print(print(re.search(r'\\bbar\\b', 'foobarbaz')))"
      ],
      "metadata": {
        "colab": {
          "base_uri": "https://localhost:8080/"
        },
        "id": "GVQQVqCjyfaG",
        "outputId": "dc26f5ad-ca41-4f79-d808-0935f7970ebb"
      },
      "execution_count": null,
      "outputs": [
        {
          "output_type": "stream",
          "name": "stdout",
          "text": [
            "<re.Match object; span=(4, 7), match='bar'>\n",
            "<re.Match object; span=(4, 7), match='bar'>\n",
            "None\n",
            "None\n"
          ]
        }
      ]
    },
    {
      "cell_type": "code",
      "source": [
        "# \\B matches a location which is not  a word boundary\n",
        "print(re.search(r'\\Bfoo\\B', 'foo'))\n",
        "print(re.search(r'\\Bfoo\\B', 'barfoobaz'))"
      ],
      "metadata": {
        "colab": {
          "base_uri": "https://localhost:8080/"
        },
        "id": "2uaMsfzNzJ5m",
        "outputId": "0ce9af2f-fe7f-4885-95ab-8529b6a310f4"
      },
      "execution_count": null,
      "outputs": [
        {
          "output_type": "stream",
          "name": "stdout",
          "text": [
            "None\n",
            "<re.Match object; span=(3, 6), match='foo'>\n"
          ]
        }
      ]
    },
    {
      "cell_type": "code",
      "source": [
        "# Quantifier * matches zero or more repetion\n",
        "print(re.search('foo-*bar', 'foobar')) # Zero -\n",
        "print(re.search('foo-*bar', 'foo--bar')  ) # two -"
      ],
      "metadata": {
        "colab": {
          "base_uri": "https://localhost:8080/"
        },
        "id": "1fG0nvQSzgs4",
        "outputId": "9168ea76-dbf1-4507-cadf-023105626b06"
      },
      "execution_count": null,
      "outputs": [
        {
          "output_type": "stream",
          "name": "stdout",
          "text": [
            "<re.Match object; span=(0, 6), match='foobar'>\n",
            "<re.Match object; span=(0, 8), match='foo--bar'>\n"
          ]
        }
      ]
    },
    {
      "cell_type": "code",
      "source": [
        "# + matches one or more repetition\n",
        "print(re.search('foo-+bar', 'foobar')) # zero -\n",
        "re.search('foo-+bar', 'foo--bar')  # two -"
      ],
      "metadata": {
        "colab": {
          "base_uri": "https://localhost:8080/"
        },
        "id": "MNeid_l-0Oc3",
        "outputId": "48e8e56d-bef2-4bf1-82d5-4659605c3ee3"
      },
      "execution_count": null,
      "outputs": [
        {
          "output_type": "stream",
          "name": "stdout",
          "text": [
            "None\n"
          ]
        },
        {
          "output_type": "execute_result",
          "data": {
            "text/plain": [
              "<re.Match object; span=(0, 8), match='foo--bar'>"
            ]
          },
          "metadata": {},
          "execution_count": 9
        }
      ]
    },
    {
      "cell_type": "code",
      "source": [
        "# ? matches zero or one repetiton\n",
        "print(re.search('foo-?bar', 'foobar')) # zero -\n",
        "print(re.search('foo-?bar', 'foo-bar')) # one -\n",
        "print(re.search('foo-?bar', 'foo--bar')) # two -"
      ],
      "metadata": {
        "colab": {
          "base_uri": "https://localhost:8080/"
        },
        "id": "FOCd7pvm0f7c",
        "outputId": "25a7a33e-1f0f-4a3e-b3e7-aea47654923b"
      },
      "execution_count": null,
      "outputs": [
        {
          "output_type": "stream",
          "name": "stdout",
          "text": [
            "<re.Match object; span=(0, 6), match='foobar'>\n",
            "<re.Match object; span=(0, 7), match='foo-bar'>\n",
            "None\n"
          ]
        }
      ]
    },
    {
      "cell_type": "code",
      "source": [
        "#  *? non greedy for shortest possible match\n",
        "print(re.search('<.*?>', '%<foo> <bar> <baz>%'))\n",
        "# +? shortest possible match\n",
        "print(re.search('<.+?>', '%<foo> <bar> <baz>%'))\n",
        "# ?? shortes possible match"
      ],
      "metadata": {
        "colab": {
          "base_uri": "https://localhost:8080/"
        },
        "id": "i6uJPNpc06pG",
        "outputId": "bb00a370-18fe-4bf0-8235-c9923fa05db8"
      },
      "execution_count": null,
      "outputs": [
        {
          "output_type": "stream",
          "name": "stdout",
          "text": [
            "<re.Match object; span=(1, 6), match='<foo>'>\n",
            "<re.Match object; span=(1, 6), match='<foo>'>\n"
          ]
        }
      ]
    },
    {
      "cell_type": "code",
      "source": [
        "# {m} matches exactly m repetitions\n",
        "re.search('x-{3}x', 'x---x') "
      ],
      "metadata": {
        "colab": {
          "base_uri": "https://localhost:8080/"
        },
        "id": "ayU5f5g21_Wb",
        "outputId": "89bf8b5d-1e81-4c39-b447-41daf2317d06"
      },
      "execution_count": null,
      "outputs": [
        {
          "output_type": "execute_result",
          "data": {
            "text/plain": [
              "<re.Match object; span=(0, 5), match='x---x'>"
            ]
          },
          "metadata": {},
          "execution_count": 12
        }
      ]
    },
    {
      "cell_type": "code",
      "source": [
        "#  {m, n} matches any number of repeitions from m to n inclusive\n",
        "for i in range(1, 6):\n",
        "  s = f\"x{'-' * i}x\"\n",
        "  print(f'{i}  {s:10}', re.search('x-{2,4}x', s))"
      ],
      "metadata": {
        "colab": {
          "base_uri": "https://localhost:8080/"
        },
        "id": "cDb5TSVR2L2b",
        "outputId": "8f8068a3-8072-444c-c700-6478cc0b2358"
      },
      "execution_count": null,
      "outputs": [
        {
          "output_type": "stream",
          "name": "stdout",
          "text": [
            "1  x-x        None\n",
            "2  x--x       <re.Match object; span=(0, 4), match='x--x'>\n",
            "3  x---x      <re.Match object; span=(0, 5), match='x---x'>\n",
            "4  x----x     <re.Match object; span=(0, 6), match='x----x'>\n",
            "5  x-----x    None\n"
          ]
        }
      ]
    },
    {
      "cell_type": "code",
      "source": [
        "# {m, n}? matches as few as possible\n",
        "re.search('a{3,5}?', 'aaaaaaaa')"
      ],
      "metadata": {
        "colab": {
          "base_uri": "https://localhost:8080/"
        },
        "id": "8-H2pJdR2oEs",
        "outputId": "ce7fb961-3029-4022-a7cc-133886ff04eb"
      },
      "execution_count": null,
      "outputs": [
        {
          "output_type": "execute_result",
          "data": {
            "text/plain": [
              "<re.Match object; span=(0, 3), match='aaa'>"
            ]
          },
          "metadata": {},
          "execution_count": 15
        }
      ]
    },
    {
      "cell_type": "code",
      "source": [
        "# grouping\n",
        "re.search('(bar)+', 'foo barbarbarbar baz')"
      ],
      "metadata": {
        "colab": {
          "base_uri": "https://localhost:8080/"
        },
        "id": "Kjehl7q53iqv",
        "outputId": "72a76a7a-1f7b-4db6-dede-2050f10908fb"
      },
      "execution_count": null,
      "outputs": [
        {
          "output_type": "execute_result",
          "data": {
            "text/plain": [
              "<re.Match object; span=(4, 16), match='barbarbarbar'>"
            ]
          },
          "metadata": {},
          "execution_count": 16
        }
      ]
    },
    {
      "cell_type": "code",
      "source": [
        "# capturing groups\n",
        "# m.groups() Returns a tuple containing all the captured groups\n",
        "m = re.search('(\\w+),(\\w+),(\\w+)', 'foo,quux,baz')\n",
        "print(m)\n",
        "print(m.groups())\n",
        "# m.group(<n>) returns a string containing the <n>th captured match.\n",
        "m = re.search('(\\w+),(\\w+),(\\w+)', 'foo,quux,baz')\n",
        "print(m.groups())\n",
        "print(m.group(1))\n",
        "print(m.group(2))\n",
        "print(m.group(3, 2, 1))\n"
      ],
      "metadata": {
        "colab": {
          "base_uri": "https://localhost:8080/"
        },
        "id": "6uDRD7bC3kG1",
        "outputId": "28159f58-cc00-4e1d-839a-93496a2eb5f3"
      },
      "execution_count": null,
      "outputs": [
        {
          "output_type": "stream",
          "name": "stdout",
          "text": [
            "<re.Match object; span=(0, 12), match='foo,quux,baz'>\n",
            "('foo', 'quux', 'baz')\n",
            "('foo', 'quux', 'baz')\n",
            "foo\n",
            "quux\n"
          ]
        }
      ]
    },
    {
      "cell_type": "code",
      "source": [
        "# backreferences \\<n> matches contetent of a previously captured group\n",
        "# n between 1 and 99\n",
        "regex = r'(\\w+),\\1' # it is good to use raw string so that \\1 should not be cofused for octal number\n",
        "m = re.search(regex, 'foo,foo')\n",
        "print(m)\n",
        "d = re.search(regex, 'foo,qux')\n",
        "print(d)"
      ],
      "metadata": {
        "colab": {
          "base_uri": "https://localhost:8080/"
        },
        "id": "8OT5mZDo4cmm",
        "outputId": "b9b1ab2d-865e-4a54-a6f7-d75c2a0101c6"
      },
      "execution_count": null,
      "outputs": [
        {
          "output_type": "stream",
          "name": "stdout",
          "text": [
            "<re.Match object; span=(0, 7), match='foo,foo'>\n",
            "None\n"
          ]
        }
      ]
    },
    {
      "cell_type": "code",
      "source": [
        "# (?P<name><regex>) creates a named capture group\n",
        "import re\n",
        "m = re.search('(?P<w1>\\w+),(?P<w2>\\w+),(?P<w3>\\w+)', 'foo,quux,baz') # name w1, w2, w3\n",
        "print(m.groups())\n",
        "print(m.group('w1'))\n",
        "print(m.group('w2'))"
      ],
      "metadata": {
        "id": "Fi83pjSk6gw6",
        "colab": {
          "base_uri": "https://localhost:8080/"
        },
        "outputId": "df840012-28ce-4b8a-d5bf-8a352385193a"
      },
      "execution_count": 19,
      "outputs": [
        {
          "output_type": "stream",
          "name": "stdout",
          "text": [
            "('foo', 'quux', 'baz')\n",
            "foo\n",
            "quux\n"
          ]
        }
      ]
    },
    {
      "cell_type": "code",
      "source": [
        "# (?P=<name>) matches the content of a previously captured named group\n",
        "m = re.search(r'(?P<word>\\w+),(?P=word)', 'foo,foo')\n",
        "print(m)\n",
        "print(m.group('word'))"
      ],
      "metadata": {
        "colab": {
          "base_uri": "https://localhost:8080/"
        },
        "id": "kSmAeS-98BcD",
        "outputId": "91509642-f200-4ecc-c274-f53b8f270ec0"
      },
      "execution_count": 20,
      "outputs": [
        {
          "output_type": "stream",
          "name": "stdout",
          "text": [
            "<re.Match object; span=(0, 7), match='foo,foo'>\n",
            "foo\n"
          ]
        }
      ]
    },
    {
      "cell_type": "code",
      "source": [
        "# (?:<regex>) creates a non capturing group\n",
        "m = re.search('(\\w+),(?:\\w+),(\\w+)', 'foo,quux,baz')\n",
        "print(m.groups())\n",
        "print(m.group(1))\n",
        "print(m.group(2))\n",
        "# quux is inside non capturing so it is empty\n",
        "\n"
      ],
      "metadata": {
        "colab": {
          "base_uri": "https://localhost:8080/"
        },
        "id": "gSG_uiw2-05H",
        "outputId": "22db306f-1f19-4842-a8a3-4ead523dcb21"
      },
      "execution_count": 21,
      "outputs": [
        {
          "output_type": "stream",
          "name": "stdout",
          "text": [
            "('foo', 'baz')\n",
            "foo\n",
            "baz\n"
          ]
        }
      ]
    },
    {
      "cell_type": "code",
      "source": [
        "# (?(<n>)<yes-regex>|<no-regex>) conditonal match\n",
        "# (?(<name>)<yes-regex>|<no-regex>)\n",
        "\n",
        "regex = r'^(###)?foo(?(1)bar|baz)'\n",
        "print(re.search(regex, '###foobar'))\n",
        "print(re.search(regex, '###foobaz'))\n",
        "print(re.search(regex, 'foobar'))\n",
        "print(re.search(regex, 'foobaz'))"
      ],
      "metadata": {
        "colab": {
          "base_uri": "https://localhost:8080/"
        },
        "id": "YAX93Kaj_f3F",
        "outputId": "32c0b225-1f47-4749-aeba-695769219237"
      },
      "execution_count": 22,
      "outputs": [
        {
          "output_type": "stream",
          "name": "stdout",
          "text": [
            "<re.Match object; span=(0, 9), match='###foobar'>\n",
            "None\n",
            "None\n",
            "<re.Match object; span=(0, 6), match='foobaz'>\n"
          ]
        }
      ]
    },
    {
      "cell_type": "code",
      "source": [
        "# lookahead assertions (?=<lookahead_regex>) what follows the regex current position must be match\n",
        "re.search('foo(?=[a-z])', 'foobar') # what follows foo must be a lowercase\n"
      ],
      "metadata": {
        "colab": {
          "base_uri": "https://localhost:8080/"
        },
        "id": "uP_2sxs-Abj7",
        "outputId": "f8587556-c521-420f-8d0f-b1e3c40eadf8"
      },
      "execution_count": 23,
      "outputs": [
        {
          "output_type": "execute_result",
          "data": {
            "text/plain": [
              "<re.Match object; span=(0, 3), match='foo'>"
            ]
          },
          "metadata": {},
          "execution_count": 23
        }
      ]
    },
    {
      "cell_type": "code",
      "source": [
        "# negative lookahead (?!<lookahead_regex>) what follows the regex must not match\n",
        "print(re.search('foo(?![a-z])', 'foobar'))"
      ],
      "metadata": {
        "colab": {
          "base_uri": "https://localhost:8080/"
        },
        "id": "vJhUfl6CBIyp",
        "outputId": "1461ca7b-d14f-43d9-fe64-38b8f39809eb"
      },
      "execution_count": 24,
      "outputs": [
        {
          "output_type": "stream",
          "name": "stdout",
          "text": [
            "None\n"
          ]
        }
      ]
    },
    {
      "cell_type": "code",
      "source": [
        "# lookbehind (?<=<lookbehind_regex>) what precedes regex must match\n",
        "print(re.search('(?<=foo)bar', 'foobar')) # foo must preceds bar\n",
        "# negative lookbehind (?<!<lookbehind_regex>) what precedes must not match\n",
        "print(re.search('(?<!foo)bar', 'foobar'))"
      ],
      "metadata": {
        "colab": {
          "base_uri": "https://localhost:8080/"
        },
        "id": "Aua2wbJKBtis",
        "outputId": "01c73a80-bfbe-4222-de15-d697042d54bd"
      },
      "execution_count": 25,
      "outputs": [
        {
          "output_type": "stream",
          "name": "stdout",
          "text": [
            "<re.Match object; span=(3, 6), match='bar'>\n",
            "None\n"
          ]
        }
      ]
    },
    {
      "cell_type": "code",
      "source": [
        "# miscellaneous (?#...) specifies a comment\n",
        "re.search('bar(?#This is a comment) *baz', 'foo bar baz qux')"
      ],
      "metadata": {
        "colab": {
          "base_uri": "https://localhost:8080/"
        },
        "id": "nPg-26nzCjjU",
        "outputId": "9eece1fb-b88a-4a6a-c36e-0c6f368fe51b"
      },
      "execution_count": 26,
      "outputs": [
        {
          "output_type": "execute_result",
          "data": {
            "text/plain": [
              "<re.Match object; span=(4, 11), match='bar baz'>"
            ]
          },
          "metadata": {},
          "execution_count": 26
        }
      ]
    },
    {
      "cell_type": "code",
      "source": [
        "# | set of alternatives to match\n",
        "re.search('foo|bar|baz', 'bar')"
      ],
      "metadata": {
        "colab": {
          "base_uri": "https://localhost:8080/"
        },
        "id": "Fq6iGcDTCuEZ",
        "outputId": "7bf2a04d-3743-4cd2-fbe1-e24dbe8423ec"
      },
      "execution_count": 27,
      "outputs": [
        {
          "output_type": "execute_result",
          "data": {
            "text/plain": [
              "<re.Match object; span=(0, 3), match='bar'>"
            ]
          },
          "metadata": {},
          "execution_count": 27
        }
      ]
    },
    {
      "cell_type": "code",
      "source": [
        "# flags re.search(<regex>, <string>, <flags>)\n",
        "# re.I\n",
        "# re.IGNORECASE\n",
        "print(re.search('a+', 'aaaAAA', re.I)) #case insensitive\n"
      ],
      "metadata": {
        "colab": {
          "base_uri": "https://localhost:8080/"
        },
        "id": "LrrvsphjC4w5",
        "outputId": "edf4c85b-eb5f-494b-b62d-93d8c6b6423f"
      },
      "execution_count": 28,
      "outputs": [
        {
          "output_type": "stream",
          "name": "stdout",
          "text": [
            "<re.Match object; span=(0, 6), match='aaaAAA'>\n"
          ]
        }
      ]
    },
    {
      "cell_type": "code",
      "source": [
        "# re.M\n",
        "# re.MULTILINE\n",
        "# start of string end of string should match embeded newlines\n",
        "s = 'foo\\nbar\\nbaz'\n",
        "print(re.search('^foo', s, re.MULTILINE))\n",
        "print(re.search('^bar', s, re.MULTILINE))\n",
        "print(re.search('bar$', s, re.M))\n"
      ],
      "metadata": {
        "colab": {
          "base_uri": "https://localhost:8080/"
        },
        "id": "I3tvFyMiDaC8",
        "outputId": "9855ebd3-9ff7-4391-ca8d-73aa541881fd"
      },
      "execution_count": 29,
      "outputs": [
        {
          "output_type": "stream",
          "name": "stdout",
          "text": [
            "<re.Match object; span=(0, 3), match='foo'>\n",
            "<re.Match object; span=(4, 7), match='bar'>\n",
            "<re.Match object; span=(4, 7), match='bar'>\n"
          ]
        }
      ]
    },
    {
      "cell_type": "code",
      "source": [
        "# re.S\n",
        "# re.DOTALL\n",
        "# causes dot(.) metacharacter to match newline\n",
        "print(re.search('foo.bar', 'foo\\nbar'))\n",
        "print( re.search('foo.bar', 'foo\\nbar', re.DOTALL))\n",
        "print(re.search('foo.bar', 'foo\\nbar', re.S))\n"
      ],
      "metadata": {
        "colab": {
          "base_uri": "https://localhost:8080/"
        },
        "id": "SBSAubfpD-k3",
        "outputId": "23784f46-abb1-49f8-b3e6-9c222b242d46"
      },
      "execution_count": 30,
      "outputs": [
        {
          "output_type": "stream",
          "name": "stdout",
          "text": [
            "None\n",
            "<re.Match object; span=(0, 7), match='foo\\nbar'>\n",
            "<re.Match object; span=(0, 7), match='foo\\nbar'>\n"
          ]
        }
      ]
    },
    {
      "cell_type": "code",
      "source": [
        "# re.X\n",
        "# re.VERBOSE\n",
        "# allows inclusion of whitespace and comment\n",
        "regex = r'^(\\(\\d{3}\\))?\\s*\\d{3}[-.]\\d{4}$'\n",
        "print( re.search(regex, '414-9229', re.VERBOSE))\n",
        "print( re.search(regex, '(712) 414-9229', re.X))"
      ],
      "metadata": {
        "colab": {
          "base_uri": "https://localhost:8080/"
        },
        "id": "DUP8Kpt0EUMw",
        "outputId": "37f7dd4f-96e3-4fd6-9f39-8ffb18b0fcb0"
      },
      "execution_count": 31,
      "outputs": [
        {
          "output_type": "stream",
          "name": "stdout",
          "text": [
            "<re.Match object; span=(0, 8), match='414-9229'>\n",
            "<re.Match object; span=(0, 14), match='(712) 414-9229'>\n"
          ]
        }
      ]
    },
    {
      "cell_type": "code",
      "source": [
        "# re.DEBUG display debugging info\n",
        "re.search('foo.bar', 'fooxbar', re.DEBUG)\n"
      ],
      "metadata": {
        "colab": {
          "base_uri": "https://localhost:8080/"
        },
        "id": "U80CDwf9E4iP",
        "outputId": "9072c35e-7923-4b26-a480-cd2bd3f9c575"
      },
      "execution_count": 32,
      "outputs": [
        {
          "output_type": "stream",
          "name": "stdout",
          "text": [
            "LITERAL 102\n",
            "LITERAL 111\n",
            "LITERAL 111\n",
            "ANY None\n",
            "LITERAL 98\n",
            "LITERAL 97\n",
            "LITERAL 114\n",
            "\n",
            " 0. INFO 12 0b1 7 7 (to 13)\n",
            "      prefix_skip 3\n",
            "      prefix [0x66, 0x6f, 0x6f] ('foo')\n",
            "      overlap [0, 0, 0]\n",
            "13: LITERAL 0x66 ('f')\n",
            "15. LITERAL 0x6f ('o')\n",
            "17. LITERAL 0x6f ('o')\n",
            "19. ANY\n",
            "20. LITERAL 0x62 ('b')\n",
            "22. LITERAL 0x61 ('a')\n",
            "24. LITERAL 0x72 ('r')\n",
            "26. SUCCESS\n"
          ]
        },
        {
          "output_type": "execute_result",
          "data": {
            "text/plain": [
              "<re.Match object; span=(0, 7), match='fooxbar'>"
            ]
          },
          "metadata": {},
          "execution_count": 32
        }
      ]
    },
    {
      "cell_type": "code",
      "source": [
        "# re.ASCII ASCII encoding\n",
        "re.search('\\w+', s, re.ASCII)\n",
        "# re.UNICODE encoding\n",
        "re.search('\\w+', s, re.UNICODE)"
      ],
      "metadata": {
        "colab": {
          "base_uri": "https://localhost:8080/"
        },
        "id": "oSlc9KwGFbdK",
        "outputId": "b978a8ea-6408-43cc-9ec0-198b3168b086"
      },
      "execution_count": 33,
      "outputs": [
        {
          "output_type": "execute_result",
          "data": {
            "text/plain": [
              "<re.Match object; span=(0, 3), match='foo'>"
            ]
          },
          "metadata": {},
          "execution_count": 33
        }
      ]
    },
    {
      "cell_type": "code",
      "source": [
        "#combining flags argument\n",
        "re.search('^bar', 'FOO\\nBAR\\nBAZ', re.I|re.M)"
      ],
      "metadata": {
        "colab": {
          "base_uri": "https://localhost:8080/"
        },
        "id": "8kgDr5JcFt9C",
        "outputId": "6a25ec22-ae0c-403b-e0d6-caf1e0a944f3"
      },
      "execution_count": 34,
      "outputs": [
        {
          "output_type": "execute_result",
          "data": {
            "text/plain": [
              "<re.Match object; span=(4, 7), match='BAR'>"
            ]
          },
          "metadata": {},
          "execution_count": 34
        }
      ]
    },
    {
      "cell_type": "code",
      "source": [
        "# (?<set_flags>-<remove_flags>:<regex>) set or remove flag for duration of a group\n",
        "re.search('(?i:foo)bar', 'FOObar')"
      ],
      "metadata": {
        "colab": {
          "base_uri": "https://localhost:8080/"
        },
        "id": "OCDn6yw-F6DQ",
        "outputId": "f75c26c9-1e5c-4647-9f9c-abf010a5eafc"
      },
      "execution_count": 35,
      "outputs": [
        {
          "output_type": "execute_result",
          "data": {
            "text/plain": [
              "<re.Match object; span=(0, 6), match='FOObar'>"
            ]
          },
          "metadata": {},
          "execution_count": 35
        }
      ]
    }
  ]
}