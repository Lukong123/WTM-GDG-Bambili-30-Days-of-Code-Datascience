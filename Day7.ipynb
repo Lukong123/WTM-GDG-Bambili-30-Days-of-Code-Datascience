{
  "nbformat": 4,
  "nbformat_minor": 0,
  "metadata": {
    "colab": {
      "provenance": [],
      "authorship_tag": "ABX9TyNVqf9X3RRbXFO0emNLupHA"
    },
    "kernelspec": {
      "name": "python3",
      "display_name": "Python 3"
    },
    "language_info": {
      "name": "python"
    }
  },
  "cells": [
    {
      "cell_type": "code",
      "execution_count": 1,
      "metadata": {
        "id": "NUk-eUpTtBOD"
      },
      "outputs": [],
      "source": [
        "# Defining a dictionary\n",
        "MLB_team = dict([    \n",
        "    ('Colorado', 'Rockies'),\n",
        "    ('Boston', 'Red Sox'),\n",
        "    ('Minnesota', 'Twins'),\n",
        "    ('Milwaukee', 'Brewers'),\n",
        "    ('Seattle', 'Mariners')])\n",
        "\n",
        "# or you can definde a dictionary like this \n",
        "MLB_team = dict(\n",
        "Colorado='Rockies',\n",
        "Boston='Red Sox',\n",
        "Minnesota='Twins',\n",
        "Milwaukee='Brewers',\n",
        "Seattle='Mariners'\n",
        ")\n",
        " # or like this\n",
        "MLB_team = {'Colorado': 'Rockies', 'Boston': 'Red Sox', 'Minnesota': 'Twins',\n",
        "'Milwaukee': 'Brewers', 'Seattle': 'Mariners'}"
      ]
    },
    {
      "cell_type": "code",
      "source": [
        "# Accessing elements\n",
        "MLB_team['Minnesota']"
      ],
      "metadata": {
        "colab": {
          "base_uri": "https://localhost:8080/",
          "height": 35
        },
        "id": "qBiBbt1ywBtt",
        "outputId": "80737725-d870-4dfd-bdbb-efdd468a8c4d"
      },
      "execution_count": 2,
      "outputs": [
        {
          "output_type": "execute_result",
          "data": {
            "text/plain": [
              "'Twins'"
            ],
            "application/vnd.google.colaboratory.intrinsic+json": {
              "type": "string"
            }
          },
          "metadata": {},
          "execution_count": 2
        }
      ]
    },
    {
      "cell_type": "code",
      "source": [
        "# adding new entries\n",
        "MLB_team['Kansas City'] = 'Royals'"
      ],
      "metadata": {
        "id": "c8knvuakwJHD"
      },
      "execution_count": 3,
      "outputs": []
    },
    {
      "cell_type": "code",
      "source": [
        "# updating an entry\n",
        "MLB_team['Seattle'] = 'Sewhawks'"
      ],
      "metadata": {
        "id": "zdzCgO-0J2yj"
      },
      "execution_count": 10,
      "outputs": []
    },
    {
      "cell_type": "code",
      "source": [
        "del MLB_team['Seattle']\n",
        "print(MLB_team)"
      ],
      "metadata": {
        "colab": {
          "base_uri": "https://localhost:8080/"
        },
        "id": "7KZhQRV1ySjd",
        "outputId": "30df39c5-359e-48d3-a55c-2fa210f8f432"
      },
      "execution_count": 11,
      "outputs": [
        {
          "output_type": "stream",
          "name": "stdout",
          "text": [
            "{'Colorado': 'Rockies', 'Boston': 'Red Sox', 'Minnesota': 'Twins', 'Milwaukee': 'Brewers', 'Kansas City': 'Royals'}\n"
          ]
        }
      ]
    },
    {
      "cell_type": "code",
      "source": [
        "# dictionary key vs list indices\n",
        "MLB_team[1]\n"
      ],
      "metadata": {
        "colab": {
          "base_uri": "https://localhost:8080/",
          "height": 183
        },
        "id": "jfMXB82l04_e",
        "outputId": "bd57be1a-0aba-4f04-f121-dc789c142971"
      },
      "execution_count": 12,
      "outputs": [
        {
          "output_type": "error",
          "ename": "KeyError",
          "evalue": "ignored",
          "traceback": [
            "\u001b[0;31m---------------------------------------------------------------------------\u001b[0m",
            "\u001b[0;31mKeyError\u001b[0m                                  Traceback (most recent call last)",
            "\u001b[0;32m<ipython-input-12-d1b33bee2186>\u001b[0m in \u001b[0;36m<module>\u001b[0;34m\u001b[0m\n\u001b[1;32m      1\u001b[0m \u001b[0;31m# dictionary key vs list indices\u001b[0m\u001b[0;34m\u001b[0m\u001b[0;34m\u001b[0m\u001b[0;34m\u001b[0m\u001b[0m\n\u001b[0;32m----> 2\u001b[0;31m \u001b[0mMLB_team\u001b[0m\u001b[0;34m[\u001b[0m\u001b[0;36m1\u001b[0m\u001b[0;34m]\u001b[0m\u001b[0;34m\u001b[0m\u001b[0;34m\u001b[0m\u001b[0m\n\u001b[0m",
            "\u001b[0;31mKeyError\u001b[0m: 1"
          ]
        }
      ]
    },
    {
      "cell_type": "markdown",
      "source": [
        "python list indices can't work on python dictionary"
      ],
      "metadata": {
        "id": "eUUJeuWv1DK9"
      }
    },
    {
      "cell_type": "code",
      "source": [
        "# building a dictionary incrementally\n",
        "person = {}\n",
        "type(person)"
      ],
      "metadata": {
        "colab": {
          "base_uri": "https://localhost:8080/"
        },
        "id": "lUswuqSX1Xv6",
        "outputId": "4186b098-2bf5-4b95-b286-d3444dfef2a7"
      },
      "execution_count": 14,
      "outputs": [
        {
          "output_type": "execute_result",
          "data": {
            "text/plain": [
              "dict"
            ]
          },
          "metadata": {},
          "execution_count": 14
        }
      ]
    },
    {
      "cell_type": "code",
      "source": [
        "person['fname'] = 'Joe'\n",
        "person['lname'] = 'Fonebone'\n",
        "person['age'] = 51\n",
        "person['spouse'] = 'Edna'\n",
        "person['children'] = ['Ralph', 'Betty', 'Joey']\n",
        "person['pets'] = {'dog': 'Fido', 'cat': 'Sox'}\n",
        "person"
      ],
      "metadata": {
        "colab": {
          "base_uri": "https://localhost:8080/"
        },
        "id": "HUYMCK9s1k_y",
        "outputId": "ffa902a3-61c5-40d8-acad-2f81c7a890a8"
      },
      "execution_count": 17,
      "outputs": [
        {
          "output_type": "execute_result",
          "data": {
            "text/plain": [
              "{'fname': 'Joe',\n",
              " 'lname': 'Fonebone',\n",
              " 'age': 51,\n",
              " 'spouse': 'Edna',\n",
              " 'children': ['Ralph', 'Betty', 'Joey'],\n",
              " 'pets': {'dog': 'Fido', 'cat': 'Sox'}}"
            ]
          },
          "metadata": {},
          "execution_count": 17
        }
      ]
    },
    {
      "cell_type": "code",
      "source": [
        "# Retrieving the values in the sublist or subdictionary requires an additional index or key\n",
        "person[\"children\"][-1] # 'Joey'\n",
        "person['pets']['cat'] # 'Sox'"
      ],
      "metadata": {
        "colab": {
          "base_uri": "https://localhost:8080/",
          "height": 35
        },
        "id": "_UqY4yj815Ej",
        "outputId": "25206165-118b-4ce4-d2a4-3bc3ff9562e3"
      },
      "execution_count": 21,
      "outputs": [
        {
          "output_type": "execute_result",
          "data": {
            "text/plain": [
              "'Sox'"
            ],
            "application/vnd.google.colaboratory.intrinsic+json": {
              "type": "string"
            }
          },
          "metadata": {},
          "execution_count": 21
        }
      ]
    },
    {
      "cell_type": "code",
      "source": [
        "# keys in dictionary are not bound to be of thesame type\n",
        "foo = {42: 'aaa', 2.78: 'bbb', True: 'ccc'}"
      ],
      "metadata": {
        "id": "XgkNLFtX2cNy"
      },
      "execution_count": 23,
      "outputs": []
    },
    {
      "cell_type": "code",
      "source": [
        "# restriction on dictionary keys\n",
        "d = {(1, 1): 'a', (1, 2): 'b', (2, 1): 'c', (2, 2): 'd'}\n",
        "print(d[(1,1)]) # a tuple can be a key"
      ],
      "metadata": {
        "colab": {
          "base_uri": "https://localhost:8080/"
        },
        "id": "_aShxsP93sGk",
        "outputId": "a2c22dc1-7080-4346-c4d0-0523343bcb89"
      },
      "execution_count": 26,
      "outputs": [
        {
          "output_type": "stream",
          "name": "stdout",
          "text": [
            "a\n"
          ]
        }
      ]
    },
    {
      "cell_type": "markdown",
      "source": [
        "dictionary keys though it accepts some varieties of keys, it has some rules.\n",
        "\n",
        "*   A key must be unique\n",
        "*   A key can even be built-in objects like types and functions\n",
        "*   It can contain other immutable objects like keys\n",
        "\n"
      ],
      "metadata": {
        "id": "g3LbzrxI4Ajo"
      }
    },
    {
      "cell_type": "code",
      "source": [
        "d = {[1, 1]: 'a', [1, 2]: 'b', [2, 1]: 'c', [2, 2]: 'd'}\n",
        "d[[1, 1]]"
      ],
      "metadata": {
        "colab": {
          "base_uri": "https://localhost:8080/",
          "height": 183
        },
        "id": "HQD7UwXL4wtc",
        "outputId": "f61b3a3d-1e9b-4c1f-a9d4-eea9dd2935e9"
      },
      "execution_count": 27,
      "outputs": [
        {
          "output_type": "error",
          "ename": "TypeError",
          "evalue": "ignored",
          "traceback": [
            "\u001b[0;31m---------------------------------------------------------------------------\u001b[0m",
            "\u001b[0;31mTypeError\u001b[0m                                 Traceback (most recent call last)",
            "\u001b[0;32m<ipython-input-27-04c8147da080>\u001b[0m in \u001b[0;36m<module>\u001b[0;34m\u001b[0m\n\u001b[0;32m----> 1\u001b[0;31m \u001b[0md\u001b[0m \u001b[0;34m=\u001b[0m \u001b[0;34m{\u001b[0m\u001b[0;34m[\u001b[0m\u001b[0;36m1\u001b[0m\u001b[0;34m,\u001b[0m \u001b[0;36m1\u001b[0m\u001b[0;34m]\u001b[0m\u001b[0;34m:\u001b[0m \u001b[0;34m'a'\u001b[0m\u001b[0;34m,\u001b[0m \u001b[0;34m[\u001b[0m\u001b[0;36m1\u001b[0m\u001b[0;34m,\u001b[0m \u001b[0;36m2\u001b[0m\u001b[0;34m]\u001b[0m\u001b[0;34m:\u001b[0m \u001b[0;34m'b'\u001b[0m\u001b[0;34m,\u001b[0m \u001b[0;34m[\u001b[0m\u001b[0;36m2\u001b[0m\u001b[0;34m,\u001b[0m \u001b[0;36m1\u001b[0m\u001b[0;34m]\u001b[0m\u001b[0;34m:\u001b[0m \u001b[0;34m'c'\u001b[0m\u001b[0;34m,\u001b[0m \u001b[0;34m[\u001b[0m\u001b[0;36m2\u001b[0m\u001b[0;34m,\u001b[0m \u001b[0;36m2\u001b[0m\u001b[0;34m]\u001b[0m\u001b[0;34m:\u001b[0m \u001b[0;34m'd'\u001b[0m\u001b[0;34m}\u001b[0m\u001b[0;34m\u001b[0m\u001b[0;34m\u001b[0m\u001b[0m\n\u001b[0m\u001b[1;32m      2\u001b[0m \u001b[0md\u001b[0m\u001b[0;34m[\u001b[0m\u001b[0;34m[\u001b[0m\u001b[0;36m1\u001b[0m\u001b[0;34m,\u001b[0m \u001b[0;36m1\u001b[0m\u001b[0;34m]\u001b[0m\u001b[0;34m]\u001b[0m\u001b[0;34m\u001b[0m\u001b[0;34m\u001b[0m\u001b[0m\n",
            "\u001b[0;31mTypeError\u001b[0m: unhashable type: 'list'"
          ]
        }
      ]
    },
    {
      "cell_type": "markdown",
      "source": [
        "A list or dictionary cannot be a dictionary key"
      ],
      "metadata": {
        "id": "UEzajvEv41TN"
      }
    },
    {
      "cell_type": "code",
      "source": [
        "# Restiction on values\n",
        "d = {0: 'a', 1: 'a', 2: 'a', 3: 'a'}\n",
        "print(d)\n",
        "d[0]==d[1]==d[2]"
      ],
      "metadata": {
        "colab": {
          "base_uri": "https://localhost:8080/"
        },
        "id": "ITdhmqVj5D_I",
        "outputId": "9c88d7d5-d514-490a-f436-f72d365e3992"
      },
      "execution_count": 29,
      "outputs": [
        {
          "output_type": "stream",
          "name": "stdout",
          "text": [
            "{0: 'a', 1: 'a', 2: 'a', 3: 'a'}\n"
          ]
        },
        {
          "output_type": "execute_result",
          "data": {
            "text/plain": [
              "True"
            ]
          },
          "metadata": {},
          "execution_count": 29
        }
      ]
    },
    {
      "cell_type": "markdown",
      "source": [
        "No restrictions on values!"
      ],
      "metadata": {
        "id": "NPeS0hQY5QcG"
      }
    },
    {
      "cell_type": "code",
      "source": [
        "# Operators and built in function\n",
        "# usint the \"in\" and \"not in\" on dictionary\n",
        "'Milwaukee' in MLB_team"
      ],
      "metadata": {
        "colab": {
          "base_uri": "https://localhost:8080/"
        },
        "id": "mr0Lydnf5b_D",
        "outputId": "f0fd9ae4-0f2e-44a8-fc60-519de43d367b"
      },
      "execution_count": 31,
      "outputs": [
        {
          "output_type": "execute_result",
          "data": {
            "text/plain": [
              "True"
            ]
          },
          "metadata": {},
          "execution_count": 31
        }
      ]
    },
    {
      "cell_type": "code",
      "source": [
        "'Toronto' not in MLB_team"
      ],
      "metadata": {
        "colab": {
          "base_uri": "https://localhost:8080/"
        },
        "id": "tC-fzypl6nDV",
        "outputId": "02d6318c-a02e-4de4-a701-b46e6c97a570"
      },
      "execution_count": 33,
      "outputs": [
        {
          "output_type": "execute_result",
          "data": {
            "text/plain": [
              "True"
            ]
          },
          "metadata": {},
          "execution_count": 33
        }
      ]
    },
    {
      "cell_type": "code",
      "source": [
        "# \"in\" operator together with short circuit evaluation to avoid raising error\n",
        "'Toronto' in MLB_team and MLB_team['Toronto'] "
      ],
      "metadata": {
        "colab": {
          "base_uri": "https://localhost:8080/"
        },
        "id": "G0XqBXxh6r6B",
        "outputId": "324c78b9-254f-4652-be56-fb13813932c6"
      },
      "execution_count": 34,
      "outputs": [
        {
          "output_type": "execute_result",
          "data": {
            "text/plain": [
              "False"
            ]
          },
          "metadata": {},
          "execution_count": 34
        }
      ]
    },
    {
      "cell_type": "markdown",
      "source": [
        "The last statement is not evaluated since it is false so no error raised\n"
      ],
      "metadata": {
        "id": "0VJDqtZT7GtL"
      }
    },
    {
      "cell_type": "code",
      "source": [
        "# len returns the number of key-value pairs\n",
        "len(MLB_team)"
      ],
      "metadata": {
        "colab": {
          "base_uri": "https://localhost:8080/"
        },
        "id": "0zt5_E0F7OKo",
        "outputId": "7aee17e9-c321-4298-c616-3a1da22adc89"
      },
      "execution_count": 37,
      "outputs": [
        {
          "output_type": "execute_result",
          "data": {
            "text/plain": [
              "5"
            ]
          },
          "metadata": {},
          "execution_count": 37
        }
      ]
    },
    {
      "cell_type": "code",
      "source": [
        "# built in dicitoanary methods\n",
        "d\n",
        "d.clear() # deletes all the enteries of d\n",
        "d"
      ],
      "metadata": {
        "colab": {
          "base_uri": "https://localhost:8080/"
        },
        "id": "T8Bfq6k57cv2",
        "outputId": "05d8a035-297c-4aba-896b-4d7ad4c6af18"
      },
      "execution_count": 41,
      "outputs": [
        {
          "output_type": "execute_result",
          "data": {
            "text/plain": [
              "{}"
            ]
          },
          "metadata": {},
          "execution_count": 41
        }
      ]
    },
    {
      "cell_type": "code",
      "source": [
        "# d.get(<key>[, <default>])\n",
        "d = {'a': 10, 'b': 20, 'c': 30}\n",
        "print(d.get('b'))\n",
        "print(d.get('z'))"
      ],
      "metadata": {
        "colab": {
          "base_uri": "https://localhost:8080/"
        },
        "id": "f4FAHaFu7wFi",
        "outputId": "8bba9911-4ed0-4bfa-eebb-792740203d25"
      },
      "execution_count": 44,
      "outputs": [
        {
          "output_type": "stream",
          "name": "stdout",
          "text": [
            "20\n",
            "None\n"
          ]
        }
      ]
    },
    {
      "cell_type": "code",
      "source": [
        "print(d.get('z', -1))"
      ],
      "metadata": {
        "colab": {
          "base_uri": "https://localhost:8080/"
        },
        "id": "ekljrA2A8GKB",
        "outputId": "862310cb-6391-4a7d-a3b8-d6eb622cab15"
      },
      "execution_count": 45,
      "outputs": [
        {
          "output_type": "stream",
          "name": "stdout",
          "text": [
            "-1\n"
          ]
        }
      ]
    },
    {
      "cell_type": "markdown",
      "source": [
        "If the key is not found and and the optional <default> argument is specified, that value is returned instead of None"
      ],
      "metadata": {
        "id": "l3Spmm7l8Ihq"
      }
    },
    {
      "cell_type": "code",
      "source": [
        "# d.items() returns a list of key value pairs in a d\n",
        "d = {'a': 10, 'b': 20, 'c': 30}\n",
        "print(d)\n",
        "print(list(d.items()))\n",
        "print(list(d.items())[1][0])\n",
        "print(list(d.items())[1][1])"
      ],
      "metadata": {
        "colab": {
          "base_uri": "https://localhost:8080/"
        },
        "id": "MtzcbfzN8Vib",
        "outputId": "5eb06b64-cb05-4b53-9747-a833e63d89fc"
      },
      "execution_count": 51,
      "outputs": [
        {
          "output_type": "stream",
          "name": "stdout",
          "text": [
            "{'a': 10, 'b': 20, 'c': 30}\n",
            "[('a', 10), ('b', 20), ('c', 30)]\n",
            "b\n",
            "20\n"
          ]
        }
      ]
    },
    {
      "cell_type": "code",
      "source": [
        "# d.keys() returns a list of keys in the d\n",
        "list(d.keys())"
      ],
      "metadata": {
        "colab": {
          "base_uri": "https://localhost:8080/"
        },
        "id": "8Tniki1P9AC4",
        "outputId": "2fe75bd4-eeee-4fa9-a2e8-aca05381e0d2"
      },
      "execution_count": 54,
      "outputs": [
        {
          "output_type": "execute_result",
          "data": {
            "text/plain": [
              "['a', 'b', 'c']"
            ]
          },
          "metadata": {},
          "execution_count": 54
        }
      ]
    },
    {
      "cell_type": "code",
      "source": [
        "# d.values() returns a list of values in d\n",
        "# in case of a duplicate values all of it will be returned\n",
        "list(d.values())"
      ],
      "metadata": {
        "colab": {
          "base_uri": "https://localhost:8080/"
        },
        "id": "kjPZ06vW9T0P",
        "outputId": "62bfcb43-f6b3-4e7b-e870-89d830a7d85a"
      },
      "execution_count": 56,
      "outputs": [
        {
          "output_type": "execute_result",
          "data": {
            "text/plain": [
              "[10, 20, 30]"
            ]
          },
          "metadata": {},
          "execution_count": 56
        }
      ]
    },
    {
      "cell_type": "code",
      "source": [
        "# d.pop(<key>[, <default>]) removes a key in a dictionary and returns its value\n",
        "d = {'a': 10, 'b': 20, 'c': 30}\n",
        "print(d)\n",
        "print( d.pop('b'))\n",
        "print(d)"
      ],
      "metadata": {
        "colab": {
          "base_uri": "https://localhost:8080/"
        },
        "id": "FRTX-Hec9rsK",
        "outputId": "45c7fb93-8c82-477d-bd01-b537fd0c76d0"
      },
      "execution_count": 57,
      "outputs": [
        {
          "output_type": "stream",
          "name": "stdout",
          "text": [
            "{'a': 10, 'b': 20, 'c': 30}\n",
            "20\n",
            "{'a': 10, 'c': 30}\n"
          ]
        }
      ]
    },
    {
      "cell_type": "code",
      "source": [
        "d = {'a': 10, 'b': 20, 'c': 30}\n",
        "d.pop('z')"
      ],
      "metadata": {
        "colab": {
          "base_uri": "https://localhost:8080/",
          "height": 183
        },
        "id": "dNiviuCD-RBO",
        "outputId": "23327cbd-bf3d-4734-da35-c0fa913dbd0a"
      },
      "execution_count": 58,
      "outputs": [
        {
          "output_type": "error",
          "ename": "KeyError",
          "evalue": "ignored",
          "traceback": [
            "\u001b[0;31m---------------------------------------------------------------------------\u001b[0m",
            "\u001b[0;31mKeyError\u001b[0m                                  Traceback (most recent call last)",
            "\u001b[0;32m<ipython-input-58-c5c02d6cff06>\u001b[0m in \u001b[0;36m<module>\u001b[0;34m\u001b[0m\n\u001b[1;32m      1\u001b[0m \u001b[0md\u001b[0m \u001b[0;34m=\u001b[0m \u001b[0;34m{\u001b[0m\u001b[0;34m'a'\u001b[0m\u001b[0;34m:\u001b[0m \u001b[0;36m10\u001b[0m\u001b[0;34m,\u001b[0m \u001b[0;34m'b'\u001b[0m\u001b[0;34m:\u001b[0m \u001b[0;36m20\u001b[0m\u001b[0;34m,\u001b[0m \u001b[0;34m'c'\u001b[0m\u001b[0;34m:\u001b[0m \u001b[0;36m30\u001b[0m\u001b[0;34m}\u001b[0m\u001b[0;34m\u001b[0m\u001b[0;34m\u001b[0m\u001b[0m\n\u001b[0;32m----> 2\u001b[0;31m \u001b[0md\u001b[0m\u001b[0;34m.\u001b[0m\u001b[0mpop\u001b[0m\u001b[0;34m(\u001b[0m\u001b[0;34m'z'\u001b[0m\u001b[0;34m)\u001b[0m\u001b[0;34m\u001b[0m\u001b[0;34m\u001b[0m\u001b[0m\n\u001b[0m",
            "\u001b[0;31mKeyError\u001b[0m: 'z'"
          ]
        }
      ]
    },
    {
      "cell_type": "code",
      "source": [
        "d = {'a': 10, 'b': 20, 'c': 30}\n",
        "d.pop('z', -1)"
      ],
      "metadata": {
        "colab": {
          "base_uri": "https://localhost:8080/"
        },
        "id": "5sgvH2Dv-ZzC",
        "outputId": "c6564de6-72d5-435c-b0f2-bc5348b7c297"
      },
      "execution_count": 60,
      "outputs": [
        {
          "output_type": "execute_result",
          "data": {
            "text/plain": [
              "-1"
            ]
          },
          "metadata": {},
          "execution_count": 60
        }
      ]
    },
    {
      "cell_type": "markdown",
      "source": [
        "d.pop(<key>) raises a KeyError exception if <key> is not in d\n",
        "If <key> is not in d, and the optional <default> argument is specified, then that value is returned, and no exception is raised"
      ],
      "metadata": {
        "id": "2Jdgr-b4-CDn"
      }
    },
    {
      "cell_type": "code",
      "source": [
        "# d.popitem() removes the last key-value pair added in d and return it as a tuple\n",
        "d = {'a': 10, 'b': 20, 'c': 30}\n",
        "print(d.popitem())\n",
        "print(d)"
      ],
      "metadata": {
        "colab": {
          "base_uri": "https://localhost:8080/"
        },
        "id": "FhKeOJuq-oDL",
        "outputId": "b2769af9-37bf-4293-c232-25ab1a2592dc"
      },
      "execution_count": 61,
      "outputs": [
        {
          "output_type": "stream",
          "name": "stdout",
          "text": [
            "('c', 30)\n",
            "{'a': 10, 'b': 20}\n"
          ]
        }
      ]
    },
    {
      "cell_type": "markdown",
      "source": [
        "If d is empty, d.popitem() raises a KeyError exception"
      ],
      "metadata": {
        "id": "gnT3H2lO_C25"
      }
    },
    {
      "cell_type": "code",
      "source": [
        "# d.update(<obj>) Merges a dictionary with another dictionary or with an iterable of key-value pairs\n",
        "d1 = {'a': 10, 'b': 20, 'c': 30}\n",
        "d2 = {'b': 200, 'd': 400}\n",
        "d1.update(d2)\n",
        "d1"
      ],
      "metadata": {
        "colab": {
          "base_uri": "https://localhost:8080/"
        },
        "id": "tbyYf1hj_NxO",
        "outputId": "e9374c6b-1368-48a8-f51b-1d900acee0cd"
      },
      "execution_count": 64,
      "outputs": [
        {
          "output_type": "execute_result",
          "data": {
            "text/plain": [
              "{'a': 10, 'b': 200, 'c': 30, 'd': 400}"
            ]
          },
          "metadata": {},
          "execution_count": 64
        }
      ]
    },
    {
      "cell_type": "code",
      "source": [
        "# this equally works to update d1\n",
        "d1.update([('b', 200), ('d', 400)])\n",
        "d1.update(b=200, d=400)"
      ],
      "metadata": {
        "id": "CX7NPce9_oZD"
      },
      "execution_count": 66,
      "outputs": []
    }
  ]
}