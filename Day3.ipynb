{
  "nbformat": 4,
  "nbformat_minor": 0,
  "metadata": {
    "colab": {
      "provenance": [],
      "authorship_tag": "ABX9TyO8UVR/NGjVAx8kZpgfESM8",
      "include_colab_link": true
    },
    "kernelspec": {
      "name": "python3",
      "display_name": "Python 3"
    },
    "language_info": {
      "name": "python"
    }
  },
  "cells": [
    {
      "cell_type": "markdown",
      "metadata": {
        "id": "view-in-github",
        "colab_type": "text"
      },
      "source": [
        "<a href=\"https://colab.research.google.com/github/Lukong123/WTM-GDG-Bambili-30-Days-of-Code-Datascience/blob/main/Day3.ipynb\" target=\"_parent\"><img src=\"https://colab.research.google.com/assets/colab-badge.svg\" alt=\"Open In Colab\"/></a>"
      ]
    },
    {
      "cell_type": "code",
      "source": [
        "answer = 1+1\n",
        "print(answer)\n"
      ],
      "metadata": {
        "colab": {
          "base_uri": "https://localhost:8080/"
        },
        "id": "QcWsuL7-1nF2",
        "outputId": "fa5bd267-93a0-420a-f66a-d7b2e485f35f"
      },
      "execution_count": null,
      "outputs": [
        {
          "output_type": "stream",
          "name": "stdout",
          "text": [
            "2\n"
          ]
        }
      ]
    },
    {
      "cell_type": "code",
      "source": [
        "var1 = 2+2\n",
        "print(var1)\n",
        "# var1 data type is an interger"
      ],
      "metadata": {
        "colab": {
          "base_uri": "https://localhost:8080/"
        },
        "id": "fu1ah6o41v1G",
        "outputId": "694e8e8b-01ea-45b2-a228-34cbc257cd67"
      },
      "execution_count": null,
      "outputs": [
        {
          "output_type": "stream",
          "name": "stdout",
          "text": [
            "4\n"
          ]
        }
      ]
    },
    {
      "cell_type": "markdown",
      "source": [
        "var1 is assigned the value of 2+2"
      ],
      "metadata": {
        "id": "iDLypdXeGCd3"
      }
    },
    {
      "cell_type": "code",
      "source": [
        "var2 = 3+2/5\n",
        "print(var2)\n",
        "# var2 data type is a float"
      ],
      "metadata": {
        "colab": {
          "base_uri": "https://localhost:8080/"
        },
        "id": "9D-SMg3w2Gtc",
        "outputId": "96e27ef5-db59-4fa1-ec23-172ea563ea10"
      },
      "execution_count": null,
      "outputs": [
        {
          "output_type": "stream",
          "name": "stdout",
          "text": [
            "3.4\n"
          ]
        }
      ]
    },
    {
      "cell_type": "markdown",
      "source": [
        "var2 is assigned tge value 3+2/5"
      ],
      "metadata": {
        "id": "6P0qoVJkGLza"
      }
    },
    {
      "cell_type": "code",
      "source": [
        "var3 = 4*16\n",
        "print(var3)\n",
        "# var3 data type is an interger"
      ],
      "metadata": {
        "colab": {
          "base_uri": "https://localhost:8080/"
        },
        "id": "vMhAeyMN2VAB",
        "outputId": "e58f647b-f6aa-4a47-d917-b1d401c5b0b8"
      },
      "execution_count": 18,
      "outputs": [
        {
          "output_type": "stream",
          "name": "stdout",
          "text": [
            "64\n"
          ]
        }
      ]
    },
    {
      "cell_type": "markdown",
      "source": [
        "var3 is assigned the value 4 multiplied by 16"
      ],
      "metadata": {
        "id": "Ay8G7WubJxg_"
      }
    },
    {
      "cell_type": "code",
      "source": [
        "var4 = 4**6\n",
        "print(var4)\n",
        "# var4 data type is an interger"
      ],
      "metadata": {
        "colab": {
          "base_uri": "https://localhost:8080/"
        },
        "id": "J4_5qbZAEmb3",
        "outputId": "67a7af09-8931-4eb6-9b97-05965ff43fd8"
      },
      "execution_count": 21,
      "outputs": [
        {
          "output_type": "stream",
          "name": "stdout",
          "text": [
            "4096\n"
          ]
        }
      ]
    },
    {
      "cell_type": "markdown",
      "source": [
        "var4 is assigned the value 4 raised to the power 6"
      ],
      "metadata": {
        "id": "FiG-H3-dJ46M"
      }
    },
    {
      "cell_type": "code",
      "source": [
        "var5 = 'Hello' + ' ' + 'world'\n",
        "print(var5)\n",
        "# var5 data type is a string"
      ],
      "metadata": {
        "colab": {
          "base_uri": "https://localhost:8080/"
        },
        "id": "QVTepIaEE9Ha",
        "outputId": "cb550f91-3e59-4540-b1d0-c49b994e85bf"
      },
      "execution_count": 23,
      "outputs": [
        {
          "output_type": "stream",
          "name": "stdout",
          "text": [
            "Hello world\n"
          ]
        }
      ]
    },
    {
      "cell_type": "markdown",
      "source": [
        "var5 is assigned the value 'Hello' + ' ' + 'world'"
      ],
      "metadata": {
        "id": "SQWRRrEtJ-YU"
      }
    },
    {
      "cell_type": "code",
      "source": [
        "var6 = 'Hello world' * 6\n",
        "print(var6)\n",
        "# var6 dat type is a string "
      ],
      "metadata": {
        "colab": {
          "base_uri": "https://localhost:8080/"
        },
        "id": "yDj4xv8EFNTc",
        "outputId": "6db9a197-640b-487c-d64b-098bfc2580d8"
      },
      "execution_count": 26,
      "outputs": [
        {
          "output_type": "stream",
          "name": "stdout",
          "text": [
            "Hello worldHello worldHello worldHello worldHello worldHello world\n"
          ]
        }
      ]
    },
    {
      "cell_type": "markdown",
      "source": [
        "var6 is assigned the value 'Hellow world' multiplied by 6"
      ],
      "metadata": {
        "id": "9gmcp3LLKMkx"
      }
    },
    {
      "cell_type": "code",
      "source": [
        "var7 = 4%3\n",
        "print(var7)\n",
        "# data type of var7 is an interger"
      ],
      "metadata": {
        "colab": {
          "base_uri": "https://localhost:8080/"
        },
        "id": "hl4voGZmFlUX",
        "outputId": "947cb5a3-8d43-42ab-fa2f-7ce9bbf750e2"
      },
      "execution_count": 27,
      "outputs": [
        {
          "output_type": "stream",
          "name": "stdout",
          "text": [
            "1\n"
          ]
        }
      ]
    },
    {
      "cell_type": "markdown",
      "source": [
        "var7 is assigned the value 4 mod 3"
      ],
      "metadata": {
        "id": "Lz_aNktVKUAE"
      }
    }
  ]
}