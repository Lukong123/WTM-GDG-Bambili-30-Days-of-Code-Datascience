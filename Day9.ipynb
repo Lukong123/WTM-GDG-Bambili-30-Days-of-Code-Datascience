{
  "nbformat": 4,
  "nbformat_minor": 0,
  "metadata": {
    "colab": {
      "provenance": [],
      "authorship_tag": "ABX9TyNo9PZnbWrtA2JeEdTkjdHJ",
      "include_colab_link": true
    },
    "kernelspec": {
      "name": "python3",
      "display_name": "Python 3"
    },
    "language_info": {
      "name": "python"
    }
  },
  "cells": [
    {
      "cell_type": "markdown",
      "metadata": {
        "id": "view-in-github",
        "colab_type": "text"
      },
      "source": [
        "<a href=\"https://colab.research.google.com/github/Lukong123/WTM-GDG-Bambili-30-Days-of-Code-Datascience/blob/main/Day9.ipynb\" target=\"_parent\"><img src=\"https://colab.research.google.com/assets/colab-badge.svg\" alt=\"Open In Colab\"/></a>"
      ]
    },
    {
      "cell_type": "code",
      "execution_count": 4,
      "metadata": {
        "colab": {
          "base_uri": "https://localhost:8080/"
        },
        "id": "4Ay3HQsbN2zQ",
        "outputId": "e0908289-4e01-4316-a1cf-5ed3a6074c46"
      },
      "outputs": [
        {
          "output_type": "stream",
          "name": "stdout",
          "text": [
            "4\n",
            "3\n",
            "2\n",
            "1\n",
            "0\n"
          ]
        }
      ],
      "source": [
        "# while loop\n",
        "n = 5\n",
        "while n > 0:\n",
        "  n -= 1\n",
        "  print(n)"
      ]
    },
    {
      "cell_type": "code",
      "source": [
        "a = ['foo', 'bar', 'baz']\n",
        "while a:\n",
        "  print(a.pop(-1))"
      ],
      "metadata": {
        "colab": {
          "base_uri": "https://localhost:8080/"
        },
        "id": "q2RDDgInOtMK",
        "outputId": "fd5b29b7-af7f-4579-dfe7-446d49431a5a"
      },
      "execution_count": 5,
      "outputs": [
        {
          "output_type": "stream",
          "name": "stdout",
          "text": [
            "baz\n",
            "bar\n",
            "foo\n"
          ]
        }
      ]
    },
    {
      "cell_type": "code",
      "source": [
        "# break\n",
        "n = 5\n",
        "while n > 0:\n",
        "  n -= 1\n",
        "  if n==2:\n",
        "    break\n",
        "  print(n)\n",
        "print('Loop ended.')"
      ],
      "metadata": {
        "colab": {
          "base_uri": "https://localhost:8080/"
        },
        "id": "5_Q70q0vPE_k",
        "outputId": "de27d8c7-b2da-4728-f274-ec7b4153a1a8"
      },
      "execution_count": 7,
      "outputs": [
        {
          "output_type": "stream",
          "name": "stdout",
          "text": [
            "4\n",
            "3\n",
            "Loop ended.\n"
          ]
        }
      ]
    },
    {
      "cell_type": "code",
      "source": [
        "# continue\n",
        "n = 5\n",
        "while n > 0:\n",
        "  n -= 1\n",
        "  if n==2:\n",
        "    continue\n",
        "  print(n)\n",
        "print('Loop ended.')"
      ],
      "metadata": {
        "colab": {
          "base_uri": "https://localhost:8080/"
        },
        "id": "0c0QFZ9fPkGB",
        "outputId": "12c18606-8b69-4979-9aaa-e641ec380866"
      },
      "execution_count": 8,
      "outputs": [
        {
          "output_type": "stream",
          "name": "stdout",
          "text": [
            "4\n",
            "3\n",
            "1\n",
            "0\n",
            "Loop ended.\n"
          ]
        }
      ]
    },
    {
      "cell_type": "code",
      "source": [
        "# else clause\n",
        "n = 5\n",
        "while n > 0:\n",
        "  n -= 1\n",
        "  print(n)\n",
        "else:\n",
        "  print('Loop done.') # executed because the while loop was exhausted"
      ],
      "metadata": {
        "colab": {
          "base_uri": "https://localhost:8080/"
        },
        "id": "isKccd6lQ4fl",
        "outputId": "8d33c8b4-aee6-46d4-f98e-1d65490cc7ce"
      },
      "execution_count": 11,
      "outputs": [
        {
          "output_type": "stream",
          "name": "stdout",
          "text": [
            "4\n",
            "3\n",
            "2\n",
            "1\n",
            "0\n",
            "Loop done.\n"
          ]
        }
      ]
    },
    {
      "cell_type": "code",
      "source": [
        "n = 5\n",
        "while n > 0:\n",
        "  n -= 1\n",
        "  print(n)\n",
        "  if n==2:\n",
        "    break\n",
        "else:\n",
        "  print('Loop done.') # not executed because loop terminated by break not exhasuted"
      ],
      "metadata": {
        "colab": {
          "base_uri": "https://localhost:8080/"
        },
        "id": "sOHozTuaRWWg",
        "outputId": "96c1f22b-4e6e-46bf-9a1b-88294a3b6277"
      },
      "execution_count": 12,
      "outputs": [
        {
          "output_type": "stream",
          "name": "stdout",
          "text": [
            "4\n",
            "3\n",
            "2\n"
          ]
        }
      ]
    },
    {
      "cell_type": "code",
      "source": [
        "# infinite loop\n",
        "# while True:\n",
        "#   print('foo')"
      ],
      "metadata": {
        "id": "QXJaddXxR7fK"
      },
      "execution_count": 18,
      "outputs": []
    },
    {
      "cell_type": "code",
      "source": [
        "# nested while loop\n",
        "a = ['foo', 'bar']\n",
        "while len(a):\n",
        "  print(a.pop(0))\n",
        "  b = ['baz', 'qux']\n",
        "  while len(b):\n",
        "    print('>', b.pop(0))"
      ],
      "metadata": {
        "colab": {
          "base_uri": "https://localhost:8080/"
        },
        "id": "q5MM-AplSiBI",
        "outputId": "3c073af8-d154-480b-d954-1e1333b68b30"
      },
      "execution_count": 22,
      "outputs": [
        {
          "output_type": "stream",
          "name": "stdout",
          "text": [
            "foo\n",
            "> baz\n",
            "> qux\n",
            "bar\n",
            "> baz\n",
            "> qux\n"
          ]
        }
      ]
    },
    {
      "cell_type": "code",
      "source": [
        "# one-line while loop\n",
        "n = 5\n",
        "while n > 0: n -= 1; print(n)"
      ],
      "metadata": {
        "colab": {
          "base_uri": "https://localhost:8080/"
        },
        "id": "rUHDHle8TF5X",
        "outputId": "b495a819-bd66-485a-a872-98bc1d8af496"
      },
      "execution_count": 23,
      "outputs": [
        {
          "output_type": "stream",
          "name": "stdout",
          "text": [
            "4\n",
            "3\n",
            "2\n",
            "1\n",
            "0\n"
          ]
        }
      ]
    }
  ]
}