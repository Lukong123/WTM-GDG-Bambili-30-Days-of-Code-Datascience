{
  "nbformat": 4,
  "nbformat_minor": 0,
  "metadata": {
    "colab": {
      "provenance": [],
      "authorship_tag": "ABX9TyNQ9yCWu5v3sr9yOXwxsgSC",
      "include_colab_link": true
    },
    "kernelspec": {
      "name": "python3",
      "display_name": "Python 3"
    },
    "language_info": {
      "name": "python"
    }
  },
  "cells": [
    {
      "cell_type": "markdown",
      "metadata": {
        "id": "view-in-github",
        "colab_type": "text"
      },
      "source": [
        "<a href=\"https://colab.research.google.com/github/Lukong123/WTM-GDG-Bambili-30-Days-of-Code-Datascience/blob/main/Day6.ipynb\" target=\"_parent\"><img src=\"https://colab.research.google.com/assets/colab-badge.svg\" alt=\"Open In Colab\"/></a>"
      ]
    },
    {
      "cell_type": "code",
      "execution_count": 4,
      "metadata": {
        "colab": {
          "base_uri": "https://localhost:8080/"
        },
        "id": "Fa-Cefn6WAvG",
        "outputId": "ff070265-5f21-4fd8-9910-94181c0ee90b"
      },
      "outputs": [
        {
          "output_type": "stream",
          "name": "stdout",
          "text": [
            "{'bar', 'foo', 'qux', 'baz'}\n",
            "{'bar', 'foo', 'qux', 'baz'}\n"
          ]
        }
      ],
      "source": [
        "x = set(['foo', 'bar', 'baz', 'foo', 'qux'])\n",
        "print(x)\n",
        "\n",
        "x = set(('foo', 'bar', 'baz', 'foo', 'qux'))\n",
        "print(x)"
      ]
    },
    {
      "cell_type": "code",
      "source": [
        "# converting a text to a list\n",
        "s = 'quux'\n",
        "print(list(s))\n",
        "\n",
        "# converting a list to a set\n",
        "# the output proves that sets are unique and unordered\n",
        "print(set(s))\n"
      ],
      "metadata": {
        "colab": {
          "base_uri": "https://localhost:8080/"
        },
        "id": "WNy9cVD3Ws5I",
        "outputId": "d7d541ce-b87f-4a93-8f60-5553bc7a1aa5"
      },
      "execution_count": 7,
      "outputs": [
        {
          "output_type": "stream",
          "name": "stdout",
          "text": [
            "['q', 'u', 'u', 'x']\n",
            "{'u', 'x', 'q'}\n"
          ]
        }
      ]
    },
    {
      "cell_type": "code",
      "source": [
        "# sets can be defined in with curly braces too\n",
        "x = {'foo', 'bar', 'baz', 'foo', 'qux'}"
      ],
      "metadata": {
        "id": "pRYx5FThXqCZ"
      },
      "execution_count": null,
      "outputs": []
    },
    {
      "cell_type": "code",
      "source": [
        "# There's a difference using the keyword set to define a set and using curly braces\n",
        "c = print({'foo'})\n",
        "s = print(set('foo'))"
      ],
      "metadata": {
        "colab": {
          "base_uri": "https://localhost:8080/"
        },
        "id": "TQkwD3MKX4YW",
        "outputId": "db2838a7-4f56-41c0-a2b7-ccf0ad7b0b0b"
      },
      "execution_count": 15,
      "outputs": [
        {
          "output_type": "stream",
          "name": "stdout",
          "text": [
            "{'foo'}\n",
            "{'o', 'f'}\n"
          ]
        }
      ]
    },
    {
      "cell_type": "code",
      "source": [
        "# Defining an empty set\n",
        "x = set()\n",
        "print(type(x))\n",
        "s = {}\n",
        "print(type(s))"
      ],
      "metadata": {
        "colab": {
          "base_uri": "https://localhost:8080/"
        },
        "id": "HXx6BV2-X4RE",
        "outputId": "38173fab-faa2-4ebb-de6b-309d22707ec4"
      },
      "execution_count": 24,
      "outputs": [
        {
          "output_type": "stream",
          "name": "stdout",
          "text": [
            "<class 'set'>\n",
            "<class 'dict'>\n"
          ]
        }
      ]
    },
    {
      "cell_type": "markdown",
      "source": [
        "If we define an empty set using curly praces as such `{}`it will not be considered as a set but as a dictionary\n",
        "\n"
      ],
      "metadata": {
        "id": "iH5vCTvNYwRI"
      }
    },
    {
      "cell_type": "code",
      "source": [
        "# An empty set is falsely a boolean context\n",
        "x = set()\n",
        "print(bool(x))\n",
        "print(x or 1)\n",
        "print(x and 1)"
      ],
      "metadata": {
        "colab": {
          "base_uri": "https://localhost:8080/"
        },
        "id": "PHEwrL4eX4Ls",
        "outputId": "d5869532-9b3e-4655-e14f-70c21deefee7"
      },
      "execution_count": 22,
      "outputs": [
        {
          "output_type": "stream",
          "name": "stdout",
          "text": [
            "False\n",
            "1\n",
            "set()\n"
          ]
        }
      ]
    },
    {
      "cell_type": "code",
      "source": [
        "x = {42, 'foo', (1, 2, 3), 3.14159}\n",
        "print(x)"
      ],
      "metadata": {
        "colab": {
          "base_uri": "https://localhost:8080/"
        },
        "id": "O2RYKLaWaYvs",
        "outputId": "2ef34498-c31c-4188-f6e0-80a8b8e9bc0c"
      },
      "execution_count": 25,
      "outputs": [
        {
          "output_type": "stream",
          "name": "stdout",
          "text": [
            "{42, 3.14159, 'foo', (1, 2, 3)}\n"
          ]
        }
      ]
    },
    {
      "cell_type": "markdown",
      "source": [
        "Elements in a set must not be of thesame type and can contain a tuple since it is immutable"
      ],
      "metadata": {
        "id": "J2nA7BfAag5k"
      }
    },
    {
      "cell_type": "code",
      "source": [
        "a = [1, 2, 3]\n",
        "{a}\n",
        "d = {'a': 1, 'b': 2}\n",
        "print({d})"
      ],
      "metadata": {
        "colab": {
          "base_uri": "https://localhost:8080/",
          "height": 217
        },
        "id": "-iMfPpanaxgO",
        "outputId": "c702d08d-19c8-49ec-b6a1-a0ebfed65e14"
      },
      "execution_count": 29,
      "outputs": [
        {
          "output_type": "error",
          "ename": "TypeError",
          "evalue": "ignored",
          "traceback": [
            "\u001b[0;31m---------------------------------------------------------------------------\u001b[0m",
            "\u001b[0;31mTypeError\u001b[0m                                 Traceback (most recent call last)",
            "\u001b[0;32m<ipython-input-29-a7f707de0db5>\u001b[0m in \u001b[0;36m<module>\u001b[0;34m\u001b[0m\n\u001b[1;32m      1\u001b[0m \u001b[0ma\u001b[0m \u001b[0;34m=\u001b[0m \u001b[0;34m[\u001b[0m\u001b[0;36m1\u001b[0m\u001b[0;34m,\u001b[0m \u001b[0;36m2\u001b[0m\u001b[0;34m,\u001b[0m \u001b[0;36m3\u001b[0m\u001b[0;34m]\u001b[0m\u001b[0;34m\u001b[0m\u001b[0;34m\u001b[0m\u001b[0m\n\u001b[0;32m----> 2\u001b[0;31m \u001b[0;34m{\u001b[0m\u001b[0ma\u001b[0m\u001b[0;34m}\u001b[0m\u001b[0;34m\u001b[0m\u001b[0;34m\u001b[0m\u001b[0m\n\u001b[0m\u001b[1;32m      3\u001b[0m \u001b[0md\u001b[0m \u001b[0;34m=\u001b[0m \u001b[0;34m{\u001b[0m\u001b[0;34m'a'\u001b[0m\u001b[0;34m:\u001b[0m \u001b[0;36m1\u001b[0m\u001b[0;34m,\u001b[0m \u001b[0;34m'b'\u001b[0m\u001b[0;34m:\u001b[0m \u001b[0;36m2\u001b[0m\u001b[0;34m}\u001b[0m\u001b[0;34m\u001b[0m\u001b[0;34m\u001b[0m\u001b[0m\n\u001b[1;32m      4\u001b[0m \u001b[0mprint\u001b[0m\u001b[0;34m(\u001b[0m\u001b[0;34m{\u001b[0m\u001b[0md\u001b[0m\u001b[0;34m}\u001b[0m\u001b[0;34m)\u001b[0m\u001b[0;34m\u001b[0m\u001b[0;34m\u001b[0m\u001b[0m\n",
            "\u001b[0;31mTypeError\u001b[0m: unhashable type: 'list'"
          ]
        }
      ]
    },
    {
      "cell_type": "markdown",
      "source": [
        "list and dictionaries cannot be in a set since they are mutable."
      ],
      "metadata": {
        "id": "zxUToZGda6Te"
      }
    },
    {
      "cell_type": "code",
      "source": [
        "# set size and membership\n",
        "x = {'foo', 'bar', 'baz'}\n",
        "print(len(x))\n",
        "print('bar' in x)\n",
        "print('qux' in x)"
      ],
      "metadata": {
        "colab": {
          "base_uri": "https://localhost:8080/"
        },
        "id": "bziyAXa9bY1Z",
        "outputId": "bd9a0b56-e690-4169-e035-fe3fe4bbe076"
      },
      "execution_count": 32,
      "outputs": [
        {
          "output_type": "stream",
          "name": "stdout",
          "text": [
            "3\n",
            "True\n",
            "False\n"
          ]
        }
      ]
    },
    {
      "cell_type": "code",
      "source": [
        "# set union\n",
        "x1 = {'foo', 'bar', 'baz'}\n",
        "x2 = {'baz', 'qux', 'quux'}\n",
        "x1 | x2\n"
      ],
      "metadata": {
        "colab": {
          "base_uri": "https://localhost:8080/"
        },
        "id": "G_3IOwtYcCLT",
        "outputId": "1c40911a-191f-4e00-8268-6a1f6cc08f57"
      },
      "execution_count": 33,
      "outputs": [
        {
          "output_type": "execute_result",
          "data": {
            "text/plain": [
              "{'bar', 'baz', 'foo', 'quux', 'qux'}"
            ]
          },
          "metadata": {},
          "execution_count": 33
        }
      ]
    },
    {
      "cell_type": "markdown",
      "source": [
        "set union using the `|` operator"
      ],
      "metadata": {
        "id": "9KoGb1DycMN7"
      }
    },
    {
      "cell_type": "code",
      "source": [
        "x1.union(x2)"
      ],
      "metadata": {
        "colab": {
          "base_uri": "https://localhost:8080/"
        },
        "id": "I7SOQlGUcSf9",
        "outputId": "c309bfbe-adec-4b5d-c877-9dab286f1dea"
      },
      "execution_count": 34,
      "outputs": [
        {
          "output_type": "execute_result",
          "data": {
            "text/plain": [
              "{'bar', 'baz', 'foo', 'quux', 'qux'}"
            ]
          },
          "metadata": {},
          "execution_count": 34
        }
      ]
    },
    {
      "cell_type": "markdown",
      "source": [
        "set union using the `union` method."
      ],
      "metadata": {
        "id": "7qiFLRHZcXhg"
      }
    },
    {
      "cell_type": "code",
      "source": [
        "# set intersection\n",
        "x1.intersection(x2)\n",
        "x1 & x2"
      ],
      "metadata": {
        "colab": {
          "base_uri": "https://localhost:8080/"
        },
        "id": "UpPkfMBXf9lx",
        "outputId": "b59c942f-8ed7-467b-c53c-6e565661cf91"
      },
      "execution_count": 36,
      "outputs": [
        {
          "output_type": "execute_result",
          "data": {
            "text/plain": [
              "{'baz'}"
            ]
          },
          "metadata": {},
          "execution_count": 36
        }
      ]
    },
    {
      "cell_type": "markdown",
      "source": [
        "set intersection using the `intersection` method and the `&` operator."
      ],
      "metadata": {
        "id": "PNQ-K1O5gJHh"
      }
    },
    {
      "cell_type": "code",
      "source": [
        "# difference\n",
        "x1.difference(x2)\n",
        "x1 - x2"
      ],
      "metadata": {
        "colab": {
          "base_uri": "https://localhost:8080/"
        },
        "id": "hc3cGEJWh8M9",
        "outputId": "30e22e7e-00a3-47a3-aec2-587210d8f8a3"
      },
      "execution_count": 38,
      "outputs": [
        {
          "output_type": "execute_result",
          "data": {
            "text/plain": [
              "{'bar', 'foo'}"
            ]
          },
          "metadata": {},
          "execution_count": 38
        }
      ]
    },
    {
      "cell_type": "markdown",
      "source": [
        "set difference using the `difference` method and `-` operator.\n",
        "It returns all the elements which are in x1 but not in x2"
      ],
      "metadata": {
        "id": "3BKqKtnViIUZ"
      }
    },
    {
      "cell_type": "code",
      "source": [
        "# symetric difference\n",
        "x1.symmetric_difference(x2)\n",
        "x1 ^ x2"
      ],
      "metadata": {
        "colab": {
          "base_uri": "https://localhost:8080/"
        },
        "id": "25rxhFgRjP1y",
        "outputId": "1043f4af-b765-439b-f27f-b5f11dbcbfff"
      },
      "execution_count": 40,
      "outputs": [
        {
          "output_type": "execute_result",
          "data": {
            "text/plain": [
              "{'bar', 'foo', 'quux', 'qux'}"
            ]
          },
          "metadata": {},
          "execution_count": 40
        }
      ]
    },
    {
      "cell_type": "markdown",
      "source": [
        "The symetric difference for set can be done using the `symetric_difference` method or the `^` operator.\n",
        "symetric difference returns elements either in x1 or x2 but not both."
      ],
      "metadata": {
        "id": "cIY6GSuLjcXL"
      }
    },
    {
      "cell_type": "code",
      "source": [
        "# Disjoint\n",
        "x1.isdisjoint(x2)"
      ],
      "metadata": {
        "colab": {
          "base_uri": "https://localhost:8080/"
        },
        "id": "6WcMtF7ekRMb",
        "outputId": "422ea8dc-320b-4507-f6db-deb3648eb990"
      },
      "execution_count": 41,
      "outputs": [
        {
          "output_type": "execute_result",
          "data": {
            "text/plain": [
              "False"
            ]
          },
          "metadata": {},
          "execution_count": 41
        }
      ]
    },
    {
      "cell_type": "markdown",
      "source": [
        "`isdisjoint` determines wether or not two elements have anything in common.\n",
        "isdisjoint does not have any operator to prove it."
      ],
      "metadata": {
        "id": "9KgJ-bjwkV_W"
      }
    },
    {
      "cell_type": "code",
      "source": [
        "# subset\n",
        "x1.issubset(x2)\n",
        "x1 <= x2"
      ],
      "metadata": {
        "colab": {
          "base_uri": "https://localhost:8080/"
        },
        "id": "3lVIQQ-iksvy",
        "outputId": "69973e35-be4d-46f7-c0ff-43dedd1d49a8"
      },
      "execution_count": 43,
      "outputs": [
        {
          "output_type": "execute_result",
          "data": {
            "text/plain": [
              "False"
            ]
          },
          "metadata": {},
          "execution_count": 43
        }
      ]
    },
    {
      "cell_type": "markdown",
      "source": [
        "`issubset` determines wether one set is subset of the other it has as operator `<=`.\n"
      ],
      "metadata": {
        "id": "U3WHxkxpkvNQ"
      }
    },
    {
      "cell_type": "code",
      "source": [
        "# proper subset\n",
        "x1 < x2"
      ],
      "metadata": {
        "colab": {
          "base_uri": "https://localhost:8080/"
        },
        "id": "I0PIAYAmlEcb",
        "outputId": "5952c7f3-7d6b-4f57-aeaf-df784a4a9f56"
      },
      "execution_count": 44,
      "outputs": [
        {
          "output_type": "execute_result",
          "data": {
            "text/plain": [
              "False"
            ]
          },
          "metadata": {},
          "execution_count": 44
        }
      ]
    },
    {
      "cell_type": "markdown",
      "source": [
        "`<` determines if one set is the proper subset of the other"
      ],
      "metadata": {
        "id": "8V9Bt6x2lHZi"
      }
    },
    {
      "cell_type": "code",
      "source": [
        "# super set\n",
        "x1.issuperset(x2)\n",
        "x1 >= x2"
      ],
      "metadata": {
        "colab": {
          "base_uri": "https://localhost:8080/"
        },
        "id": "SVADBHYOlR6Z",
        "outputId": "76f9e3c5-9b7b-4ba5-d2a4-c604d5233444"
      },
      "execution_count": 45,
      "outputs": [
        {
          "output_type": "execute_result",
          "data": {
            "text/plain": [
              "False"
            ]
          },
          "metadata": {},
          "execution_count": 45
        }
      ]
    },
    {
      "cell_type": "markdown",
      "source": [
        "`issuperset` used to determine if a set is a super set of the other and it has as operator `>=`."
      ],
      "metadata": {
        "id": "vjMIehs6lVXB"
      }
    },
    {
      "cell_type": "code",
      "source": [
        "# proper superset\n",
        "x1 > x2"
      ],
      "metadata": {
        "colab": {
          "base_uri": "https://localhost:8080/"
        },
        "id": "UAFlp-6YlhQR",
        "outputId": "ec27a3ff-9843-41b2-a958-251adc1861c3"
      },
      "execution_count": 46,
      "outputs": [
        {
          "output_type": "execute_result",
          "data": {
            "text/plain": [
              "False"
            ]
          },
          "metadata": {},
          "execution_count": 46
        }
      ]
    },
    {
      "cell_type": "markdown",
      "source": [
        "`>` use to determine if a set is a proper superset of the other."
      ],
      "metadata": {
        "id": "uGUgZ5wrlmA1"
      }
    },
    {
      "cell_type": "code",
      "source": [
        "# Modifying set\n",
        "x1 = {'foo', 'bar', 'baz'}\n",
        "x2 = {'foo', 'baz', 'qux'}\n",
        "x1 |= x2 # it add the element of x2 to x1\n",
        "x1"
      ],
      "metadata": {
        "colab": {
          "base_uri": "https://localhost:8080/"
        },
        "id": "PmsV4YASmBy-",
        "outputId": "238795fc-4ce7-43b4-e775-311d91d8e3f5"
      },
      "execution_count": 48,
      "outputs": [
        {
          "output_type": "execute_result",
          "data": {
            "text/plain": [
              "{'bar', 'baz', 'foo', 'qux'}"
            ]
          },
          "metadata": {},
          "execution_count": 48
        }
      ]
    },
    {
      "cell_type": "code",
      "source": [
        "x1.update(['corge', 'garply']) # updates\n",
        "x1 "
      ],
      "metadata": {
        "colab": {
          "base_uri": "https://localhost:8080/"
        },
        "id": "Jy9y28eJmYnV",
        "outputId": "117e8387-9d1d-414e-905f-ec40c078bdff"
      },
      "execution_count": 50,
      "outputs": [
        {
          "output_type": "execute_result",
          "data": {
            "text/plain": [
              "{'bar', 'baz', 'corge', 'foo', 'garply', 'qux'}"
            ]
          },
          "metadata": {},
          "execution_count": 50
        }
      ]
    },
    {
      "cell_type": "code",
      "source": [
        "# intersection upadate\n",
        "x1 = {'foo', 'bar', 'baz'}\n",
        "x2 = {'foo', 'baz', 'qux'}\n",
        "x1 &= x2 \n",
        "print(x1)\n",
        "x1.intersection_update(['baz', 'qux'])\n",
        "print(x1)"
      ],
      "metadata": {
        "colab": {
          "base_uri": "https://localhost:8080/"
        },
        "id": "lZyI3Pf5ljeM",
        "outputId": "6d864f67-a123-4bfd-8f8f-13df87ee3c38"
      },
      "execution_count": 54,
      "outputs": [
        {
          "output_type": "stream",
          "name": "stdout",
          "text": [
            "{'foo', 'baz'}\n",
            "{'baz'}\n"
          ]
        }
      ]
    },
    {
      "cell_type": "markdown",
      "source": [
        "`intersection_update` retains elements found in both x1 and x2 only having as operator `&=`"
      ],
      "metadata": {
        "id": "h6Jl_KNLnVWa"
      }
    },
    {
      "cell_type": "code",
      "source": [
        "# difference update\n",
        "x1 = {'foo', 'bar', 'baz'}\n",
        "x2 = {'foo', 'baz', 'qux'}\n",
        "x1 -= x2\n",
        "print(x1)\n",
        "x1.difference_update(['foo', 'bar', 'qux'])\n",
        "print(x1)"
      ],
      "metadata": {
        "colab": {
          "base_uri": "https://localhost:8080/"
        },
        "id": "aSPd5hcrngk3",
        "outputId": "d003b8ab-2183-4335-b8e2-c05b0d2936dd"
      },
      "execution_count": 55,
      "outputs": [
        {
          "output_type": "stream",
          "name": "stdout",
          "text": [
            "{'bar'}\n",
            "set()\n"
          ]
        }
      ]
    },
    {
      "cell_type": "markdown",
      "source": [
        "`difference_update` with operator `-=` updates x1 by removing elements in x2."
      ],
      "metadata": {
        "id": "5AQDpK38nxwY"
      }
    },
    {
      "cell_type": "code",
      "source": [
        "# symetric difference update\n",
        "x1 = {'foo', 'bar', 'baz'}\n",
        "x2 = {'foo', 'baz', 'qux'}\n",
        "x1 ^= x2\n",
        "print(x1)\n",
        "x1.symmetric_difference_update(['qux', 'corge'])\n",
        "print(x1)"
      ],
      "metadata": {
        "colab": {
          "base_uri": "https://localhost:8080/"
        },
        "id": "J7nkQ_VcoMLH",
        "outputId": "3819cb0f-75f6-447b-9526-dbb2d258643a"
      },
      "execution_count": 56,
      "outputs": [
        {
          "output_type": "stream",
          "name": "stdout",
          "text": [
            "{'bar', 'qux'}\n",
            "{'corge', 'bar'}\n"
          ]
        }
      ]
    },
    {
      "cell_type": "markdown",
      "source": [
        "`symetric_difference` with operator `^=` update x1, retaining elements found in either x1 or x2, but not both:"
      ],
      "metadata": {
        "id": "1UWT6gHpoeIF"
      }
    },
    {
      "cell_type": "code",
      "source": [
        "# add\n",
        "x = {'foo', 'bar', 'baz'}\n",
        "x.add('qux')\n",
        "x"
      ],
      "metadata": {
        "colab": {
          "base_uri": "https://localhost:8080/"
        },
        "id": "S9oY5PRvoxV0",
        "outputId": "8c66696e-94fd-444a-b322-b4a86d85635d"
      },
      "execution_count": 57,
      "outputs": [
        {
          "output_type": "execute_result",
          "data": {
            "text/plain": [
              "{'bar', 'baz', 'foo', 'qux'}"
            ]
          },
          "metadata": {},
          "execution_count": 57
        }
      ]
    },
    {
      "cell_type": "code",
      "source": [
        "# remove\n",
        "x = {'foo', 'bar', 'baz'}\n",
        "x.remove('baz')\n",
        "x"
      ],
      "metadata": {
        "colab": {
          "base_uri": "https://localhost:8080/"
        },
        "id": "Tva2DkmLo90s",
        "outputId": "d8cc8fc4-b120-4d7b-a771-b1afec1df967"
      },
      "execution_count": 58,
      "outputs": [
        {
          "output_type": "execute_result",
          "data": {
            "text/plain": [
              "{'bar', 'foo'}"
            ]
          },
          "metadata": {},
          "execution_count": 58
        }
      ]
    },
    {
      "cell_type": "code",
      "source": [
        "# discard\n",
        "x = {'foo', 'bar', 'baz'}\n",
        "x.discard('baz') # discard is different from remove in the sense that if the elemet to remove is not present it won't raise an error.\n",
        "x"
      ],
      "metadata": {
        "colab": {
          "base_uri": "https://localhost:8080/"
        },
        "id": "XSQRiqc4paes",
        "outputId": "dbd73de3-0456-468c-a21a-fdd4d1a69297"
      },
      "execution_count": 59,
      "outputs": [
        {
          "output_type": "execute_result",
          "data": {
            "text/plain": [
              "{'bar', 'foo'}"
            ]
          },
          "metadata": {},
          "execution_count": 59
        }
      ]
    },
    {
      "cell_type": "code",
      "source": [
        "# pop (removes random element)\n",
        "x = {'foo', 'bar', 'baz'}\n",
        "x.pop()\n",
        "x"
      ],
      "metadata": {
        "colab": {
          "base_uri": "https://localhost:8080/"
        },
        "id": "IFhgfjX8pyW-",
        "outputId": "cd0d0a36-1b1a-4c8c-ef8b-4ffd80c2ebbb"
      },
      "execution_count": 60,
      "outputs": [
        {
          "output_type": "execute_result",
          "data": {
            "text/plain": [
              "{'baz', 'foo'}"
            ]
          },
          "metadata": {},
          "execution_count": 60
        }
      ]
    },
    {
      "cell_type": "code",
      "source": [
        "# clear\n",
        "x = {'foo', 'bar', 'baz'}\n",
        "x.clear()\n",
        "x"
      ],
      "metadata": {
        "colab": {
          "base_uri": "https://localhost:8080/"
        },
        "id": "J-KCOw6Qp8ue",
        "outputId": "767d5b5a-df29-4108-a828-d204c139908d"
      },
      "execution_count": 62,
      "outputs": [
        {
          "output_type": "execute_result",
          "data": {
            "text/plain": [
              "set()"
            ]
          },
          "metadata": {},
          "execution_count": 62
        }
      ]
    },
    {
      "cell_type": "code",
      "source": [
        "# Frozen set\n",
        "x = frozenset(['foo', 'bar', 'baz'])\n",
        "print(x)\n",
        "\n",
        "print(x & {'baz', 'qux', 'quux'})"
      ],
      "metadata": {
        "colab": {
          "base_uri": "https://localhost:8080/"
        },
        "id": "FO_fHVR2qNZf",
        "outputId": "64aef056-9e08-4e15-f40c-42c302d2601c"
      },
      "execution_count": 64,
      "outputs": [
        {
          "output_type": "stream",
          "name": "stdout",
          "text": [
            "frozenset({'bar', 'foo', 'baz'})\n",
            "frozenset({'baz'})\n"
          ]
        }
      ]
    },
    {
      "cell_type": "code",
      "source": [
        "x.add('qux')"
      ],
      "metadata": {
        "colab": {
          "base_uri": "https://localhost:8080/",
          "height": 165
        },
        "id": "cOgSFYY-q0n2",
        "outputId": "8c8051d6-f471-4090-ee00-8aa05f8cd62a"
      },
      "execution_count": 65,
      "outputs": [
        {
          "output_type": "error",
          "ename": "AttributeError",
          "evalue": "ignored",
          "traceback": [
            "\u001b[0;31m---------------------------------------------------------------------------\u001b[0m",
            "\u001b[0;31mAttributeError\u001b[0m                            Traceback (most recent call last)",
            "\u001b[0;32m<ipython-input-65-4a49b2349c7e>\u001b[0m in \u001b[0;36m<module>\u001b[0;34m\u001b[0m\n\u001b[0;32m----> 1\u001b[0;31m \u001b[0mx\u001b[0m\u001b[0;34m.\u001b[0m\u001b[0madd\u001b[0m\u001b[0;34m(\u001b[0m\u001b[0;34m'qux'\u001b[0m\u001b[0;34m)\u001b[0m\u001b[0;34m\u001b[0m\u001b[0;34m\u001b[0m\u001b[0m\n\u001b[0m",
            "\u001b[0;31mAttributeError\u001b[0m: 'frozenset' object has no attribute 'add'"
          ]
        }
      ]
    },
    {
      "cell_type": "markdown",
      "source": [
        "Frozen set does not allow modification"
      ],
      "metadata": {
        "id": "ELe_AZsQq2WC"
      }
    },
    {
      "cell_type": "code",
      "source": [
        "f = frozenset(['foo', 'bar', 'baz'])\n",
        "s = {'baz', 'qux', 'quux'}\n",
        "f &= s\n",
        "f"
      ],
      "metadata": {
        "colab": {
          "base_uri": "https://localhost:8080/"
        },
        "id": "ad5Njj86q8MD",
        "outputId": "4bbc2e4a-5c1c-493d-f676-636b173ce728"
      },
      "execution_count": 66,
      "outputs": [
        {
          "output_type": "execute_result",
          "data": {
            "text/plain": [
              "frozenset({'baz'})"
            ]
          },
          "metadata": {},
          "execution_count": 66
        }
      ]
    },
    {
      "cell_type": "markdown",
      "source": [
        "The above code works because the set is not been modified but reassigned. This can be verified by checking the id by using `id(f)`"
      ],
      "metadata": {
        "id": "fP47LjjdrJ5C"
      }
    },
    {
      "cell_type": "code",
      "source": [
        "x1 = set(['foo'])\n",
        "x2 = set(['bar'])\n",
        "x3 = set(['baz'])\n",
        "x = {x1, x2, x3}"
      ],
      "metadata": {
        "colab": {
          "base_uri": "https://localhost:8080/",
          "height": 200
        },
        "id": "jeVSymukrymR",
        "outputId": "2aac25d8-6852-4d09-d2bf-04d266e0ec57"
      },
      "execution_count": 67,
      "outputs": [
        {
          "output_type": "error",
          "ename": "TypeError",
          "evalue": "ignored",
          "traceback": [
            "\u001b[0;31m---------------------------------------------------------------------------\u001b[0m",
            "\u001b[0;31mTypeError\u001b[0m                                 Traceback (most recent call last)",
            "\u001b[0;32m<ipython-input-67-5a2ba5c48252>\u001b[0m in \u001b[0;36m<module>\u001b[0;34m\u001b[0m\n\u001b[1;32m      2\u001b[0m \u001b[0mx2\u001b[0m \u001b[0;34m=\u001b[0m \u001b[0mset\u001b[0m\u001b[0;34m(\u001b[0m\u001b[0;34m[\u001b[0m\u001b[0;34m'bar'\u001b[0m\u001b[0;34m]\u001b[0m\u001b[0;34m)\u001b[0m\u001b[0;34m\u001b[0m\u001b[0;34m\u001b[0m\u001b[0m\n\u001b[1;32m      3\u001b[0m \u001b[0mx3\u001b[0m \u001b[0;34m=\u001b[0m \u001b[0mset\u001b[0m\u001b[0;34m(\u001b[0m\u001b[0;34m[\u001b[0m\u001b[0;34m'baz'\u001b[0m\u001b[0;34m]\u001b[0m\u001b[0;34m)\u001b[0m\u001b[0;34m\u001b[0m\u001b[0;34m\u001b[0m\u001b[0m\n\u001b[0;32m----> 4\u001b[0;31m \u001b[0mx\u001b[0m \u001b[0;34m=\u001b[0m \u001b[0;34m{\u001b[0m\u001b[0mx1\u001b[0m\u001b[0;34m,\u001b[0m \u001b[0mx2\u001b[0m\u001b[0;34m,\u001b[0m \u001b[0mx3\u001b[0m\u001b[0;34m}\u001b[0m\u001b[0;34m\u001b[0m\u001b[0;34m\u001b[0m\u001b[0m\n\u001b[0m",
            "\u001b[0;31mTypeError\u001b[0m: unhashable type: 'set'"
          ]
        }
      ]
    },
    {
      "cell_type": "code",
      "source": [
        "x1 = frozenset(['foo'])\n",
        "x2 = frozenset(['bar'])\n",
        "x3 = frozenset(['baz'])\n",
        "x = {x1, x2, x3} # works when the set elements are frozensets\n",
        "x"
      ],
      "metadata": {
        "colab": {
          "base_uri": "https://localhost:8080/"
        },
        "id": "nt9H52g6r2jC",
        "outputId": "0f41297c-f3f2-4e58-f794-f2a88e777370"
      },
      "execution_count": 68,
      "outputs": [
        {
          "output_type": "execute_result",
          "data": {
            "text/plain": [
              "{frozenset({'bar'}), frozenset({'baz'}), frozenset({'foo'})}"
            ]
          },
          "metadata": {},
          "execution_count": 68
        }
      ]
    },
    {
      "cell_type": "code",
      "source": [
        "x = frozenset({1, 2, 3})\n",
        "y = frozenset({'a', 'b', 'c'})\n",
        "d = {x: 'foo', y: 'bar'} # works for frozensets and not normal sets\n",
        "d"
      ],
      "metadata": {
        "id": "JjtnYWRdsKc3"
      },
      "execution_count": null,
      "outputs": []
    }
  ]
}